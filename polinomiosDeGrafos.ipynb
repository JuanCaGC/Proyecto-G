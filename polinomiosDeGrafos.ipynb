{
 "cells": [
  {
   "cell_type": "code",
   "execution_count": 1,
   "metadata": {},
   "outputs": [],
   "source": [
    "using Oscar"
   ]
  },
  {
   "cell_type": "code",
   "execution_count": 2,
   "metadata": {},
   "outputs": [],
   "source": [
    "using GraphPlot"
   ]
  },
  {
   "cell_type": "code",
   "execution_count": 3,
   "metadata": {},
   "outputs": [
    {
     "data": {
      "text/plain": [
       "0"
      ]
     },
     "metadata": {},
     "output_type": "display_data"
    }
   ],
   "source": [
    "g = Graph{Undirected}(5)\n",
    "add_edge!(g, 1, 2)\n",
    "add_edge!(g, 1, 3)\n",
    "add_edge!(g, 2, 4)\n",
    "add_edge!(g, 2, 5)"
   ]
  },
  {
   "cell_type": "code",
   "execution_count": 4,
   "metadata": {},
   "outputs": [
    {
     "data": {
      "text/plain": [
       "Edge(2, 1)"
      ]
     },
     "metadata": {},
     "output_type": "display_data"
    }
   ],
   "source": [
    "e = collect(edges(g))[1]"
   ]
  },
  {
   "cell_type": "code",
   "execution_count": 5,
   "metadata": {},
   "outputs": [
    {
     "data": {
      "text/plain": [
       "1"
      ]
     },
     "metadata": {},
     "output_type": "display_data"
    }
   ],
   "source": [
    "dst(e)"
   ]
  },
  {
   "cell_type": "code",
   "execution_count": 6,
   "metadata": {},
   "outputs": [
    {
     "data": {
      "text/plain": [
       "2"
      ]
     },
     "metadata": {},
     "output_type": "display_data"
    }
   ],
   "source": [
    "src(e)"
   ]
  },
  {
   "cell_type": "code",
   "execution_count": 7,
   "metadata": {},
   "outputs": [
    {
     "data": {
      "text/plain": [
       "(Multivariate Polynomial Ring in x1, x2, x3, x4, x5 over Rational Field, fmpq_mpoly[x1, x2, x3, x4, x5])"
      ]
     },
     "metadata": {},
     "output_type": "display_data"
    }
   ],
   "source": [
    "T, x = PolynomialRing(QQ, [\"x$i\" for i in 1:nv(g)])"
   ]
  },
  {
   "cell_type": "code",
   "execution_count": 8,
   "metadata": {},
   "outputs": [
    {
     "data": {
      "text/plain": [
       "5-element Vector{fmpq_mpoly}:\n",
       " x1^6 - 1\n",
       " x2^6 - 1\n",
       " x3^6 - 1\n",
       " x4^6 - 1\n",
       " x5^6 - 1"
      ]
     },
     "metadata": {},
     "output_type": "display_data"
    }
   ],
   "source": [
    "k=6\n",
    "polis = [T[j]^k-1 for j in 1:nv(g)]\n"
   ]
  },
  {
   "cell_type": "code",
   "execution_count": 9,
   "metadata": {},
   "outputs": [
    {
     "data": {
      "text/plain": [
       "4×6 Matrix{fmpq_mpoly}:\n",
       " x2^5  x1*x2^4  x1^2*x2^3  x1^3*x2^2  x1^4*x2  x1^5\n",
       " x3^5  x1*x3^4  x1^2*x3^3  x1^3*x3^2  x1^4*x3  x1^5\n",
       " x4^5  x2*x4^4  x2^2*x4^3  x2^3*x4^2  x2^4*x4  x2^5\n",
       " x5^5  x2*x5^4  x2^2*x5^3  x2^3*x5^2  x2^4*x5  x2^5"
      ]
     },
     "metadata": {},
     "output_type": "display_data"
    }
   ],
   "source": [
    "polis2 = [T[src(r)]^(k-1-l) * T[dst(r)]^(l) for r in collect(edges(g)), l in 0:k-1]"
   ]
  },
  {
   "cell_type": "code",
   "execution_count": 10,
   "metadata": {},
   "outputs": [
    {
     "data": {
      "text/plain": [
       "4×1 Matrix{fmpq_mpoly}:\n",
       " x1^5 + x1^4*x2 + x1^3*x2^2 + x1^2*x2^3 + x1*x2^4 + x2^5\n",
       " x1^5 + x1^4*x3 + x1^3*x3^2 + x1^2*x3^3 + x1*x3^4 + x3^5\n",
       " x2^5 + x2^4*x4 + x2^3*x4^2 + x2^2*x4^3 + x2*x4^4 + x4^5\n",
       " x2^5 + x2^4*x5 + x2^3*x5^2 + x2^2*x5^3 + x2*x5^4 + x5^5"
      ]
     },
     "metadata": {},
     "output_type": "display_data"
    }
   ],
   "source": [
    "polis2 = sum(polis2,dims=2)"
   ]
  },
  {
   "cell_type": "code",
   "execution_count": 11,
   "metadata": {},
   "outputs": [
    {
     "data": {
      "text/plain": [
       "9-element Vector{fmpq_mpoly}:\n",
       " x1^6 - 1\n",
       " x2^6 - 1\n",
       " x3^6 - 1\n",
       " x4^6 - 1\n",
       " x5^6 - 1\n",
       " x1^5 + x1^4*x2 + x1^3*x2^2 + x1^2*x2^3 + x1*x2^4 + x2^5\n",
       " x1^5 + x1^4*x3 + x1^3*x3^2 + x1^2*x3^3 + x1*x3^4 + x3^5\n",
       " x2^5 + x2^4*x4 + x2^3*x4^2 + x2^2*x4^3 + x2*x4^4 + x4^5\n",
       " x2^5 + x2^4*x5 + x2^3*x5^2 + x2^2*x5^3 + x2*x5^4 + x5^5"
      ]
     },
     "metadata": {},
     "output_type": "display_data"
    }
   ],
   "source": [
    "pp = vec(vcat(polis,polis2))"
   ]
  },
  {
   "cell_type": "code",
   "execution_count": 12,
   "metadata": {},
   "outputs": [
    {
     "data": {
      "text/plain": [
       "polisGrafo (generic function with 1 method)"
      ]
     },
     "metadata": {},
     "output_type": "display_data"
    }
   ],
   "source": [
    "function polisGrafo(g,k)\n",
    "    T, x = PolynomialRing(QQ, [\"x$i\" for i in 1:nv(g)])\n",
    "    ps = [T[j]^k-1 for j in 1:nv(g)]\n",
    "    ps2 = [T[src(r)]^(k-1-l) * T[dst(r)]^(l) for r in collect(edges(g)), l in 0:k-1]\n",
    "    p2 = sum(ps2,dims=2)\n",
    "    polis = vec(vcat(ps,p2))\n",
    "    return polis\n",
    "end"
   ]
  },
  {
   "cell_type": "code",
   "execution_count": 13,
   "metadata": {},
   "outputs": [
    {
     "data": {
      "text/plain": [
       "9-element Vector{fmpq_mpoly}:\n",
       " x1^3 - 1\n",
       " x2^3 - 1\n",
       " x3^3 - 1\n",
       " x4^3 - 1\n",
       " x5^3 - 1\n",
       " x1^2 + x1*x2 + x2^2\n",
       " x1^2 + x1*x3 + x3^2\n",
       " x2^2 + x2*x4 + x4^2\n",
       " x2^2 + x2*x5 + x5^2"
      ]
     },
     "metadata": {},
     "output_type": "display_data"
    }
   ],
   "source": [
    "polisGrafo(g,3)"
   ]
  },
  {
   "cell_type": "code",
   "execution_count": 14,
   "metadata": {},
   "outputs": [
    {
     "data": {
      "text/html": [
       "ideal(x1^6 - 1, x2^6 - 1, x3^6 - 1, x4^6 - 1, x5^6 - 1, x1^5 + x1^4*x2 + x1^3*x2^2 + x1^2*x2^3 + x1*x2^4 + x2^5, x1^5 + x1^4*x3 + x1^3*x3^2 + x1^2*x3^3 + x1*x3^4 + x3^5, x2^5 + x2^4*x4 + x2^3*x4^2 + x2^2*x4^3 + x2*x4^4 + x4^5, x2^5 + x2^4*x5 + x2^3*x5^2 + x2^2*x5^3 + x2*x5^4 + x5^5)"
      ],
      "text/latex": [
       "\\mathop{\\mathrm{ideal}}\\left(\\mathop{\\mathrm{x1}}^{6} - 1, \\mathop{\\mathrm{x2}}^{6} - 1, \\mathop{\\mathrm{x3}}^{6} - 1, \\mathop{\\mathrm{x4}}^{6} - 1, \\mathop{\\mathrm{x5}}^{6} - 1, \\mathop{\\mathrm{x1}}^{5} + \\mathop{\\mathrm{x1}}^{4} \\mathop{\\mathrm{x2}} + \\mathop{\\mathrm{x1}}^{3} \\mathop{\\mathrm{x2}}^{2} + \\mathop{\\mathrm{x1}}^{2} \\mathop{\\mathrm{x2}}^{3} + \\mathop{\\mathrm{x1}} \\mathop{\\mathrm{x2}}^{4} + \\mathop{\\mathrm{x2}}^{5}, \\mathop{\\mathrm{x1}}^{5} + \\mathop{\\mathrm{x1}}^{4} \\mathop{\\mathrm{x3}} + \\mathop{\\mathrm{x1}}^{3} \\mathop{\\mathrm{x3}}^{2} + \\mathop{\\mathrm{x1}}^{2} \\mathop{\\mathrm{x3}}^{3} + \\mathop{\\mathrm{x1}} \\mathop{\\mathrm{x3}}^{4} + \\mathop{\\mathrm{x3}}^{5}, \\mathop{\\mathrm{x2}}^{5} + \\mathop{\\mathrm{x2}}^{4} \\mathop{\\mathrm{x4}} + \\mathop{\\mathrm{x2}}^{3} \\mathop{\\mathrm{x4}}^{2} + \\mathop{\\mathrm{x2}}^{2} \\mathop{\\mathrm{x4}}^{3} + \\mathop{\\mathrm{x2}} \\mathop{\\mathrm{x4}}^{4} + \\mathop{\\mathrm{x4}}^{5}, \\mathop{\\mathrm{x2}}^{5} + \\mathop{\\mathrm{x2}}^{4} \\mathop{\\mathrm{x5}} + \\mathop{\\mathrm{x2}}^{3} \\mathop{\\mathrm{x5}}^{2} + \\mathop{\\mathrm{x2}}^{2} \\mathop{\\mathrm{x5}}^{3} + \\mathop{\\mathrm{x2}} \\mathop{\\mathrm{x5}}^{4} + \\mathop{\\mathrm{x5}}^{5}\\right)"
      ],
      "text/plain": [
       "ideal(x1^6 - 1, x2^6 - 1, x3^6 - 1, x4^6 - 1, x5^6 - 1, x1^5 + x1^4*x2 + x1^3*x2^2 + x1^2*x2^3 + x1*x2^4 + x2^5, x1^5 + x1^4*x3 + x1^3*x3^2 + x1^2*x3^3 + x1*x3^4 + x3^5, x2^5 + x2^4*x4 + x2^3*x4^2 + x2^2*x4^3 + x2*x4^4 + x4^5, x2^5 + x2^4*x5 + x2^3*x5^2 + x2^2*x5^3 + x2*x5^4 + x5^5)"
      ]
     },
     "metadata": {},
     "output_type": "display_data"
    }
   ],
   "source": [
    "I = ideal(T,pp)"
   ]
  },
  {
   "cell_type": "code",
   "execution_count": 15,
   "metadata": {},
   "outputs": [
    {
     "data": {
      "text/plain": [
       "Gröbner basis with elements\n",
       "1 -> x2^4*x4 + x2^3*x4^2 + x2^2*x4^3 + x2*x4^4 + x4^5 - x2^4*x5 - x2^3*x5^2 - x2^2*x5^3 - x2*x5^4 - x5^5\n",
       "2 -> x2^5 + x2^4*x5 + x2^3*x5^2 + x2^2*x5^3 + x2*x5^4 + x5^5\n",
       "3 -> x1^4*x2 + x1^3*x2^2 + x1^2*x2^3 + x1*x2^4 - x1^4*x3 - x1^3*x3^2 - x1^2*x3^3 - x1*x3^4 - x3^5 - x2^4*x5 - x2^3*x5^2 - x2^2*x5^3 - x2*x5^4 - x5^5\n",
       "4 -> x1^5 + x1^4*x3 + x1^3*x3^2 + x1^2*x3^3 + x1*x3^4 + x3^5\n",
       "5 -> x5^6 - 1\n",
       "6 -> x4^6 - 1\n",
       "7 -> x3^6 - 1\n",
       "8 -> x1^4*x3^4*x4 + x1^3*x2*x3^4*x4 + x1^2*x2^2*x3^4*x4 + x1*x2^3*x3^4*x4 + x1^3*x3^5*x4 + x1^2*x2*x3^5*x4 + x1*x2^2*x3^5*x4 + x2^3*x3^5*x4 + x1^4*x3^3*x4^2 + x1^3*x2*x3^3*x4^2 + x1^2*x2^2*x3^3*x4^2 + x1*x2^3*x3^3*x4^2 + x1^3*x3^4*x4^2 + x1^2*x2*x3^4*x4^2 + x1*x2^2*x3^4*x4^2 + x1^2*x3^5*x4^2 + x1*x2*x3^5*x4^2 + x2^2*x3^5*x4^2 + x1^4*x3^2*x4^3 + x1^3*x2*x3^2*x4^3 + x1^2*x2^2*x3^2*x4^3 + x1*x2^3*x3^2*x4^3 + x1^3*x3^3*x4^3 + x1^2*x2*x3^3*x4^3 + x1*x2^2*x3^3*x4^3 + x1^2*x3^4*x4^3 + x1*x2*x3^4*x4^3 + x1*x3^5*x4^3 + x2*x3^5*x4^3 + x1^4*x3*x4^4 + x1^3*x2*x3*x4^4 + x1^2*x2^2*x3*x4^4 + x1*x2^3*x3*x4^4 + x1^3*x3^2*x4^4 + x1^2*x2*x3^2*x4^4 + x1*x2^2*x3^2*x4^4 + x1^2*x3^3*x4^4 + x1*x2*x3^3*x4^4 + x1*x3^4*x4^4 + x3^5*x4^4 + x1^4*x4^5 + x1^3*x2*x4^5 + x1^2*x2^2*x4^5 + x1*x2^3*x4^5 + x1^3*x3*x4^5 + x1^2*x2*x3*x4^5 + x1*x2^2*x3*x4^5 + x1^2*x3^2*x4^5 + x1*x2*x3^2*x4^5 + x1*x3^3*x4^5 - x1^4*x3^4*x5 - x1^3*x2*x3^4*x5 - x1^2*x2^2*x3^4*x5 - x1*x2^3*x3^4*x5 - x1^3*x3^5*x5 - x1^2*x2*x3^5*x5 - x1*x2^2*x3^5*x5 - x2^3*x3^5*x5 - x2^3*x3^3*x4^2*x5 - x2^3*x3^2*x4^3*x5 - x2^2*x3^3*x4^3*x5 - x2^3*x3*x4^4*x5 - x2^2*x3^2*x4^4*x5 - x2*x3^3*x4^4*x5 - x2^3*x4^5*x5 - x2^2*x3*x4^5*x5 - x2*x3^2*x4^5*x5 - x3^3*x4^5*x5 - x1^4*x3^3*x5^2 - x1^3*x2*x3^3*x5^2 - x1^2*x2^2*x3^3*x5^2 - x1*x2^3*x3^3*x5^2 - x1^3*x3^4*x5^2 - x1^2*x2*x3^4*x5^2 - x1*x2^2*x3^4*x5^2 - x1^2*x3^5*x5^2 - x1*x2*x3^5*x5^2 - x2^2*x3^5*x5^2 + x2^3*x3^3*x4*x5^2 - x2^2*x3^2*x4^3*x5^2 - x2^2*x3*x4^4*x5^2 - x2*x3^2*x4^4*x5^2 - x2^2*x4^5*x5^2 - x2*x3*x4^5*x5^2 - x3^2*x4^5*x5^2 - x1^4*x3^2*x5^3 - x1^3*x2*x3^2*x5^3 - x1^2*x2^2*x3^2*x5^3 - x1*x2^3*x3^2*x5^3 - x1^3*x3^3*x5^3 - x1^2*x2*x3^3*x5^3 - x1*x2^2*x3^3*x5^3 - x1^2*x3^4*x5^3 - x1*x2*x3^4*x5^3 - x1*x3^5*x5^3 - x2*x3^5*x5^3 + x2^3*x3^2*x4*x5^3 + x2^2*x3^3*x4*x5^3 + x2^2*x3^2*x4^2*x5^3 - x2*x3*x4^4*x5^3 - x2*x4^5*x5^3 - x3*x4^5*x5^3 - x1^4*x3*x5^4 - x1^3*x2*x3*x5^4 - x1^2*x2^2*x3*x5^4 - x1*x2^3*x3*x5^4 - x1^3*x3^2*x5^4 - x1^2*x2*x3^2*x5^4 - x1*x2^2*x3^2*x5^4 - x1^2*x3^3*x5^4 - x1*x2*x3^3*x5^4 - x1*x3^4*x5^4 - x3^5*x5^4 + x2^3*x3*x4*x5^4 + x2^2*x3^2*x4*x5^4 + x2*x3^3*x4*x5^4 + x2^2*x3*x4^2*x5^4 + x2*x3^2*x4^2*x5^4 + x2*x3*x4^3*x5^4 - x4^5*x5^4 - x1^4*x5^5 - x1^3*x2*x5^5 - x1^2*x2^2*x5^5 - x1*x2^3*x5^5 - x1^3*x3*x5^5 - x1^2*x2*x3*x5^5 - x1*x2^2*x3*x5^5 - x1^2*x3^2*x5^5 - x1*x2*x3^2*x5^5 - x1*x3^3*x5^5 + x2^3*x4*x5^5 + x2^2*x3*x4*x5^5 + x2*x3^2*x4*x5^5 + x3^3*x4*x5^5 + x2^2*x4^2*x5^5 + x2*x3*x4^2*x5^5 + x3^2*x4^2*x5^5 + x2*x4^3*x5^5 + x3*x4^3*x5^5 + x4^4*x5^5 + x1^2*x4 + x1*x2*x4 + x2^2*x4 + x1*x3*x4 + x2*x3*x4 + x3^2*x4 + x1*x4^2 + x2*x4^2 + x3*x4^2 + x4^3 - x1^2*x5 - x1*x2*x5 - x2^2*x5 - x1*x3*x5 - x2*x3*x5 - x3^2*x5 - x1*x5^2 - x2*x5^2 - x3*x5^2 - x5^3\n",
       "9 -> x1^4*x3^5 + x1^3*x2*x3^5 + x1^2*x2^2*x3^5 + x1*x2^3*x3^5 + x2^4*x3^5 + x1^4*x3^4*x5 + x1^3*x2*x3^4*x5 + x1^2*x2^2*x3^4*x5 + x1*x2^3*x3^4*x5 + x2^4*x3^4*x5 + x1^3*x3^5*x5 + x1^2*x2*x3^5*x5 + x1*x2^2*x3^5*x5 + x2^3*x3^5*x5 + x1^4*x3^3*x5^2 + x1^3*x2*x3^3*x5^2 + x1^2*x2^2*x3^3*x5^2 + x1*x2^3*x3^3*x5^2 + x2^4*x3^3*x5^2 + x1^3*x3^4*x5^2 + x1^2*x2*x3^4*x5^2 + x1*x2^2*x3^4*x5^2 + x2^3*x3^4*x5^2 + x1^2*x3^5*x5^2 + x1*x2*x3^5*x5^2 + x2^2*x3^5*x5^2 + x1^4*x3^2*x5^3 + x1^3*x2*x3^2*x5^3 + x1^2*x2^2*x3^2*x5^3 + x1*x2^3*x3^2*x5^3 + x2^4*x3^2*x5^3 + x1^3*x3^3*x5^3 + x1^2*x2*x3^3*x5^3 + x1*x2^2*x3^3*x5^3 + x2^3*x3^3*x5^3 + x1^2*x3^4*x5^3 + x1*x2*x3^4*x5^3 + x2^2*x3^4*x5^3 + x1*x3^5*x5^3 + x2*x3^5*x5^3 + x1^4*x3*x5^4 + x1^3*x2*x3*x5^4 + x1^2*x2^2*x3*x5^4 + x1*x2^3*x3*x5^4 + x2^4*x3*x5^4 + x1^3*x3^2*x5^4 + x1^2*x2*x3^2*x5^4 + x1*x2^2*x3^2*x5^4 + x2^3*x3^2*x5^4 + x1^2*x3^3*x5^4 + x1*x2*x3^3*x5^4 + x2^2*x3^3*x5^4 + x1*x3^4*x5^4 + x2*x3^4*x5^4 + x3^5*x5^4 + x1^4*x5^5 + x1^3*x2*x5^5 + x1^2*x2^2*x5^5 + x1*x2^3*x5^5 + x2^4*x5^5 + x1^3*x3*x5^5 + x1^2*x2*x3*x5^5 + x1*x2^2*x3*x5^5 + x2^3*x3*x5^5 + x1^2*x3^2*x5^5 + x1*x2*x3^2*x5^5 + x2^2*x3^2*x5^5 + x1*x3^3*x5^5 + x2*x3^3*x5^5 + x3^4*x5^5 + x1^3 + x1^2*x2 + x1*x2^2 + x2^3 + x1^2*x3 + x1*x2*x3 + x2^2*x3 + x1*x3^2 + x2*x3^2 + x3^3 + x1^2*x5 + x1*x2*x5 + x2^2*x5 + x1*x3*x5 + x2*x3*x5 + x3^2*x5 + x1*x5^2 + x2*x5^2 + x3*x5^2 + x5^3\n",
       "with respect to the ordering\n",
       "degrevlex([x1, x2, x3, x4, x5])"
      ]
     },
     "metadata": {},
     "output_type": "display_data"
    }
   ],
   "source": [
    "G2 = groebner_basis(I)"
   ]
  },
  {
   "cell_type": "code",
   "execution_count": 16,
   "metadata": {},
   "outputs": [
    {
     "data": {
      "text/html": [
       "ideal(x2^4*x4 - x2^4*x5 + x2^3*x4^2 - x2^3*x5^2 + x2^2*x4^3 - x2^2*x5^3 + x2*x4^4 - x2*x5^4 + x4^5 - x5^5, x2^5 + x2^4*x5 + x2^3*x5^2 + x2^2*x5^3 + x2*x5^4 + x5^5, x1^4*x2 - x1^4*x3 + x1^3*x2^2 - x1^3*x3^2 + x1^2*x2^3 - x1^2*x3^3 + x1*x2^4 - x1*x3^4 - x2^4*x5 - x2^3*x5^2 - x2^2*x5^3 - x2*x5^4 - x3^5 - x5^5, x1^5 + x1^4*x3 + x1^3*x3^2 + x1^2*x3^3 + x1*x3^4 + x3^5, x5^6 - 1, x4^6 - 1, x3^6 - 1, x1^4*x3^4*x4 - x1^4*x3^4*x5 + x1^4*x3^3*x4^2 - x1^4*x3^3*x5^2 + x1^4*x3^2*x4^3 - x1^4*x3^2*x5^3 + x1^4*x3*x4^4 - x1^4*x3*x5^4 + x1^4*x4^5 - x1^4*x5^5 + x1^3*x2*x3^4*x4 - x1^3*x2*x3^4*x5 + x1^3*x2*x3^3*x4^2 - x1^3*x2*x3^3*x5^2 + x1^3*x2*x3^2*x4^3 - x1^3*x2*x3^2*x5^3 + x1^3*x2*x3*x4^4 - x1^3*x2*x3*x5^4 + x1^3*x2*x4^5 - x1^3*x2*x5^5 + x1^3*x3^5*x4 - x1^3*x3^5*x5 + x1^3*x3^4*x4^2 - x1^3*x3^4*x5^2 + x1^3*x3^3*x4^3 - x1^3*x3^3*x5^3 + x1^3*x3^2*x4^4 - x1^3*x3^2*x5^4 + x1^3*x3*x4^5 - x1^3*x3*x5^5 + x1^2*x2^2*x3^4*x4 - x1^2*x2^2*x3^4*x5 + x1^2*x2^2*x3^3*x4^2 - x1^2*x2^2*x3^3*x5^2 + x1^2*x2^2*x3^2*x4^3 - x1^2*x2^2*x3^2*x5^3 + x1^2*x2^2*x3*x4^4 - x1^2*x2^2*x3*x5^4 + x1^2*x2^2*x4^5 - x1^2*x2^2*x5^5 + x1^2*x2*x3^5*x4 - x1^2*x2*x3^5*x5 + x1^2*x2*x3^4*x4^2 - x1^2*x2*x3^4*x5^2 + x1^2*x2*x3^3*x4^3 - x1^2*x2*x3^3*x5^3 + x1^2*x2*x3^2*x4^4 - x1^2*x2*x3^2*x5^4 + x1^2*x2*x3*x4^5 - x1^2*x2*x3*x5^5 + x1^2*x3^5*x4^2 - x1^2*x3^5*x5^2 + x1^2*x3^4*x4^3 - x1^2*x3^4*x5^3 + x1^2*x3^3*x4^4 - x1^2*x3^3*x5^4 + x1^2*x3^2*x4^5 - x1^2*x3^2*x5^5 + x1^2*x4 - x1^2*x5 + x1*x2^3*x3^4*x4 - x1*x2^3*x3^4*x5 + x1*x2^3*x3^3*x4^2 - x1*x2^3*x3^3*x5^2 + x1*x2^3*x3^2*x4^3 - x1*x2^3*x3^2*x5^3 + x1*x2^3*x3*x4^4 - x1*x2^3*x3*x5^4 + x1*x2^3*x4^5 - x1*x2^3*x5^5 + x1*x2^2*x3^5*x4 - x1*x2^2*x3^5*x5 + x1*x2^2*x3^4*x4^2 - x1*x2^2*x3^4*x5^2 + x1*x2^2*x3^3*x4^3 - x1*x2^2*x3^3*x5^3 + x1*x2^2*x3^2*x4^4 - x1*x2^2*x3^2*x5^4 + x1*x2^2*x3*x4^5 - x1*x2^2*x3*x5^5 + x1*x2*x3^5*x4^2 - x1*x2*x3^5*x5^2 + x1*x2*x3^4*x4^3 - x1*x2*x3^4*x5^3 + x1*x2*x3^3*x4^4 - x1*x2*x3^3*x5^4 + x1*x2*x3^2*x4^5 - x1*x2*x3^2*x5^5 + x1*x2*x4 - x1*x2*x5 + x1*x3^5*x4^3 - x1*x3^5*x5^3 + x1*x3^4*x4^4 - x1*x3^4*x5^4 + x1*x3^3*x4^5 - x1*x3^3*x5^5 + x1*x3*x4 - x1*x3*x5 + x1*x4^2 - x1*x5^2 + x2^3*x3^5*x4 - x2^3*x3^5*x5 - x2^3*x3^3*x4^2*x5 + x2^3*x3^3*x4*x5^2 - x2^3*x3^2*x4^3*x5 + x2^3*x3^2*x4*x5^3 - x2^3*x3*x4^4*x5 + x2^3*x3*x4*x5^4 - x2^3*x4^5*x5 + x2^3*x4*x5^5 + x2^2*x3^5*x4^2 - x2^2*x3^5*x5^2 - x2^2*x3^3*x4^3*x5 + x2^2*x3^3*x4*x5^3 - x2^2*x3^2*x4^4*x5 - x2^2*x3^2*x4^3*x5^2 + x2^2*x3^2*x4^2*x5^3 + x2^2*x3^2*x4*x5^4 - x2^2*x3*x4^5*x5 - x2^2*x3*x4^4*x5^2 + x2^2*x3*x4^2*x5^4 + x2^2*x3*x4*x5^5 - x2^2*x4^5*x5^2 + x2^2*x4^2*x5^5 + x2^2*x4 - x2^2*x5 + x2*x3^5*x4^3 - x2*x3^5*x5^3 - x2*x3^3*x4^4*x5 + x2*x3^3*x4*x5^4 - x2*x3^2*x4^5*x5 - x2*x3^2*x4^4*x5^2 + x2*x3^2*x4^2*x5^4 + x2*x3^2*x4*x5^5 - x2*x3*x4^5*x5^2 - x2*x3*x4^4*x5^3 + x2*x3*x4^3*x5^4 + x2*x3*x4^2*x5^5 + x2*x3*x4 - x2*x3*x5 - x2*x4^5*x5^3 + x2*x4^3*x5^5 + x2*x4^2 - x2*x5^2 + x3^5*x4^4 - x3^5*x5^4 - x3^3*x4^5*x5 + x3^3*x4*x5^5 - x3^2*x4^5*x5^2 + x3^2*x4^2*x5^5 + x3^2*x4 - x3^2*x5 - x3*x4^5*x5^3 + x3*x4^3*x5^5 + x3*x4^2 - x3*x5^2 - x4^5*x5^4 + x4^4*x5^5 + x4^3 - x5^3, x1^4*x3^5 + x1^4*x3^4*x5 + x1^4*x3^3*x5^2 + x1^4*x3^2*x5^3 + x1^4*x3*x5^4 + x1^4*x5^5 + x1^3*x2*x3^5 + x1^3*x2*x3^4*x5 + x1^3*x2*x3^3*x5^2 + x1^3*x2*x3^2*x5^3 + x1^3*x2*x3*x5^4 + x1^3*x2*x5^5 + x1^3*x3^5*x5 + x1^3*x3^4*x5^2 + x1^3*x3^3*x5^3 + x1^3*x3^2*x5^4 + x1^3*x3*x5^5 + x1^3 + x1^2*x2^2*x3^5 + x1^2*x2^2*x3^4*x5 + x1^2*x2^2*x3^3*x5^2 + x1^2*x2^2*x3^2*x5^3 + x1^2*x2^2*x3*x5^4 + x1^2*x2^2*x5^5 + x1^2*x2*x3^5*x5 + x1^2*x2*x3^4*x5^2 + x1^2*x2*x3^3*x5^3 + x1^2*x2*x3^2*x5^4 + x1^2*x2*x3*x5^5 + x1^2*x2 + x1^2*x3^5*x5^2 + x1^2*x3^4*x5^3 + x1^2*x3^3*x5^4 + x1^2*x3^2*x5^5 + x1^2*x3 + x1^2*x5 + x1*x2^3*x3^5 + x1*x2^3*x3^4*x5 + x1*x2^3*x3^3*x5^2 + x1*x2^3*x3^2*x5^3 + x1*x2^3*x3*x5^4 + x1*x2^3*x5^5 + x1*x2^2*x3^5*x5 + x1*x2^2*x3^4*x5^2 + x1*x2^2*x3^3*x5^3 + x1*x2^2*x3^2*x5^4 + x1*x2^2*x3*x5^5 + x1*x2^2 + x1*x2*x3^5*x5^2 + x1*x2*x3^4*x5^3 + x1*x2*x3^3*x5^4 + x1*x2*x3^2*x5^5 + x1*x2*x3 + x1*x2*x5 + x1*x3^5*x5^3 + x1*x3^4*x5^4 + x1*x3^3*x5^5 + x1*x3^2 + x1*x3*x5 + x1*x5^2 + x2^4*x3^5 + x2^4*x3^4*x5 + x2^4*x3^3*x5^2 + x2^4*x3^2*x5^3 + x2^4*x3*x5^4 + x2^4*x5^5 + x2^3*x3^5*x5 + x2^3*x3^4*x5^2 + x2^3*x3^3*x5^3 + x2^3*x3^2*x5^4 + x2^3*x3*x5^5 + x2^3 + x2^2*x3^5*x5^2 + x2^2*x3^4*x5^3 + x2^2*x3^3*x5^4 + x2^2*x3^2*x5^5 + x2^2*x3 + x2^2*x5 + x2*x3^5*x5^3 + x2*x3^4*x5^4 + x2*x3^3*x5^5 + x2*x3^2 + x2*x3*x5 + x2*x5^2 + x3^5*x5^4 + x3^4*x5^5 + x3^3 + x3^2*x5 + x3*x5^2 + x5^3)"
      ],
      "text/latex": [
       "\\mathop{\\mathrm{ideal}}\\left(\\mathop{\\mathrm{x2}}^{4} \\mathop{\\mathrm{x4}} - \\mathop{\\mathrm{x2}}^{4} \\mathop{\\mathrm{x5}} + \\mathop{\\mathrm{x2}}^{3} \\mathop{\\mathrm{x4}}^{2} - \\mathop{\\mathrm{x2}}^{3} \\mathop{\\mathrm{x5}}^{2} + \\mathop{\\mathrm{x2}}^{2} \\mathop{\\mathrm{x4}}^{3} - \\mathop{\\mathrm{x2}}^{2} \\mathop{\\mathrm{x5}}^{3} + \\mathop{\\mathrm{x2}} \\mathop{\\mathrm{x4}}^{4} - \\mathop{\\mathrm{x2}} \\mathop{\\mathrm{x5}}^{4} + \\mathop{\\mathrm{x4}}^{5} - \\mathop{\\mathrm{x5}}^{5}, \\mathop{\\mathrm{x2}}^{5} + \\mathop{\\mathrm{x2}}^{4} \\mathop{\\mathrm{x5}} + \\mathop{\\mathrm{x2}}^{3} \\mathop{\\mathrm{x5}}^{2} + \\mathop{\\mathrm{x2}}^{2} \\mathop{\\mathrm{x5}}^{3} + \\mathop{\\mathrm{x2}} \\mathop{\\mathrm{x5}}^{4} + \\mathop{\\mathrm{x5}}^{5}, \\mathop{\\mathrm{x1}}^{4} \\mathop{\\mathrm{x2}} - \\mathop{\\mathrm{x1}}^{4} \\mathop{\\mathrm{x3}} + \\mathop{\\mathrm{x1}}^{3} \\mathop{\\mathrm{x2}}^{2} - \\mathop{\\mathrm{x1}}^{3} \\mathop{\\mathrm{x3}}^{2} + \\mathop{\\mathrm{x1}}^{2} \\mathop{\\mathrm{x2}}^{3} - \\mathop{\\mathrm{x1}}^{2} \\mathop{\\mathrm{x3}}^{3} + \\mathop{\\mathrm{x1}} \\mathop{\\mathrm{x2}}^{4} - \\mathop{\\mathrm{x1}} \\mathop{\\mathrm{x3}}^{4} - \\mathop{\\mathrm{x2}}^{4} \\mathop{\\mathrm{x5}} - \\mathop{\\mathrm{x2}}^{3} \\mathop{\\mathrm{x5}}^{2} - \\mathop{\\mathrm{x2}}^{2} \\mathop{\\mathrm{x5}}^{3} - \\mathop{\\mathrm{x2}} \\mathop{\\mathrm{x5}}^{4} - \\mathop{\\mathrm{x3}}^{5} - \\mathop{\\mathrm{x5}}^{5}, \\mathop{\\mathrm{x1}}^{5} + \\mathop{\\mathrm{x1}}^{4} \\mathop{\\mathrm{x3}} + \\mathop{\\mathrm{x1}}^{3} \\mathop{\\mathrm{x3}}^{2} + \\mathop{\\mathrm{x1}}^{2} \\mathop{\\mathrm{x3}}^{3} + \\mathop{\\mathrm{x1}} \\mathop{\\mathrm{x3}}^{4} + \\mathop{\\mathrm{x3}}^{5}, \\mathop{\\mathrm{x5}}^{6} - 1, \\mathop{\\mathrm{x4}}^{6} - 1, \\mathop{\\mathrm{x3}}^{6} - 1, \\mathop{\\mathrm{x1}}^{4} \\mathop{\\mathrm{x3}}^{4} \\mathop{\\mathrm{x4}} - \\mathop{\\mathrm{x1}}^{4} \\mathop{\\mathrm{x3}}^{4} \\mathop{\\mathrm{x5}} + \\mathop{\\mathrm{x1}}^{4} \\mathop{\\mathrm{x3}}^{3} \\mathop{\\mathrm{x4}}^{2} - \\mathop{\\mathrm{x1}}^{4} \\mathop{\\mathrm{x3}}^{3} \\mathop{\\mathrm{x5}}^{2} + \\mathop{\\mathrm{x1}}^{4} \\mathop{\\mathrm{x3}}^{2} \\mathop{\\mathrm{x4}}^{3} - \\mathop{\\mathrm{x1}}^{4} \\mathop{\\mathrm{x3}}^{2} \\mathop{\\mathrm{x5}}^{3} + \\mathop{\\mathrm{x1}}^{4} \\mathop{\\mathrm{x3}} \\mathop{\\mathrm{x4}}^{4} - \\mathop{\\mathrm{x1}}^{4} \\mathop{\\mathrm{x3}} \\mathop{\\mathrm{x5}}^{4} + \\mathop{\\mathrm{x1}}^{4} \\mathop{\\mathrm{x4}}^{5} - \\mathop{\\mathrm{x1}}^{4} \\mathop{\\mathrm{x5}}^{5} + \\mathop{\\mathrm{x1}}^{3} \\mathop{\\mathrm{x2}} \\mathop{\\mathrm{x3}}^{4} \\mathop{\\mathrm{x4}} - \\mathop{\\mathrm{x1}}^{3} \\mathop{\\mathrm{x2}} \\mathop{\\mathrm{x3}}^{4} \\mathop{\\mathrm{x5}} + \\mathop{\\mathrm{x1}}^{3} \\mathop{\\mathrm{x2}} \\mathop{\\mathrm{x3}}^{3} \\mathop{\\mathrm{x4}}^{2} - \\mathop{\\mathrm{x1}}^{3} \\mathop{\\mathrm{x2}} \\mathop{\\mathrm{x3}}^{3} \\mathop{\\mathrm{x5}}^{2} + \\mathop{\\mathrm{x1}}^{3} \\mathop{\\mathrm{x2}} \\mathop{\\mathrm{x3}}^{2} \\mathop{\\mathrm{x4}}^{3} - \\mathop{\\mathrm{x1}}^{3} \\mathop{\\mathrm{x2}} \\mathop{\\mathrm{x3}}^{2} \\mathop{\\mathrm{x5}}^{3} + \\mathop{\\mathrm{x1}}^{3} \\mathop{\\mathrm{x2}} \\mathop{\\mathrm{x3}} \\mathop{\\mathrm{x4}}^{4} - \\mathop{\\mathrm{x1}}^{3} \\mathop{\\mathrm{x2}} \\mathop{\\mathrm{x3}} \\mathop{\\mathrm{x5}}^{4} + \\mathop{\\mathrm{x1}}^{3} \\mathop{\\mathrm{x2}} \\mathop{\\mathrm{x4}}^{5} - \\mathop{\\mathrm{x1}}^{3} \\mathop{\\mathrm{x2}} \\mathop{\\mathrm{x5}}^{5} + \\mathop{\\mathrm{x1}}^{3} \\mathop{\\mathrm{x3}}^{5} \\mathop{\\mathrm{x4}} - \\mathop{\\mathrm{x1}}^{3} \\mathop{\\mathrm{x3}}^{5} \\mathop{\\mathrm{x5}} + \\mathop{\\mathrm{x1}}^{3} \\mathop{\\mathrm{x3}}^{4} \\mathop{\\mathrm{x4}}^{2} - \\mathop{\\mathrm{x1}}^{3} \\mathop{\\mathrm{x3}}^{4} \\mathop{\\mathrm{x5}}^{2} + \\mathop{\\mathrm{x1}}^{3} \\mathop{\\mathrm{x3}}^{3} \\mathop{\\mathrm{x4}}^{3} - \\mathop{\\mathrm{x1}}^{3} \\mathop{\\mathrm{x3}}^{3} \\mathop{\\mathrm{x5}}^{3} + \\mathop{\\mathrm{x1}}^{3} \\mathop{\\mathrm{x3}}^{2} \\mathop{\\mathrm{x4}}^{4} - \\mathop{\\mathrm{x1}}^{3} \\mathop{\\mathrm{x3}}^{2} \\mathop{\\mathrm{x5}}^{4} + \\mathop{\\mathrm{x1}}^{3} \\mathop{\\mathrm{x3}} \\mathop{\\mathrm{x4}}^{5} - \\mathop{\\mathrm{x1}}^{3} \\mathop{\\mathrm{x3}} \\mathop{\\mathrm{x5}}^{5} + \\mathop{\\mathrm{x1}}^{2} \\mathop{\\mathrm{x2}}^{2} \\mathop{\\mathrm{x3}}^{4} \\mathop{\\mathrm{x4}} - \\mathop{\\mathrm{x1}}^{2} \\mathop{\\mathrm{x2}}^{2} \\mathop{\\mathrm{x3}}^{4} \\mathop{\\mathrm{x5}} + \\mathop{\\mathrm{x1}}^{2} \\mathop{\\mathrm{x2}}^{2} \\mathop{\\mathrm{x3}}^{3} \\mathop{\\mathrm{x4}}^{2} - \\mathop{\\mathrm{x1}}^{2} \\mathop{\\mathrm{x2}}^{2} \\mathop{\\mathrm{x3}}^{3} \\mathop{\\mathrm{x5}}^{2} + \\mathop{\\mathrm{x1}}^{2} \\mathop{\\mathrm{x2}}^{2} \\mathop{\\mathrm{x3}}^{2} \\mathop{\\mathrm{x4}}^{3} - \\mathop{\\mathrm{x1}}^{2} \\mathop{\\mathrm{x2}}^{2} \\mathop{\\mathrm{x3}}^{2} \\mathop{\\mathrm{x5}}^{3} + \\mathop{\\mathrm{x1}}^{2} \\mathop{\\mathrm{x2}}^{2} \\mathop{\\mathrm{x3}} \\mathop{\\mathrm{x4}}^{4} - \\mathop{\\mathrm{x1}}^{2} \\mathop{\\mathrm{x2}}^{2} \\mathop{\\mathrm{x3}} \\mathop{\\mathrm{x5}}^{4} + \\mathop{\\mathrm{x1}}^{2} \\mathop{\\mathrm{x2}}^{2} \\mathop{\\mathrm{x4}}^{5} - \\mathop{\\mathrm{x1}}^{2} \\mathop{\\mathrm{x2}}^{2} \\mathop{\\mathrm{x5}}^{5} + \\mathop{\\mathrm{x1}}^{2} \\mathop{\\mathrm{x2}} \\mathop{\\mathrm{x3}}^{5} \\mathop{\\mathrm{x4}} - \\mathop{\\mathrm{x1}}^{2} \\mathop{\\mathrm{x2}} \\mathop{\\mathrm{x3}}^{5} \\mathop{\\mathrm{x5}} + \\mathop{\\mathrm{x1}}^{2} \\mathop{\\mathrm{x2}} \\mathop{\\mathrm{x3}}^{4} \\mathop{\\mathrm{x4}}^{2} - \\mathop{\\mathrm{x1}}^{2} \\mathop{\\mathrm{x2}} \\mathop{\\mathrm{x3}}^{4} \\mathop{\\mathrm{x5}}^{2} + \\mathop{\\mathrm{x1}}^{2} \\mathop{\\mathrm{x2}} \\mathop{\\mathrm{x3}}^{3} \\mathop{\\mathrm{x4}}^{3} - \\mathop{\\mathrm{x1}}^{2} \\mathop{\\mathrm{x2}} \\mathop{\\mathrm{x3}}^{3} \\mathop{\\mathrm{x5}}^{3} + \\mathop{\\mathrm{x1}}^{2} \\mathop{\\mathrm{x2}} \\mathop{\\mathrm{x3}}^{2} \\mathop{\\mathrm{x4}}^{4} - \\mathop{\\mathrm{x1}}^{2} \\mathop{\\mathrm{x2}} \\mathop{\\mathrm{x3}}^{2} \\mathop{\\mathrm{x5}}^{4} + \\mathop{\\mathrm{x1}}^{2} \\mathop{\\mathrm{x2}} \\mathop{\\mathrm{x3}} \\mathop{\\mathrm{x4}}^{5} - \\mathop{\\mathrm{x1}}^{2} \\mathop{\\mathrm{x2}} \\mathop{\\mathrm{x3}} \\mathop{\\mathrm{x5}}^{5} + \\mathop{\\mathrm{x1}}^{2} \\mathop{\\mathrm{x3}}^{5} \\mathop{\\mathrm{x4}}^{2} - \\mathop{\\mathrm{x1}}^{2} \\mathop{\\mathrm{x3}}^{5} \\mathop{\\mathrm{x5}}^{2} + \\mathop{\\mathrm{x1}}^{2} \\mathop{\\mathrm{x3}}^{4} \\mathop{\\mathrm{x4}}^{3} - \\mathop{\\mathrm{x1}}^{2} \\mathop{\\mathrm{x3}}^{4} \\mathop{\\mathrm{x5}}^{3} + \\mathop{\\mathrm{x1}}^{2} \\mathop{\\mathrm{x3}}^{3} \\mathop{\\mathrm{x4}}^{4} - \\mathop{\\mathrm{x1}}^{2} \\mathop{\\mathrm{x3}}^{3} \\mathop{\\mathrm{x5}}^{4} + \\mathop{\\mathrm{x1}}^{2} \\mathop{\\mathrm{x3}}^{2} \\mathop{\\mathrm{x4}}^{5} - \\mathop{\\mathrm{x1}}^{2} \\mathop{\\mathrm{x3}}^{2} \\mathop{\\mathrm{x5}}^{5} + \\mathop{\\mathrm{x1}}^{2} \\mathop{\\mathrm{x4}} - \\mathop{\\mathrm{x1}}^{2} \\mathop{\\mathrm{x5}} + \\mathop{\\mathrm{x1}} \\mathop{\\mathrm{x2}}^{3} \\mathop{\\mathrm{x3}}^{4} \\mathop{\\mathrm{x4}} - \\mathop{\\mathrm{x1}} \\mathop{\\mathrm{x2}}^{3} \\mathop{\\mathrm{x3}}^{4} \\mathop{\\mathrm{x5}} + \\mathop{\\mathrm{x1}} \\mathop{\\mathrm{x2}}^{3} \\mathop{\\mathrm{x3}}^{3} \\mathop{\\mathrm{x4}}^{2} - \\mathop{\\mathrm{x1}} \\mathop{\\mathrm{x2}}^{3} \\mathop{\\mathrm{x3}}^{3} \\mathop{\\mathrm{x5}}^{2} + \\mathop{\\mathrm{x1}} \\mathop{\\mathrm{x2}}^{3} \\mathop{\\mathrm{x3}}^{2} \\mathop{\\mathrm{x4}}^{3} - \\mathop{\\mathrm{x1}} \\mathop{\\mathrm{x2}}^{3} \\mathop{\\mathrm{x3}}^{2} \\mathop{\\mathrm{x5}}^{3} + \\mathop{\\mathrm{x1}} \\mathop{\\mathrm{x2}}^{3} \\mathop{\\mathrm{x3}} \\mathop{\\mathrm{x4}}^{4} - \\mathop{\\mathrm{x1}} \\mathop{\\mathrm{x2}}^{3} \\mathop{\\mathrm{x3}} \\mathop{\\mathrm{x5}}^{4} + \\mathop{\\mathrm{x1}} \\mathop{\\mathrm{x2}}^{3} \\mathop{\\mathrm{x4}}^{5} - \\mathop{\\mathrm{x1}} \\mathop{\\mathrm{x2}}^{3} \\mathop{\\mathrm{x5}}^{5} + \\mathop{\\mathrm{x1}} \\mathop{\\mathrm{x2}}^{2} \\mathop{\\mathrm{x3}}^{5} \\mathop{\\mathrm{x4}} - \\mathop{\\mathrm{x1}} \\mathop{\\mathrm{x2}}^{2} \\mathop{\\mathrm{x3}}^{5} \\mathop{\\mathrm{x5}} + \\mathop{\\mathrm{x1}} \\mathop{\\mathrm{x2}}^{2} \\mathop{\\mathrm{x3}}^{4} \\mathop{\\mathrm{x4}}^{2} - \\mathop{\\mathrm{x1}} \\mathop{\\mathrm{x2}}^{2} \\mathop{\\mathrm{x3}}^{4} \\mathop{\\mathrm{x5}}^{2} + \\mathop{\\mathrm{x1}} \\mathop{\\mathrm{x2}}^{2} \\mathop{\\mathrm{x3}}^{3} \\mathop{\\mathrm{x4}}^{3} - \\mathop{\\mathrm{x1}} \\mathop{\\mathrm{x2}}^{2} \\mathop{\\mathrm{x3}}^{3} \\mathop{\\mathrm{x5}}^{3} + \\mathop{\\mathrm{x1}} \\mathop{\\mathrm{x2}}^{2} \\mathop{\\mathrm{x3}}^{2} \\mathop{\\mathrm{x4}}^{4} - \\mathop{\\mathrm{x1}} \\mathop{\\mathrm{x2}}^{2} \\mathop{\\mathrm{x3}}^{2} \\mathop{\\mathrm{x5}}^{4} + \\mathop{\\mathrm{x1}} \\mathop{\\mathrm{x2}}^{2} \\mathop{\\mathrm{x3}} \\mathop{\\mathrm{x4}}^{5} - \\mathop{\\mathrm{x1}} \\mathop{\\mathrm{x2}}^{2} \\mathop{\\mathrm{x3}} \\mathop{\\mathrm{x5}}^{5} + \\mathop{\\mathrm{x1}} \\mathop{\\mathrm{x2}} \\mathop{\\mathrm{x3}}^{5} \\mathop{\\mathrm{x4}}^{2} - \\mathop{\\mathrm{x1}} \\mathop{\\mathrm{x2}} \\mathop{\\mathrm{x3}}^{5} \\mathop{\\mathrm{x5}}^{2} + \\mathop{\\mathrm{x1}} \\mathop{\\mathrm{x2}} \\mathop{\\mathrm{x3}}^{4} \\mathop{\\mathrm{x4}}^{3} - \\mathop{\\mathrm{x1}} \\mathop{\\mathrm{x2}} \\mathop{\\mathrm{x3}}^{4} \\mathop{\\mathrm{x5}}^{3} + \\mathop{\\mathrm{x1}} \\mathop{\\mathrm{x2}} \\mathop{\\mathrm{x3}}^{3} \\mathop{\\mathrm{x4}}^{4} - \\mathop{\\mathrm{x1}} \\mathop{\\mathrm{x2}} \\mathop{\\mathrm{x3}}^{3} \\mathop{\\mathrm{x5}}^{4} + \\mathop{\\mathrm{x1}} \\mathop{\\mathrm{x2}} \\mathop{\\mathrm{x3}}^{2} \\mathop{\\mathrm{x4}}^{5} - \\mathop{\\mathrm{x1}} \\mathop{\\mathrm{x2}} \\mathop{\\mathrm{x3}}^{2} \\mathop{\\mathrm{x5}}^{5} + \\mathop{\\mathrm{x1}} \\mathop{\\mathrm{x2}} \\mathop{\\mathrm{x4}} - \\mathop{\\mathrm{x1}} \\mathop{\\mathrm{x2}} \\mathop{\\mathrm{x5}} + \\mathop{\\mathrm{x1}} \\mathop{\\mathrm{x3}}^{5} \\mathop{\\mathrm{x4}}^{3} - \\mathop{\\mathrm{x1}} \\mathop{\\mathrm{x3}}^{5} \\mathop{\\mathrm{x5}}^{3} + \\mathop{\\mathrm{x1}} \\mathop{\\mathrm{x3}}^{4} \\mathop{\\mathrm{x4}}^{4} - \\mathop{\\mathrm{x1}} \\mathop{\\mathrm{x3}}^{4} \\mathop{\\mathrm{x5}}^{4} + \\mathop{\\mathrm{x1}} \\mathop{\\mathrm{x3}}^{3} \\mathop{\\mathrm{x4}}^{5} - \\mathop{\\mathrm{x1}} \\mathop{\\mathrm{x3}}^{3} \\mathop{\\mathrm{x5}}^{5} + \\mathop{\\mathrm{x1}} \\mathop{\\mathrm{x3}} \\mathop{\\mathrm{x4}} - \\mathop{\\mathrm{x1}} \\mathop{\\mathrm{x3}} \\mathop{\\mathrm{x5}} + \\mathop{\\mathrm{x1}} \\mathop{\\mathrm{x4}}^{2} - \\mathop{\\mathrm{x1}} \\mathop{\\mathrm{x5}}^{2} + \\mathop{\\mathrm{x2}}^{3} \\mathop{\\mathrm{x3}}^{5} \\mathop{\\mathrm{x4}} - \\mathop{\\mathrm{x2}}^{3} \\mathop{\\mathrm{x3}}^{5} \\mathop{\\mathrm{x5}} - \\mathop{\\mathrm{x2}}^{3} \\mathop{\\mathrm{x3}}^{3} \\mathop{\\mathrm{x4}}^{2} \\mathop{\\mathrm{x5}} + \\mathop{\\mathrm{x2}}^{3} \\mathop{\\mathrm{x3}}^{3} \\mathop{\\mathrm{x4}} \\mathop{\\mathrm{x5}}^{2} - \\mathop{\\mathrm{x2}}^{3} \\mathop{\\mathrm{x3}}^{2} \\mathop{\\mathrm{x4}}^{3} \\mathop{\\mathrm{x5}} + \\mathop{\\mathrm{x2}}^{3} \\mathop{\\mathrm{x3}}^{2} \\mathop{\\mathrm{x4}} \\mathop{\\mathrm{x5}}^{3} - \\mathop{\\mathrm{x2}}^{3} \\mathop{\\mathrm{x3}} \\mathop{\\mathrm{x4}}^{4} \\mathop{\\mathrm{x5}} + \\mathop{\\mathrm{x2}}^{3} \\mathop{\\mathrm{x3}} \\mathop{\\mathrm{x4}} \\mathop{\\mathrm{x5}}^{4} - \\mathop{\\mathrm{x2}}^{3} \\mathop{\\mathrm{x4}}^{5} \\mathop{\\mathrm{x5}} + \\mathop{\\mathrm{x2}}^{3} \\mathop{\\mathrm{x4}} \\mathop{\\mathrm{x5}}^{5} + \\mathop{\\mathrm{x2}}^{2} \\mathop{\\mathrm{x3}}^{5} \\mathop{\\mathrm{x4}}^{2} - \\mathop{\\mathrm{x2}}^{2} \\mathop{\\mathrm{x3}}^{5} \\mathop{\\mathrm{x5}}^{2} - \\mathop{\\mathrm{x2}}^{2} \\mathop{\\mathrm{x3}}^{3} \\mathop{\\mathrm{x4}}^{3} \\mathop{\\mathrm{x5}} + \\mathop{\\mathrm{x2}}^{2} \\mathop{\\mathrm{x3}}^{3} \\mathop{\\mathrm{x4}} \\mathop{\\mathrm{x5}}^{3} - \\mathop{\\mathrm{x2}}^{2} \\mathop{\\mathrm{x3}}^{2} \\mathop{\\mathrm{x4}}^{4} \\mathop{\\mathrm{x5}} - \\mathop{\\mathrm{x2}}^{2} \\mathop{\\mathrm{x3}}^{2} \\mathop{\\mathrm{x4}}^{3} \\mathop{\\mathrm{x5}}^{2} + \\mathop{\\mathrm{x2}}^{2} \\mathop{\\mathrm{x3}}^{2} \\mathop{\\mathrm{x4}}^{2} \\mathop{\\mathrm{x5}}^{3} + \\mathop{\\mathrm{x2}}^{2} \\mathop{\\mathrm{x3}}^{2} \\mathop{\\mathrm{x4}} \\mathop{\\mathrm{x5}}^{4} - \\mathop{\\mathrm{x2}}^{2} \\mathop{\\mathrm{x3}} \\mathop{\\mathrm{x4}}^{5} \\mathop{\\mathrm{x5}} - \\mathop{\\mathrm{x2}}^{2} \\mathop{\\mathrm{x3}} \\mathop{\\mathrm{x4}}^{4} \\mathop{\\mathrm{x5}}^{2} + \\mathop{\\mathrm{x2}}^{2} \\mathop{\\mathrm{x3}} \\mathop{\\mathrm{x4}}^{2} \\mathop{\\mathrm{x5}}^{4} + \\mathop{\\mathrm{x2}}^{2} \\mathop{\\mathrm{x3}} \\mathop{\\mathrm{x4}} \\mathop{\\mathrm{x5}}^{5} - \\mathop{\\mathrm{x2}}^{2} \\mathop{\\mathrm{x4}}^{5} \\mathop{\\mathrm{x5}}^{2} + \\mathop{\\mathrm{x2}}^{2} \\mathop{\\mathrm{x4}}^{2} \\mathop{\\mathrm{x5}}^{5} + \\mathop{\\mathrm{x2}}^{2} \\mathop{\\mathrm{x4}} - \\mathop{\\mathrm{x2}}^{2} \\mathop{\\mathrm{x5}} + \\mathop{\\mathrm{x2}} \\mathop{\\mathrm{x3}}^{5} \\mathop{\\mathrm{x4}}^{3} - \\mathop{\\mathrm{x2}} \\mathop{\\mathrm{x3}}^{5} \\mathop{\\mathrm{x5}}^{3} - \\mathop{\\mathrm{x2}} \\mathop{\\mathrm{x3}}^{3} \\mathop{\\mathrm{x4}}^{4} \\mathop{\\mathrm{x5}} + \\mathop{\\mathrm{x2}} \\mathop{\\mathrm{x3}}^{3} \\mathop{\\mathrm{x4}} \\mathop{\\mathrm{x5}}^{4} - \\mathop{\\mathrm{x2}} \\mathop{\\mathrm{x3}}^{2} \\mathop{\\mathrm{x4}}^{5} \\mathop{\\mathrm{x5}} - \\mathop{\\mathrm{x2}} \\mathop{\\mathrm{x3}}^{2} \\mathop{\\mathrm{x4}}^{4} \\mathop{\\mathrm{x5}}^{2} + \\mathop{\\mathrm{x2}} \\mathop{\\mathrm{x3}}^{2} \\mathop{\\mathrm{x4}}^{2} \\mathop{\\mathrm{x5}}^{4} + \\mathop{\\mathrm{x2}} \\mathop{\\mathrm{x3}}^{2} \\mathop{\\mathrm{x4}} \\mathop{\\mathrm{x5}}^{5} - \\mathop{\\mathrm{x2}} \\mathop{\\mathrm{x3}} \\mathop{\\mathrm{x4}}^{5} \\mathop{\\mathrm{x5}}^{2} - \\mathop{\\mathrm{x2}} \\mathop{\\mathrm{x3}} \\mathop{\\mathrm{x4}}^{4} \\mathop{\\mathrm{x5}}^{3} + \\mathop{\\mathrm{x2}} \\mathop{\\mathrm{x3}} \\mathop{\\mathrm{x4}}^{3} \\mathop{\\mathrm{x5}}^{4} + \\mathop{\\mathrm{x2}} \\mathop{\\mathrm{x3}} \\mathop{\\mathrm{x4}}^{2} \\mathop{\\mathrm{x5}}^{5} + \\mathop{\\mathrm{x2}} \\mathop{\\mathrm{x3}} \\mathop{\\mathrm{x4}} - \\mathop{\\mathrm{x2}} \\mathop{\\mathrm{x3}} \\mathop{\\mathrm{x5}} - \\mathop{\\mathrm{x2}} \\mathop{\\mathrm{x4}}^{5} \\mathop{\\mathrm{x5}}^{3} + \\mathop{\\mathrm{x2}} \\mathop{\\mathrm{x4}}^{3} \\mathop{\\mathrm{x5}}^{5} + \\mathop{\\mathrm{x2}} \\mathop{\\mathrm{x4}}^{2} - \\mathop{\\mathrm{x2}} \\mathop{\\mathrm{x5}}^{2} + \\mathop{\\mathrm{x3}}^{5} \\mathop{\\mathrm{x4}}^{4} - \\mathop{\\mathrm{x3}}^{5} \\mathop{\\mathrm{x5}}^{4} - \\mathop{\\mathrm{x3}}^{3} \\mathop{\\mathrm{x4}}^{5} \\mathop{\\mathrm{x5}} + \\mathop{\\mathrm{x3}}^{3} \\mathop{\\mathrm{x4}} \\mathop{\\mathrm{x5}}^{5} - \\mathop{\\mathrm{x3}}^{2} \\mathop{\\mathrm{x4}}^{5} \\mathop{\\mathrm{x5}}^{2} + \\mathop{\\mathrm{x3}}^{2} \\mathop{\\mathrm{x4}}^{2} \\mathop{\\mathrm{x5}}^{5} + \\mathop{\\mathrm{x3}}^{2} \\mathop{\\mathrm{x4}} - \\mathop{\\mathrm{x3}}^{2} \\mathop{\\mathrm{x5}} - \\mathop{\\mathrm{x3}} \\mathop{\\mathrm{x4}}^{5} \\mathop{\\mathrm{x5}}^{3} + \\mathop{\\mathrm{x3}} \\mathop{\\mathrm{x4}}^{3} \\mathop{\\mathrm{x5}}^{5} + \\mathop{\\mathrm{x3}} \\mathop{\\mathrm{x4}}^{2} - \\mathop{\\mathrm{x3}} \\mathop{\\mathrm{x5}}^{2} - \\mathop{\\mathrm{x4}}^{5} \\mathop{\\mathrm{x5}}^{4} + \\mathop{\\mathrm{x4}}^{4} \\mathop{\\mathrm{x5}}^{5} + \\mathop{\\mathrm{x4}}^{3} - \\mathop{\\mathrm{x5}}^{3}, \\mathop{\\mathrm{x1}}^{4} \\mathop{\\mathrm{x3}}^{5} + \\mathop{\\mathrm{x1}}^{4} \\mathop{\\mathrm{x3}}^{4} \\mathop{\\mathrm{x5}} + \\mathop{\\mathrm{x1}}^{4} \\mathop{\\mathrm{x3}}^{3} \\mathop{\\mathrm{x5}}^{2} + \\mathop{\\mathrm{x1}}^{4} \\mathop{\\mathrm{x3}}^{2} \\mathop{\\mathrm{x5}}^{3} + \\mathop{\\mathrm{x1}}^{4} \\mathop{\\mathrm{x3}} \\mathop{\\mathrm{x5}}^{4} + \\mathop{\\mathrm{x1}}^{4} \\mathop{\\mathrm{x5}}^{5} + \\mathop{\\mathrm{x1}}^{3} \\mathop{\\mathrm{x2}} \\mathop{\\mathrm{x3}}^{5} + \\mathop{\\mathrm{x1}}^{3} \\mathop{\\mathrm{x2}} \\mathop{\\mathrm{x3}}^{4} \\mathop{\\mathrm{x5}} + \\mathop{\\mathrm{x1}}^{3} \\mathop{\\mathrm{x2}} \\mathop{\\mathrm{x3}}^{3} \\mathop{\\mathrm{x5}}^{2} + \\mathop{\\mathrm{x1}}^{3} \\mathop{\\mathrm{x2}} \\mathop{\\mathrm{x3}}^{2} \\mathop{\\mathrm{x5}}^{3} + \\mathop{\\mathrm{x1}}^{3} \\mathop{\\mathrm{x2}} \\mathop{\\mathrm{x3}} \\mathop{\\mathrm{x5}}^{4} + \\mathop{\\mathrm{x1}}^{3} \\mathop{\\mathrm{x2}} \\mathop{\\mathrm{x5}}^{5} + \\mathop{\\mathrm{x1}}^{3} \\mathop{\\mathrm{x3}}^{5} \\mathop{\\mathrm{x5}} + \\mathop{\\mathrm{x1}}^{3} \\mathop{\\mathrm{x3}}^{4} \\mathop{\\mathrm{x5}}^{2} + \\mathop{\\mathrm{x1}}^{3} \\mathop{\\mathrm{x3}}^{3} \\mathop{\\mathrm{x5}}^{3} + \\mathop{\\mathrm{x1}}^{3} \\mathop{\\mathrm{x3}}^{2} \\mathop{\\mathrm{x5}}^{4} + \\mathop{\\mathrm{x1}}^{3} \\mathop{\\mathrm{x3}} \\mathop{\\mathrm{x5}}^{5} + \\mathop{\\mathrm{x1}}^{3} + \\mathop{\\mathrm{x1}}^{2} \\mathop{\\mathrm{x2}}^{2} \\mathop{\\mathrm{x3}}^{5} + \\mathop{\\mathrm{x1}}^{2} \\mathop{\\mathrm{x2}}^{2} \\mathop{\\mathrm{x3}}^{4} \\mathop{\\mathrm{x5}} + \\mathop{\\mathrm{x1}}^{2} \\mathop{\\mathrm{x2}}^{2} \\mathop{\\mathrm{x3}}^{3} \\mathop{\\mathrm{x5}}^{2} + \\mathop{\\mathrm{x1}}^{2} \\mathop{\\mathrm{x2}}^{2} \\mathop{\\mathrm{x3}}^{2} \\mathop{\\mathrm{x5}}^{3} + \\mathop{\\mathrm{x1}}^{2} \\mathop{\\mathrm{x2}}^{2} \\mathop{\\mathrm{x3}} \\mathop{\\mathrm{x5}}^{4} + \\mathop{\\mathrm{x1}}^{2} \\mathop{\\mathrm{x2}}^{2} \\mathop{\\mathrm{x5}}^{5} + \\mathop{\\mathrm{x1}}^{2} \\mathop{\\mathrm{x2}} \\mathop{\\mathrm{x3}}^{5} \\mathop{\\mathrm{x5}} + \\mathop{\\mathrm{x1}}^{2} \\mathop{\\mathrm{x2}} \\mathop{\\mathrm{x3}}^{4} \\mathop{\\mathrm{x5}}^{2} + \\mathop{\\mathrm{x1}}^{2} \\mathop{\\mathrm{x2}} \\mathop{\\mathrm{x3}}^{3} \\mathop{\\mathrm{x5}}^{3} + \\mathop{\\mathrm{x1}}^{2} \\mathop{\\mathrm{x2}} \\mathop{\\mathrm{x3}}^{2} \\mathop{\\mathrm{x5}}^{4} + \\mathop{\\mathrm{x1}}^{2} \\mathop{\\mathrm{x2}} \\mathop{\\mathrm{x3}} \\mathop{\\mathrm{x5}}^{5} + \\mathop{\\mathrm{x1}}^{2} \\mathop{\\mathrm{x2}} + \\mathop{\\mathrm{x1}}^{2} \\mathop{\\mathrm{x3}}^{5} \\mathop{\\mathrm{x5}}^{2} + \\mathop{\\mathrm{x1}}^{2} \\mathop{\\mathrm{x3}}^{4} \\mathop{\\mathrm{x5}}^{3} + \\mathop{\\mathrm{x1}}^{2} \\mathop{\\mathrm{x3}}^{3} \\mathop{\\mathrm{x5}}^{4} + \\mathop{\\mathrm{x1}}^{2} \\mathop{\\mathrm{x3}}^{2} \\mathop{\\mathrm{x5}}^{5} + \\mathop{\\mathrm{x1}}^{2} \\mathop{\\mathrm{x3}} + \\mathop{\\mathrm{x1}}^{2} \\mathop{\\mathrm{x5}} + \\mathop{\\mathrm{x1}} \\mathop{\\mathrm{x2}}^{3} \\mathop{\\mathrm{x3}}^{5} + \\mathop{\\mathrm{x1}} \\mathop{\\mathrm{x2}}^{3} \\mathop{\\mathrm{x3}}^{4} \\mathop{\\mathrm{x5}} + \\mathop{\\mathrm{x1}} \\mathop{\\mathrm{x2}}^{3} \\mathop{\\mathrm{x3}}^{3} \\mathop{\\mathrm{x5}}^{2} + \\mathop{\\mathrm{x1}} \\mathop{\\mathrm{x2}}^{3} \\mathop{\\mathrm{x3}}^{2} \\mathop{\\mathrm{x5}}^{3} + \\mathop{\\mathrm{x1}} \\mathop{\\mathrm{x2}}^{3} \\mathop{\\mathrm{x3}} \\mathop{\\mathrm{x5}}^{4} + \\mathop{\\mathrm{x1}} \\mathop{\\mathrm{x2}}^{3} \\mathop{\\mathrm{x5}}^{5} + \\mathop{\\mathrm{x1}} \\mathop{\\mathrm{x2}}^{2} \\mathop{\\mathrm{x3}}^{5} \\mathop{\\mathrm{x5}} + \\mathop{\\mathrm{x1}} \\mathop{\\mathrm{x2}}^{2} \\mathop{\\mathrm{x3}}^{4} \\mathop{\\mathrm{x5}}^{2} + \\mathop{\\mathrm{x1}} \\mathop{\\mathrm{x2}}^{2} \\mathop{\\mathrm{x3}}^{3} \\mathop{\\mathrm{x5}}^{3} + \\mathop{\\mathrm{x1}} \\mathop{\\mathrm{x2}}^{2} \\mathop{\\mathrm{x3}}^{2} \\mathop{\\mathrm{x5}}^{4} + \\mathop{\\mathrm{x1}} \\mathop{\\mathrm{x2}}^{2} \\mathop{\\mathrm{x3}} \\mathop{\\mathrm{x5}}^{5} + \\mathop{\\mathrm{x1}} \\mathop{\\mathrm{x2}}^{2} + \\mathop{\\mathrm{x1}} \\mathop{\\mathrm{x2}} \\mathop{\\mathrm{x3}}^{5} \\mathop{\\mathrm{x5}}^{2} + \\mathop{\\mathrm{x1}} \\mathop{\\mathrm{x2}} \\mathop{\\mathrm{x3}}^{4} \\mathop{\\mathrm{x5}}^{3} + \\mathop{\\mathrm{x1}} \\mathop{\\mathrm{x2}} \\mathop{\\mathrm{x3}}^{3} \\mathop{\\mathrm{x5}}^{4} + \\mathop{\\mathrm{x1}} \\mathop{\\mathrm{x2}} \\mathop{\\mathrm{x3}}^{2} \\mathop{\\mathrm{x5}}^{5} + \\mathop{\\mathrm{x1}} \\mathop{\\mathrm{x2}} \\mathop{\\mathrm{x3}} + \\mathop{\\mathrm{x1}} \\mathop{\\mathrm{x2}} \\mathop{\\mathrm{x5}} + \\mathop{\\mathrm{x1}} \\mathop{\\mathrm{x3}}^{5} \\mathop{\\mathrm{x5}}^{3} + \\mathop{\\mathrm{x1}} \\mathop{\\mathrm{x3}}^{4} \\mathop{\\mathrm{x5}}^{4} + \\mathop{\\mathrm{x1}} \\mathop{\\mathrm{x3}}^{3} \\mathop{\\mathrm{x5}}^{5} + \\mathop{\\mathrm{x1}} \\mathop{\\mathrm{x3}}^{2} + \\mathop{\\mathrm{x1}} \\mathop{\\mathrm{x3}} \\mathop{\\mathrm{x5}} + \\mathop{\\mathrm{x1}} \\mathop{\\mathrm{x5}}^{2} + \\mathop{\\mathrm{x2}}^{4} \\mathop{\\mathrm{x3}}^{5} + \\mathop{\\mathrm{x2}}^{4} \\mathop{\\mathrm{x3}}^{4} \\mathop{\\mathrm{x5}} + \\mathop{\\mathrm{x2}}^{4} \\mathop{\\mathrm{x3}}^{3} \\mathop{\\mathrm{x5}}^{2} + \\mathop{\\mathrm{x2}}^{4} \\mathop{\\mathrm{x3}}^{2} \\mathop{\\mathrm{x5}}^{3} + \\mathop{\\mathrm{x2}}^{4} \\mathop{\\mathrm{x3}} \\mathop{\\mathrm{x5}}^{4} + \\mathop{\\mathrm{x2}}^{4} \\mathop{\\mathrm{x5}}^{5} + \\mathop{\\mathrm{x2}}^{3} \\mathop{\\mathrm{x3}}^{5} \\mathop{\\mathrm{x5}} + \\mathop{\\mathrm{x2}}^{3} \\mathop{\\mathrm{x3}}^{4} \\mathop{\\mathrm{x5}}^{2} + \\mathop{\\mathrm{x2}}^{3} \\mathop{\\mathrm{x3}}^{3} \\mathop{\\mathrm{x5}}^{3} + \\mathop{\\mathrm{x2}}^{3} \\mathop{\\mathrm{x3}}^{2} \\mathop{\\mathrm{x5}}^{4} + \\mathop{\\mathrm{x2}}^{3} \\mathop{\\mathrm{x3}} \\mathop{\\mathrm{x5}}^{5} + \\mathop{\\mathrm{x2}}^{3} + \\mathop{\\mathrm{x2}}^{2} \\mathop{\\mathrm{x3}}^{5} \\mathop{\\mathrm{x5}}^{2} + \\mathop{\\mathrm{x2}}^{2} \\mathop{\\mathrm{x3}}^{4} \\mathop{\\mathrm{x5}}^{3} + \\mathop{\\mathrm{x2}}^{2} \\mathop{\\mathrm{x3}}^{3} \\mathop{\\mathrm{x5}}^{4} + \\mathop{\\mathrm{x2}}^{2} \\mathop{\\mathrm{x3}}^{2} \\mathop{\\mathrm{x5}}^{5} + \\mathop{\\mathrm{x2}}^{2} \\mathop{\\mathrm{x3}} + \\mathop{\\mathrm{x2}}^{2} \\mathop{\\mathrm{x5}} + \\mathop{\\mathrm{x2}} \\mathop{\\mathrm{x3}}^{5} \\mathop{\\mathrm{x5}}^{3} + \\mathop{\\mathrm{x2}} \\mathop{\\mathrm{x3}}^{4} \\mathop{\\mathrm{x5}}^{4} + \\mathop{\\mathrm{x2}} \\mathop{\\mathrm{x3}}^{3} \\mathop{\\mathrm{x5}}^{5} + \\mathop{\\mathrm{x2}} \\mathop{\\mathrm{x3}}^{2} + \\mathop{\\mathrm{x2}} \\mathop{\\mathrm{x3}} \\mathop{\\mathrm{x5}} + \\mathop{\\mathrm{x2}} \\mathop{\\mathrm{x5}}^{2} + \\mathop{\\mathrm{x3}}^{5} \\mathop{\\mathrm{x5}}^{4} + \\mathop{\\mathrm{x3}}^{4} \\mathop{\\mathrm{x5}}^{5} + \\mathop{\\mathrm{x3}}^{3} + \\mathop{\\mathrm{x3}}^{2} \\mathop{\\mathrm{x5}} + \\mathop{\\mathrm{x3}} \\mathop{\\mathrm{x5}}^{2} + \\mathop{\\mathrm{x5}}^{3}\\right)"
      ],
      "text/plain": [
       "ideal(x2^4*x4 - x2^4*x5 + x2^3*x4^2 - x2^3*x5^2 + x2^2*x4^3 - x2^2*x5^3 + x2*x4^4 - x2*x5^4 + x4^5 - x5^5, x2^5 + x2^4*x5 + x2^3*x5^2 + x2^2*x5^3 + x2*x5^4 + x5^5, x1^4*x2 - x1^4*x3 + x1^3*x2^2 - x1^3*x3^2 + x1^2*x2^3 - x1^2*x3^3 + x1*x2^4 - x1*x3^4 - x2^4*x5 - x2^3*x5^2 - x2^2*x5^3 - x2*x5^4 - x3^5 - x5^5, x1^5 + x1^4*x3 + x1^3*x3^2 + x1^2*x3^3 + x1*x3^4 + x3^5, x5^6 - 1, x4^6 - 1, x3^6 - 1, x1^4*x3^4*x4 - x1^4*x3^4*x5 + x1^4*x3^3*x4^2 - x1^4*x3^3*x5^2 + x1^4*x3^2*x4^3 - x1^4*x3^2*x5^3 + x1^4*x3*x4^4 - x1^4*x3*x5^4 + x1^4*x4^5 - x1^4*x5^5 + x1^3*x2*x3^4*x4 - x1^3*x2*x3^4*x5 + x1^3*x2*x3^3*x4^2 - x1^3*x2*x3^3*x5^2 + x1^3*x2*x3^2*x4^3 - x1^3*x2*x3^2*x5^3 + x1^3*x2*x3*x4^4 - x1^3*x2*x3*x5^4 + x1^3*x2*x4^5 - x1^3*x2*x5^5 + x1^3*x3^5*x4 - x1^3*x3^5*x5 + x1^3*x3^4*x4^2 - x1^3*x3^4*x5^2 + x1^3*x3^3*x4^3 - x1^3*x3^3*x5^3 + x1^3*x3^2*x4^4 - x1^3*x3^2*x5^4 + x1^3*x3*x4^5 - x1^3*x3*x5^5 + x1^2*x2^2*x3^4*x4 - x1^2*x2^2*x3^4*x5 + x1^2*x2^2*x3^3*x4^2 - x1^2*x2^2*x3^3*x5^2 + x1^2*x2^2*x3^2*x4^3 - x1^2*x2^2*x3^2*x5^3 + x1^2*x2^2*x3*x4^4 - x1^2*x2^2*x3*x5^4 + x1^2*x2^2*x4^5 - x1^2*x2^2*x5^5 + x1^2*x2*x3^5*x4 - x1^2*x2*x3^5*x5 + x1^2*x2*x3^4*x4^2 - x1^2*x2*x3^4*x5^2 + x1^2*x2*x3^3*x4^3 - x1^2*x2*x3^3*x5^3 + x1^2*x2*x3^2*x4^4 - x1^2*x2*x3^2*x5^4 + x1^2*x2*x3*x4^5 - x1^2*x2*x3*x5^5 + x1^2*x3^5*x4^2 - x1^2*x3^5*x5^2 + x1^2*x3^4*x4^3 - x1^2*x3^4*x5^3 + x1^2*x3^3*x4^4 - x1^2*x3^3*x5^4 + x1^2*x3^2*x4^5 - x1^2*x3^2*x5^5 + x1^2*x4 - x1^2*x5 + x1*x2^3*x3^4*x4 - x1*x2^3*x3^4*x5 + x1*x2^3*x3^3*x4^2 - x1*x2^3*x3^3*x5^2 + x1*x2^3*x3^2*x4^3 - x1*x2^3*x3^2*x5^3 + x1*x2^3*x3*x4^4 - x1*x2^3*x3*x5^4 + x1*x2^3*x4^5 - x1*x2^3*x5^5 + x1*x2^2*x3^5*x4 - x1*x2^2*x3^5*x5 + x1*x2^2*x3^4*x4^2 - x1*x2^2*x3^4*x5^2 + x1*x2^2*x3^3*x4^3 - x1*x2^2*x3^3*x5^3 + x1*x2^2*x3^2*x4^4 - x1*x2^2*x3^2*x5^4 + x1*x2^2*x3*x4^5 - x1*x2^2*x3*x5^5 + x1*x2*x3^5*x4^2 - x1*x2*x3^5*x5^2 + x1*x2*x3^4*x4^3 - x1*x2*x3^4*x5^3 + x1*x2*x3^3*x4^4 - x1*x2*x3^3*x5^4 + x1*x2*x3^2*x4^5 - x1*x2*x3^2*x5^5 + x1*x2*x4 - x1*x2*x5 + x1*x3^5*x4^3 - x1*x3^5*x5^3 + x1*x3^4*x4^4 - x1*x3^4*x5^4 + x1*x3^3*x4^5 - x1*x3^3*x5^5 + x1*x3*x4 - x1*x3*x5 + x1*x4^2 - x1*x5^2 + x2^3*x3^5*x4 - x2^3*x3^5*x5 - x2^3*x3^3*x4^2*x5 + x2^3*x3^3*x4*x5^2 - x2^3*x3^2*x4^3*x5 + x2^3*x3^2*x4*x5^3 - x2^3*x3*x4^4*x5 + x2^3*x3*x4*x5^4 - x2^3*x4^5*x5 + x2^3*x4*x5^5 + x2^2*x3^5*x4^2 - x2^2*x3^5*x5^2 - x2^2*x3^3*x4^3*x5 + x2^2*x3^3*x4*x5^3 - x2^2*x3^2*x4^4*x5 - x2^2*x3^2*x4^3*x5^2 + x2^2*x3^2*x4^2*x5^3 + x2^2*x3^2*x4*x5^4 - x2^2*x3*x4^5*x5 - x2^2*x3*x4^4*x5^2 + x2^2*x3*x4^2*x5^4 + x2^2*x3*x4*x5^5 - x2^2*x4^5*x5^2 + x2^2*x4^2*x5^5 + x2^2*x4 - x2^2*x5 + x2*x3^5*x4^3 - x2*x3^5*x5^3 - x2*x3^3*x4^4*x5 + x2*x3^3*x4*x5^4 - x2*x3^2*x4^5*x5 - x2*x3^2*x4^4*x5^2 + x2*x3^2*x4^2*x5^4 + x2*x3^2*x4*x5^5 - x2*x3*x4^5*x5^2 - x2*x3*x4^4*x5^3 + x2*x3*x4^3*x5^4 + x2*x3*x4^2*x5^5 + x2*x3*x4 - x2*x3*x5 - x2*x4^5*x5^3 + x2*x4^3*x5^5 + x2*x4^2 - x2*x5^2 + x3^5*x4^4 - x3^5*x5^4 - x3^3*x4^5*x5 + x3^3*x4*x5^5 - x3^2*x4^5*x5^2 + x3^2*x4^2*x5^5 + x3^2*x4 - x3^2*x5 - x3*x4^5*x5^3 + x3*x4^3*x5^5 + x3*x4^2 - x3*x5^2 - x4^5*x5^4 + x4^4*x5^5 + x4^3 - x5^3, x1^4*x3^5 + x1^4*x3^4*x5 + x1^4*x3^3*x5^2 + x1^4*x3^2*x5^3 + x1^4*x3*x5^4 + x1^4*x5^5 + x1^3*x2*x3^5 + x1^3*x2*x3^4*x5 + x1^3*x2*x3^3*x5^2 + x1^3*x2*x3^2*x5^3 + x1^3*x2*x3*x5^4 + x1^3*x2*x5^5 + x1^3*x3^5*x5 + x1^3*x3^4*x5^2 + x1^3*x3^3*x5^3 + x1^3*x3^2*x5^4 + x1^3*x3*x5^5 + x1^3 + x1^2*x2^2*x3^5 + x1^2*x2^2*x3^4*x5 + x1^2*x2^2*x3^3*x5^2 + x1^2*x2^2*x3^2*x5^3 + x1^2*x2^2*x3*x5^4 + x1^2*x2^2*x5^5 + x1^2*x2*x3^5*x5 + x1^2*x2*x3^4*x5^2 + x1^2*x2*x3^3*x5^3 + x1^2*x2*x3^2*x5^4 + x1^2*x2*x3*x5^5 + x1^2*x2 + x1^2*x3^5*x5^2 + x1^2*x3^4*x5^3 + x1^2*x3^3*x5^4 + x1^2*x3^2*x5^5 + x1^2*x3 + x1^2*x5 + x1*x2^3*x3^5 + x1*x2^3*x3^4*x5 + x1*x2^3*x3^3*x5^2 + x1*x2^3*x3^2*x5^3 + x1*x2^3*x3*x5^4 + x1*x2^3*x5^5 + x1*x2^2*x3^5*x5 + x1*x2^2*x3^4*x5^2 + x1*x2^2*x3^3*x5^3 + x1*x2^2*x3^2*x5^4 + x1*x2^2*x3*x5^5 + x1*x2^2 + x1*x2*x3^5*x5^2 + x1*x2*x3^4*x5^3 + x1*x2*x3^3*x5^4 + x1*x2*x3^2*x5^5 + x1*x2*x3 + x1*x2*x5 + x1*x3^5*x5^3 + x1*x3^4*x5^4 + x1*x3^3*x5^5 + x1*x3^2 + x1*x3*x5 + x1*x5^2 + x2^4*x3^5 + x2^4*x3^4*x5 + x2^4*x3^3*x5^2 + x2^4*x3^2*x5^3 + x2^4*x3*x5^4 + x2^4*x5^5 + x2^3*x3^5*x5 + x2^3*x3^4*x5^2 + x2^3*x3^3*x5^3 + x2^3*x3^2*x5^4 + x2^3*x3*x5^5 + x2^3 + x2^2*x3^5*x5^2 + x2^2*x3^4*x5^3 + x2^2*x3^3*x5^4 + x2^2*x3^2*x5^5 + x2^2*x3 + x2^2*x5 + x2*x3^5*x5^3 + x2*x3^4*x5^4 + x2*x3^3*x5^5 + x2*x3^2 + x2*x3*x5 + x2*x5^2 + x3^5*x5^4 + x3^4*x5^5 + x3^3 + x3^2*x5 + x3*x5^2 + x5^3)"
      ]
     },
     "metadata": {},
     "output_type": "display_data"
    }
   ],
   "source": [
    "G = ideal(G2)"
   ]
  },
  {
   "cell_type": "code",
   "execution_count": 17,
   "metadata": {},
   "outputs": [
    {
     "data": {
      "text/plain": [
       "0"
      ]
     },
     "metadata": {},
     "output_type": "display_data"
    }
   ],
   "source": [
    "dim(G)"
   ]
  },
  {
   "cell_type": "code",
   "execution_count": 18,
   "metadata": {},
   "outputs": [
    {
     "data": {
      "text/plain": [
       "dimQI (generic function with 1 method)"
      ]
     },
     "metadata": {},
     "output_type": "display_data"
    }
   ],
   "source": [
    "function dimQI(v,lista)\n",
    "    # devuelve el grado de la variable v en el anillo cociente definido por una lista de polinomios\n",
    "    max = 0\n",
    "    leadmons = Set([leading_monomial(f) for f in lista]) # crea un conjunto de los monomios principales de cada polinomio\n",
    "    for p in leadmons\n",
    "        if v in vars(p) # verifica si la variable esta en las variables de el monomio principal\n",
    "            m = degree(p, v) # calcula el grado de v en el monomio\n",
    "            if m> max # busca el mayor valor\n",
    "                max = m\n",
    "            end\n",
    "        end\n",
    "    end\n",
    "    return max # devuelve el maximo grado de v en el anillo cociente determinado por la lista de polinomios\n",
    "end"
   ]
  },
  {
   "cell_type": "code",
   "execution_count": 19,
   "metadata": {},
   "outputs": [
    {
     "data": {
      "text/plain": [
       "kbasis (generic function with 1 method)"
      ]
     },
     "metadata": {},
     "output_type": "display_data"
    }
   ],
   "source": [
    "function kbasis(GB, VList)\n",
    "    # devuelve una lista de monomios que forman una base del anillo cociente, donde GB es una base de Gröbner para un ideal de dimensión cero, \n",
    "    #y genera un mensaje de error si el ideal no es de dimensión cero.\n",
    "    \n",
    "    if iszero(dim(GB))  # verifica si el ideal es de dimensión cero\n",
    "        Gb = collect(gens(GB))\n",
    "        B = [(div(VList[1],VList[1])) ]  # inicializa la lista de monomios de la base con el monomio 1\n",
    "        leadmons = Set([leading_monomial(f) for f in Gb])  # crea un conjunto de los monomios principales de cada polinomio en la base de Gröbner\n",
    "        for v in VList\n",
    "            m = dimQI(v, leadmons)  # determina el grado de la variable v en el anillo cociente\n",
    "            C = copy(B)  # crea una copia de la lista de monomios actual como base para la siguiente iteración\n",
    "            for t in C\n",
    "                for l in 1:m-1\n",
    "                    t = t*v  # multiplica el monomio actual por la variable v\n",
    "                    if  !(any((divrem(t,u)[2] == 0) for u in leadmons))  # verifica si alguno de los monomios principales de la base de Gröbner divide al nuevo monomio\n",
    "                        push!(B, t)  # si ningún monomio principal lo divide, agrega el nuevo monomio a la lista de monomios de la base\n",
    "                    end\n",
    "                end\n",
    "            end\n",
    "        end\n",
    "        return B  # devuelve la lista de monomios de la base\n",
    "    else\n",
    "        error(\"el ideal no es de dimensión cero\")\n",
    "    end\n",
    "end"
   ]
  },
  {
   "cell_type": "code",
   "execution_count": 20,
   "metadata": {},
   "outputs": [
    {
     "data": {
      "text/plain": [
       "(Multivariate Polynomial Ring in x1, x2, x3, x4, x5 over Rational Field, fmpq_mpoly[x1, x2, x3, x4, x5])"
      ]
     },
     "metadata": {},
     "output_type": "display_data"
    }
   ],
   "source": [
    "T, x = PolynomialRing(QQ, [\"x$i\" for i in 1:nv(g)])"
   ]
  },
  {
   "cell_type": "code",
   "execution_count": 21,
   "metadata": {},
   "outputs": [
    {
     "data": {
      "text/plain": [
       "(Vector space of dimension 3750 over Rational Field, Map from\n",
       "Vector space of dimension 3750 over Rational Field to Quotient of Multivariate Polynomial Ring in x1, x2, x3, x4, x5 over Rational Field by ideal(x2^4*x4 - x2^4*x5 + x2^3*x4^2 - x2^3*x5^2 + x2^2*x4^3 - x2^2*x5^3 + x2*x4^4 - x2*x5^4 + x4^5 - x5^5, x2^5 + x2^4*x5 + x2^3*x5^2 + x2^2*x5^3 + x2*x5^4 + x5^5, x1^4*x2 - x1^4*x3 + x1^3*x2^2 - x1^3*x3^2 + x1^2*x2^3 - x1^2*x3^3 + x1*x2^4 - x1*x3^4 - x2^4*x5 - x2^3*x5^2 - x2^2*x5^3 - x2*x5^4 - x3^5 - x5^5, x1^5 + x1^4*x3 + x1^3*x3^2 + x1^2*x3^3 + x1*x3^4 + x3^5, x5^6 - 1, x4^6 - 1, x3^6 - 1, x1^4*x3^4*x4 - x1^4*x3^4*x5 + x1^4*x3^3*x4^2 - x1^4*x3^3*x5^2 + x1^4*x3^2*x4^3 - x1^4*x3^2*x5^3 + x1^4*x3*x4^4 - x1^4*x3*x5^4 + x1^4*x4^5 - x1^4*x5^5 + x1^3*x2*x3^4*x4 - x1^3*x2*x3^4*x5 + x1^3*x2*x3^3*x4^2 - x1^3*x2*x3^3*x5^2 + x1^3*x2*x3^2*x4^3 - x1^3*x2*x3^2*x5^3 + x1^3*x2*x3*x4^4 - x1^3*x2*x3*x5^4 + x1^3*x2*x4^5 - x1^3*x2*x5^5 + x1^3*x3^5*x4 - x1^3*x3^5*x5 + x1^3*x3^4*x4^2 - x1^3*x3^4*x5^2 + x1^3*x3^3*x4^3 - x1^3*x3^3*x5^3 + x1^3*x3^2*x4^4 - x1^3*x3^2*x5^4 + x1^3*x3*x4^5 - x1^3*x3*x5^5 + x1^2*x2^2*x3^4*x4 - x1^2*x2^2*x3^4*x5 + x1^2*x2^2*x3^3*x4^2 - x1^2*x2^2*x3^3*x5^2 + x1^2*x2^2*x3^2*x4^3 - x1^2*x2^2*x3^2*x5^3 + x1^2*x2^2*x3*x4^4 - x1^2*x2^2*x3*x5^4 + x1^2*x2^2*x4^5 - x1^2*x2^2*x5^5 + x1^2*x2*x3^5*x4 - x1^2*x2*x3^5*x5 + x1^2*x2*x3^4*x4^2 - x1^2*x2*x3^4*x5^2 + x1^2*x2*x3^3*x4^3 - x1^2*x2*x3^3*x5^3 + x1^2*x2*x3^2*x4^4 - x1^2*x2*x3^2*x5^4 + x1^2*x2*x3*x4^5 - x1^2*x2*x3*x5^5 + x1^2*x3^5*x4^2 - x1^2*x3^5*x5^2 + x1^2*x3^4*x4^3 - x1^2*x3^4*x5^3 + x1^2*x3^3*x4^4 - x1^2*x3^3*x5^4 + x1^2*x3^2*x4^5 - x1^2*x3^2*x5^5 + x1^2*x4 - x1^2*x5 + x1*x2^3*x3^4*x4 - x1*x2^3*x3^4*x5 + x1*x2^3*x3^3*x4^2 - x1*x2^3*x3^3*x5^2 + x1*x2^3*x3^2*x4^3 - x1*x2^3*x3^2*x5^3 + x1*x2^3*x3*x4^4 - x1*x2^3*x3*x5^4 + x1*x2^3*x4^5 - x1*x2^3*x5^5 + x1*x2^2*x3^5*x4 - x1*x2^2*x3^5*x5 + x1*x2^2*x3^4*x4^2 - x1*x2^2*x3^4*x5^2 + x1*x2^2*x3^3*x4^3 - x1*x2^2*x3^3*x5^3 + x1*x2^2*x3^2*x4^4 - x1*x2^2*x3^2*x5^4 + x1*x2^2*x3*x4^5 - x1*x2^2*x3*x5^5 + x1*x2*x3^5*x4^2 - x1*x2*x3^5*x5^2 + x1*x2*x3^4*x4^3 - x1*x2*x3^4*x5^3 + x1*x2*x3^3*x4^4 - x1*x2*x3^3*x5^4 + x1*x2*x3^2*x4^5 - x1*x2*x3^2*x5^5 + x1*x2*x4 - x1*x2*x5 + x1*x3^5*x4^3 - x1*x3^5*x5^3 + x1*x3^4*x4^4 - x1*x3^4*x5^4 + x1*x3^3*x4^5 - x1*x3^3*x5^5 + x1*x3*x4 - x1*x3*x5 + x1*x4^2 - x1*x5^2 + x2^3*x3^5*x4 - x2^3*x3^5*x5 - x2^3*x3^3*x4^2*x5 + x2^3*x3^3*x4*x5^2 - x2^3*x3^2*x4^3*x5 + x2^3*x3^2*x4*x5^3 - x2^3*x3*x4^4*x5 + x2^3*x3*x4*x5^4 - x2^3*x4^5*x5 + x2^3*x4*x5^5 + x2^2*x3^5*x4^2 - x2^2*x3^5*x5^2 - x2^2*x3^3*x4^3*x5 + x2^2*x3^3*x4*x5^3 - x2^2*x3^2*x4^4*x5 - x2^2*x3^2*x4^3*x5^2 + x2^2*x3^2*x4^2*x5^3 + x2^2*x3^2*x4*x5^4 - x2^2*x3*x4^5*x5 - x2^2*x3*x4^4*x5^2 + x2^2*x3*x4^2*x5^4 + x2^2*x3*x4*x5^5 - x2^2*x4^5*x5^2 + x2^2*x4^2*x5^5 + x2^2*x4 - x2^2*x5 + x2*x3^5*x4^3 - x2*x3^5*x5^3 - x2*x3^3*x4^4*x5 + x2*x3^3*x4*x5^4 - x2*x3^2*x4^5*x5 - x2*x3^2*x4^4*x5^2 + x2*x3^2*x4^2*x5^4 + x2*x3^2*x4*x5^5 - x2*x3*x4^5*x5^2 - x2*x3*x4^4*x5^3 + x2*x3*x4^3*x5^4 + x2*x3*x4^2*x5^5 + x2*x3*x4 - x2*x3*x5 - x2*x4^5*x5^3 + x2*x4^3*x5^5 + x2*x4^2 - x2*x5^2 + x3^5*x4^4 - x3^5*x5^4 - x3^3*x4^5*x5 + x3^3*x4*x5^5 - x3^2*x4^5*x5^2 + x3^2*x4^2*x5^5 + x3^2*x4 - x3^2*x5 - x3*x4^5*x5^3 + x3*x4^3*x5^5 + x3*x4^2 - x3*x5^2 - x4^5*x5^4 + x4^4*x5^5 + x4^3 - x5^3, x1^4*x3^5 + x1^4*x3^4*x5 + x1^4*x3^3*x5^2 + x1^4*x3^2*x5^3 + x1^4*x3*x5^4 + x1^4*x5^5 + x1^3*x2*x3^5 + x1^3*x2*x3^4*x5 + x1^3*x2*x3^3*x5^2 + x1^3*x2*x3^2*x5^3 + x1^3*x2*x3*x5^4 + x1^3*x2*x5^5 + x1^3*x3^5*x5 + x1^3*x3^4*x5^2 + x1^3*x3^3*x5^3 + x1^3*x3^2*x5^4 + x1^3*x3*x5^5 + x1^3 + x1^2*x2^2*x3^5 + x1^2*x2^2*x3^4*x5 + x1^2*x2^2*x3^3*x5^2 + x1^2*x2^2*x3^2*x5^3 + x1^2*x2^2*x3*x5^4 + x1^2*x2^2*x5^5 + x1^2*x2*x3^5*x5 + x1^2*x2*x3^4*x5^2 + x1^2*x2*x3^3*x5^3 + x1^2*x2*x3^2*x5^4 + x1^2*x2*x3*x5^5 + x1^2*x2 + x1^2*x3^5*x5^2 + x1^2*x3^4*x5^3 + x1^2*x3^3*x5^4 + x1^2*x3^2*x5^5 + x1^2*x3 + x1^2*x5 + x1*x2^3*x3^5 + x1*x2^3*x3^4*x5 + x1*x2^3*x3^3*x5^2 + x1*x2^3*x3^2*x5^3 + x1*x2^3*x3*x5^4 + x1*x2^3*x5^5 + x1*x2^2*x3^5*x5 + x1*x2^2*x3^4*x5^2 + x1*x2^2*x3^3*x5^3 + x1*x2^2*x3^2*x5^4 + x1*x2^2*x3*x5^5 + x1*x2^2 + x1*x2*x3^5*x5^2 + x1*x2*x3^4*x5^3 + x1*x2*x3^3*x5^4 + x1*x2*x3^2*x5^5 + x1*x2*x3 + x1*x2*x5 + x1*x3^5*x5^3 + x1*x3^4*x5^4 + x1*x3^3*x5^5 + x1*x3^2 + x1*x3*x5 + x1*x5^2 + x2^4*x3^5 + x2^4*x3^4*x5 + x2^4*x3^3*x5^2 + x2^4*x3^2*x5^3 + x2^4*x3*x5^4 + x2^4*x5^5 + x2^3*x3^5*x5 + x2^3*x3^4*x5^2 + x2^3*x3^3*x5^3 + x2^3*x3^2*x5^4 + x2^3*x3*x5^5 + x2^3 + x2^2*x3^5*x5^2 + x2^2*x3^4*x5^3 + x2^2*x3^3*x5^4 + x2^2*x3^2*x5^5 + x2^2*x3 + x2^2*x5 + x2*x3^5*x5^3 + x2*x3^4*x5^4 + x2*x3^3*x5^5 + x2*x3^2 + x2*x3*x5 + x2*x5^2 + x3^5*x5^4 + x3^4*x5^5 + x3^3 + x3^2*x5 + x3*x5^2 + x5^3) defined by a julia-function)"
      ]
     },
     "metadata": {},
     "output_type": "display_data"
    }
   ],
   "source": [
    "Q = quo(T,G)\n",
    "v = vector_space(QQ,Q[1])"
   ]
  },
  {
   "cell_type": "code",
   "execution_count": 22,
   "metadata": {},
   "outputs": [],
   "source": [
    "v[2](collect(gens(v[1]))[1])"
   ]
  }
 ],
 "metadata": {
  "kernelspec": {
   "display_name": "Julia 1.8.5",
   "language": "julia",
   "name": "julia-1.8"
  },
  "language_info": {
   "file_extension": ".jl",
   "mimetype": "application/julia",
   "name": "julia",
   "version": "1.8.5"
  },
  "orig_nbformat": 4
 },
 "nbformat": 4,
 "nbformat_minor": 2
}
