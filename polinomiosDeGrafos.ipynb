{
 "cells": [
  {
   "cell_type": "code",
   "execution_count": 10,
   "metadata": {},
   "outputs": [],
   "source": [
    "using Oscar"
   ]
  },
  {
   "cell_type": "code",
   "execution_count": 11,
   "metadata": {},
   "outputs": [],
   "source": [
    "using GraphPlot"
   ]
  },
  {
   "cell_type": "code",
   "execution_count": 12,
   "metadata": {},
   "outputs": [
    {
     "data": {
      "text/plain": [
       "0"
      ]
     },
     "metadata": {},
     "output_type": "display_data"
    }
   ],
   "source": [
    "g = Graph{Undirected}(5)\n",
    "add_edge!(g, 1, 2)\n",
    "add_edge!(g, 1, 3)\n",
    "add_edge!(g, 2, 4)\n",
    "add_edge!(g, 2, 5)"
   ]
  },
  {
   "cell_type": "code",
   "execution_count": 13,
   "metadata": {},
   "outputs": [
    {
     "data": {
      "text/plain": [
       "Edge(2, 1)"
      ]
     },
     "metadata": {},
     "output_type": "display_data"
    }
   ],
   "source": [
    "e = collect(edges(g))[1]"
   ]
  },
  {
   "cell_type": "code",
   "execution_count": 14,
   "metadata": {},
   "outputs": [
    {
     "data": {
      "text/plain": [
       "1"
      ]
     },
     "metadata": {},
     "output_type": "display_data"
    }
   ],
   "source": [
    "dst(e)"
   ]
  },
  {
   "cell_type": "code",
   "execution_count": 15,
   "metadata": {},
   "outputs": [
    {
     "data": {
      "text/plain": [
       "2"
      ]
     },
     "metadata": {},
     "output_type": "display_data"
    }
   ],
   "source": [
    "src(e)"
   ]
  },
  {
   "cell_type": "code",
   "execution_count": 16,
   "metadata": {},
   "outputs": [
    {
     "data": {
      "text/plain": [
       "(Multivariate Polynomial Ring in x1, x2, x3, x4, x5 over Rational Field, fmpq_mpoly[x1, x2, x3, x4, x5])"
      ]
     },
     "metadata": {},
     "output_type": "display_data"
    }
   ],
   "source": [
    "T, x = PolynomialRing(QQ, [\"x$i\" for i in 1:nv(g)])"
   ]
  },
  {
   "cell_type": "code",
   "execution_count": 51,
   "metadata": {},
   "outputs": [
    {
     "data": {
      "text/plain": [
       "5-element Vector{fmpq_mpoly}:\n",
       " x1^6 - 1\n",
       " x2^6 - 1\n",
       " x3^6 - 1\n",
       " x4^6 - 1\n",
       " x5^6 - 1"
      ]
     },
     "metadata": {},
     "output_type": "display_data"
    }
   ],
   "source": [
    "k=6\n",
    "polis = [T[j]^k-1 for j in 1:nv(g)]\n"
   ]
  },
  {
   "cell_type": "code",
   "execution_count": 52,
   "metadata": {},
   "outputs": [
    {
     "data": {
      "text/plain": [
       "4×6 Matrix{fmpq_mpoly}:\n",
       " x2^5  x1*x2^4  x1^2*x2^3  x1^3*x2^2  x1^4*x2  x1^5\n",
       " x3^5  x1*x3^4  x1^2*x3^3  x1^3*x3^2  x1^4*x3  x1^5\n",
       " x4^5  x2*x4^4  x2^2*x4^3  x2^3*x4^2  x2^4*x4  x2^5\n",
       " x5^5  x2*x5^4  x2^2*x5^3  x2^3*x5^2  x2^4*x5  x2^5"
      ]
     },
     "metadata": {},
     "output_type": "display_data"
    }
   ],
   "source": [
    "polis2 = [T[src(r)]^(k-1-l) * T[dst(r)]^(l) for r in collect(edges(g)), l in 0:k-1]"
   ]
  },
  {
   "cell_type": "code",
   "execution_count": 53,
   "metadata": {},
   "outputs": [
    {
     "data": {
      "text/plain": [
       "4×1 Matrix{fmpq_mpoly}:\n",
       " x1^5 + x1^4*x2 + x1^3*x2^2 + x1^2*x2^3 + x1*x2^4 + x2^5\n",
       " x1^5 + x1^4*x3 + x1^3*x3^2 + x1^2*x3^3 + x1*x3^4 + x3^5\n",
       " x2^5 + x2^4*x4 + x2^3*x4^2 + x2^2*x4^3 + x2*x4^4 + x4^5\n",
       " x2^5 + x2^4*x5 + x2^3*x5^2 + x2^2*x5^3 + x2*x5^4 + x5^5"
      ]
     },
     "metadata": {},
     "output_type": "display_data"
    }
   ],
   "source": [
    "polis2 = sum(polis2,dims=2)"
   ]
  },
  {
   "cell_type": "code",
   "execution_count": 37,
   "metadata": {},
   "outputs": [
    {
     "data": {
      "text/plain": [
       "9-element Vector{fmpq_mpoly}:\n",
       " x1^3 - 1\n",
       " x2^3 - 1\n",
       " x3^3 - 1\n",
       " x4^3 - 1\n",
       " x5^3 - 1\n",
       " x1^2 + x1*x2 + x2^2\n",
       " x1^2 + x1*x3 + x3^2\n",
       " x2^2 + x2*x4 + x4^2\n",
       " x2^2 + x2*x5 + x5^2"
      ]
     },
     "metadata": {},
     "output_type": "display_data"
    }
   ],
   "source": [
    "pp = vec(vcat(polis,polis2))"
   ]
  },
  {
   "cell_type": "code",
   "execution_count": 56,
   "metadata": {},
   "outputs": [
    {
     "data": {
      "text/plain": [
       "polisGrafo (generic function with 1 method)"
      ]
     },
     "metadata": {},
     "output_type": "display_data"
    }
   ],
   "source": [
    "function polisGrafo(g,k)\n",
    "    T, x = PolynomialRing(QQ, [\"x$i\" for i in 1:nv(g)])\n",
    "    ps = [T[j]^k-1 for j in 1:nv(g)]\n",
    "    ps2 = [T[src(r)]^(k-1-l) * T[dst(r)]^(l) for r in collect(edges(g)), l in 0:k-1]\n",
    "    p2 = sum(ps2,dims=2)\n",
    "    polis = vec(vcat(ps,p2))\n",
    "    return polis\n",
    "end"
   ]
  },
  {
   "cell_type": "code",
   "execution_count": 55,
   "metadata": {},
   "outputs": [
    {
     "data": {
      "text/plain": [
       "9-element Vector{fmpq_mpoly}:\n",
       " x1^6 - 1\n",
       " x2^6 - 1\n",
       " x3^6 - 1\n",
       " x4^6 - 1\n",
       " x5^6 - 1\n",
       " x1^5 + x1^4*x2 + x1^3*x2^2 + x1^2*x2^3 + x1*x2^4 + x2^5\n",
       " x1^5 + x1^4*x3 + x1^3*x3^2 + x1^2*x3^3 + x1*x3^4 + x3^5\n",
       " x2^5 + x2^4*x4 + x2^3*x4^2 + x2^2*x4^3 + x2*x4^4 + x4^5\n",
       " x2^5 + x2^4*x5 + x2^3*x5^2 + x2^2*x5^3 + x2*x5^4 + x5^5"
      ]
     },
     "metadata": {},
     "output_type": "display_data"
    }
   ],
   "source": [
    "polisGrafo(g,6)"
   ]
  },
  {
   "cell_type": "code",
   "execution_count": 39,
   "metadata": {},
   "outputs": [
    {
     "data": {
      "text/html": [
       "ideal(x1^3 - 1, x2^3 - 1, x3^3 - 1, x4^3 - 1, x5^3 - 1, x1^2 + x1*x2 + x2^2, x1^2 + x1*x3 + x3^2, x2^2 + x2*x4 + x4^2, x2^2 + x2*x5 + x5^2)"
      ],
      "text/latex": [
       "\\mathop{\\mathrm{ideal}}\\left(\\mathop{\\mathrm{x1}}^{3} - 1, \\mathop{\\mathrm{x2}}^{3} - 1, \\mathop{\\mathrm{x3}}^{3} - 1, \\mathop{\\mathrm{x4}}^{3} - 1, \\mathop{\\mathrm{x5}}^{3} - 1, \\mathop{\\mathrm{x1}}^{2} + \\mathop{\\mathrm{x1}} \\mathop{\\mathrm{x2}} + \\mathop{\\mathrm{x2}}^{2}, \\mathop{\\mathrm{x1}}^{2} + \\mathop{\\mathrm{x1}} \\mathop{\\mathrm{x3}} + \\mathop{\\mathrm{x3}}^{2}, \\mathop{\\mathrm{x2}}^{2} + \\mathop{\\mathrm{x2}} \\mathop{\\mathrm{x4}} + \\mathop{\\mathrm{x4}}^{2}, \\mathop{\\mathrm{x2}}^{2} + \\mathop{\\mathrm{x2}} \\mathop{\\mathrm{x5}} + \\mathop{\\mathrm{x5}}^{2}\\right)"
      ],
      "text/plain": [
       "ideal(x1^3 - 1, x2^3 - 1, x3^3 - 1, x4^3 - 1, x5^3 - 1, x1^2 + x1*x2 + x2^2, x1^2 + x1*x3 + x3^2, x2^2 + x2*x4 + x4^2, x2^2 + x2*x5 + x5^2)"
      ]
     },
     "metadata": {},
     "output_type": "display_data"
    }
   ],
   "source": [
    "I = ideal(T,pp)"
   ]
  },
  {
   "cell_type": "code",
   "execution_count": 41,
   "metadata": {},
   "outputs": [
    {
     "data": {
      "text/plain": [
       "Gröbner basis with elements\n",
       "1 -> x2*x4 + x4^2 - x2*x5 - x5^2\n",
       "2 -> x2^2 + x2*x5 + x5^2\n",
       "3 -> x1*x2 - x1*x3 - x3^2 - x2*x5 - x5^2\n",
       "4 -> x1^2 + x1*x3 + x3^2\n",
       "5 -> x5^3 - 1\n",
       "6 -> x4^3 - 1\n",
       "7 -> x1*x3*x4 + x3^2*x4 + x1*x4^2 - x1*x3*x5 - x3^2*x5 - x4^2*x5 - x1*x5^2 + x4*x5^2\n",
       "8 -> x3^3 - 1\n",
       "9 -> x1*x3^2 + x2*x3^2 + x1*x3*x5 + x2*x3*x5 + x3^2*x5 + x1*x5^2 + x2*x5^2 + x3*x5^2 + 1\n",
       "with respect to the ordering\n",
       "degrevlex([x1, x2, x3, x4, x5])"
      ]
     },
     "metadata": {},
     "output_type": "display_data"
    }
   ],
   "source": [
    "G2 = groebner_basis(I)"
   ]
  },
  {
   "cell_type": "code",
   "execution_count": 43,
   "metadata": {},
   "outputs": [
    {
     "data": {
      "text/html": [
       "ideal(x2*x4 - x2*x5 + x4^2 - x5^2, x2^2 + x2*x5 + x5^2, x1*x2 - x1*x3 - x2*x5 - x3^2 - x5^2, x1^2 + x1*x3 + x3^2, x5^3 - 1, x4^3 - 1, x1*x3*x4 - x1*x3*x5 + x1*x4^2 - x1*x5^2 + x3^2*x4 - x3^2*x5 - x4^2*x5 + x4*x5^2, x3^3 - 1, x1*x3^2 + x1*x3*x5 + x1*x5^2 + x2*x3^2 + x2*x3*x5 + x2*x5^2 + x3^2*x5 + x3*x5^2 + 1)"
      ],
      "text/latex": [
       "\\mathop{\\mathrm{ideal}}\\left(\\mathop{\\mathrm{x2}} \\mathop{\\mathrm{x4}} - \\mathop{\\mathrm{x2}} \\mathop{\\mathrm{x5}} + \\mathop{\\mathrm{x4}}^{2} - \\mathop{\\mathrm{x5}}^{2}, \\mathop{\\mathrm{x2}}^{2} + \\mathop{\\mathrm{x2}} \\mathop{\\mathrm{x5}} + \\mathop{\\mathrm{x5}}^{2}, \\mathop{\\mathrm{x1}} \\mathop{\\mathrm{x2}} - \\mathop{\\mathrm{x1}} \\mathop{\\mathrm{x3}} - \\mathop{\\mathrm{x2}} \\mathop{\\mathrm{x5}} - \\mathop{\\mathrm{x3}}^{2} - \\mathop{\\mathrm{x5}}^{2}, \\mathop{\\mathrm{x1}}^{2} + \\mathop{\\mathrm{x1}} \\mathop{\\mathrm{x3}} + \\mathop{\\mathrm{x3}}^{2}, \\mathop{\\mathrm{x5}}^{3} - 1, \\mathop{\\mathrm{x4}}^{3} - 1, \\mathop{\\mathrm{x1}} \\mathop{\\mathrm{x3}} \\mathop{\\mathrm{x4}} - \\mathop{\\mathrm{x1}} \\mathop{\\mathrm{x3}} \\mathop{\\mathrm{x5}} + \\mathop{\\mathrm{x1}} \\mathop{\\mathrm{x4}}^{2} - \\mathop{\\mathrm{x1}} \\mathop{\\mathrm{x5}}^{2} + \\mathop{\\mathrm{x3}}^{2} \\mathop{\\mathrm{x4}} - \\mathop{\\mathrm{x3}}^{2} \\mathop{\\mathrm{x5}} - \\mathop{\\mathrm{x4}}^{2} \\mathop{\\mathrm{x5}} + \\mathop{\\mathrm{x4}} \\mathop{\\mathrm{x5}}^{2}, \\mathop{\\mathrm{x3}}^{3} - 1, \\mathop{\\mathrm{x1}} \\mathop{\\mathrm{x3}}^{2} + \\mathop{\\mathrm{x1}} \\mathop{\\mathrm{x3}} \\mathop{\\mathrm{x5}} + \\mathop{\\mathrm{x1}} \\mathop{\\mathrm{x5}}^{2} + \\mathop{\\mathrm{x2}} \\mathop{\\mathrm{x3}}^{2} + \\mathop{\\mathrm{x2}} \\mathop{\\mathrm{x3}} \\mathop{\\mathrm{x5}} + \\mathop{\\mathrm{x2}} \\mathop{\\mathrm{x5}}^{2} + \\mathop{\\mathrm{x3}}^{2} \\mathop{\\mathrm{x5}} + \\mathop{\\mathrm{x3}} \\mathop{\\mathrm{x5}}^{2} + 1\\right)"
      ],
      "text/plain": [
       "ideal(x2*x4 - x2*x5 + x4^2 - x5^2, x2^2 + x2*x5 + x5^2, x1*x2 - x1*x3 - x2*x5 - x3^2 - x5^2, x1^2 + x1*x3 + x3^2, x5^3 - 1, x4^3 - 1, x1*x3*x4 - x1*x3*x5 + x1*x4^2 - x1*x5^2 + x3^2*x4 - x3^2*x5 - x4^2*x5 + x4*x5^2, x3^3 - 1, x1*x3^2 + x1*x3*x5 + x1*x5^2 + x2*x3^2 + x2*x3*x5 + x2*x5^2 + x3^2*x5 + x3*x5^2 + 1)"
      ]
     },
     "metadata": {},
     "output_type": "display_data"
    }
   ],
   "source": [
    "G = ideal(G2)"
   ]
  },
  {
   "cell_type": "code",
   "execution_count": 44,
   "metadata": {},
   "outputs": [
    {
     "data": {
      "text/plain": [
       "false"
      ]
     },
     "metadata": {},
     "output_type": "display_data"
    }
   ],
   "source": [
    "iszero(G)"
   ]
  }
 ],
 "metadata": {
  "kernelspec": {
   "display_name": "Julia 1.8.5",
   "language": "julia",
   "name": "julia-1.8"
  },
  "language_info": {
   "file_extension": ".jl",
   "mimetype": "application/julia",
   "name": "julia",
   "version": "1.8.5"
  },
  "orig_nbformat": 4
 },
 "nbformat": 4,
 "nbformat_minor": 2
}
