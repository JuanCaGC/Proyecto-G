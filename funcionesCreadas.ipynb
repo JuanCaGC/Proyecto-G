{
 "cells": [
  {
   "cell_type": "code",
   "execution_count": 1,
   "metadata": {},
   "outputs": [],
   "source": [
    "using Oscar"
   ]
  },
  {
   "cell_type": "code",
   "execution_count": null,
   "metadata": {},
   "outputs": [],
   "source": [
    "function dimQI(v,lista)\n",
    "    # devuelve el grado de la variable v en el anillo cociente definido por una lista de polinomios\n",
    "    max = 0\n",
    "    leadmons = Set([leading_monomial(f) for f in lista]) # crea un conjunto de los monomios principales de cada polinomio\n",
    "    for p in leadmons\n",
    "        if v in vars(p) # verifica si la variable esta en las variables de el monomio principal\n",
    "            m = degree(p, v) # calcula el grado de v en el monomio\n",
    "            if m> max # busca el mayor valor\n",
    "                max = m\n",
    "            end\n",
    "        end\n",
    "    end\n",
    "    return max # devuelve el maximo grado de v en el anillo cociente determinado por la lista de polinomios\n",
    "end"
   ]
  },
  {
   "cell_type": "code",
   "execution_count": null,
   "metadata": {},
   "outputs": [],
   "source": [
    "function kbasis(GB, VList)\n",
    "    # devuelve una lista de monomios que forman una base del anillo cociente como espacio vectorial, donde GB es una base de Gröbner para un ideal de dimensión cero, \n",
    "    #y genera un mensaje de error si el ideal no es de dimensión cero.\n",
    "    \n",
    "    if iszero(dim(GB))  # verifica si el ideal es de dimensión cero\n",
    "        Gb = collect(gens(GB))\n",
    "        B = [(div(VList[1],VList[1])) ]  # inicializa la lista de monomios de la base con el monomio 1\n",
    "        leadmons = Set([leading_monomial(f) for f in Gb])  # crea un conjunto de los monomios principales de cada polinomio en la base de Gröbner\n",
    "        for v in VList\n",
    "            m = dimQI(v, leadmons)  # determina el grado de la variable v en el anillo cociente\n",
    "            C = copy(B)  # crea una copia de la lista de monomios actual como base para la siguiente iteración\n",
    "            for t in C\n",
    "                for l in 1:m-1\n",
    "                    t = t*v  # multiplica el monomio actual por la variable v\n",
    "                    if  !(any((divrem(t,u)[2] == 0) for u in leadmons))  # verifica si alguno de los monomios principales de la base de Gröbner divide al nuevo monomio\n",
    "                        push!(B, t)  # si ningún monomio principal lo divide, agrega el nuevo monomio a la lista de monomios de la base\n",
    "                    end\n",
    "                end\n",
    "            end\n",
    "        end\n",
    "        return B  # devuelve la lista de monomios de la base\n",
    "    else\n",
    "        error(\"el ideal no es de dimensión cero\")\n",
    "    end\n",
    "end"
   ]
  },
  {
   "cell_type": "code",
   "execution_count": 2,
   "metadata": {},
   "outputs": [
    {
     "data": {
      "text/plain": [
       "matrixM (generic function with 1 method)"
      ]
     },
     "metadata": {},
     "output_type": "display_data"
    }
   ],
   "source": [
    "function matrixM(variable,kbase,Gbase)\n",
    "    # Dada una variable, una kbase de monomios del anillo cociente y una base de Groebner. Calcula la matriz de multiplicacion por la variable \n",
    "    kbx = kbase*variable \n",
    "    reducida = reduce(collect(gens(kbx)),collect(Gbase)) # Encuentra la representacion en el anillo cociente de los elementos de  labase por la variable\n",
    "    Mx = [coeff(kr,k) for k in collect(gens(kbase)) , kr in collect(reducida)] # Crea a la matriz\n",
    "    return Mx\n",
    "end"
   ]
  },
  {
   "cell_type": "code",
   "execution_count": null,
   "metadata": {},
   "outputs": [],
   "source": [
    "GR, x = PolynomialRing(QQ, [\"x$i\" for i in 1:nv(g)]) # Definimos el anillo de polinomios con n = #vercies del grafo variables\n",
    "function polisGrafo(g,k,GR)\n",
    "    # Devuelve dado un grafo y un entero k, un sistema de polinomios que ayuda a determinar que el grafo es k-colorable Y el anillo de polinomios\n",
    "    ps = [GR[j]^k-1 for j in 1:nv(g)] # los polinomios x^k_i- 1 = 0, ∀i ∈ V(g)\n",
    "    ps2 = [GR[src(r)]^(k-1-l) * GR[dst(r)]^(l) for r in collect(edges(g)), l in 0:k-1] # los polinomios sum_l=0^{k-1} x_i^{k-1-l} x_j^l=0 ∀{i, j} ∈ E(G)\n",
    "    p2 = sum(ps2,dims=2)\n",
    "    polis = vec(vcat(ps,p2)) # crea una lista con los polinomios\n",
    "    return polis # retorna la lista de polinomios \n",
    "end"
   ]
  }
 ],
 "metadata": {
  "kernelspec": {
   "display_name": "Julia 1.8.5",
   "language": "julia",
   "name": "julia-1.8"
  },
  "language_info": {
   "file_extension": ".jl",
   "mimetype": "application/julia",
   "name": "julia",
   "version": "1.8.5"
  },
  "orig_nbformat": 4
 },
 "nbformat": 4,
 "nbformat_minor": 2
}
