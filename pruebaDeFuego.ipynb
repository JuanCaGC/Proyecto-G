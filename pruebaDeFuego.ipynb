{
 "cells": [
  {
   "cell_type": "code",
   "execution_count": 214,
   "metadata": {},
   "outputs": [],
   "source": [
    "using Singular"
   ]
  },
  {
   "cell_type": "code",
   "execution_count": 215,
   "metadata": {},
   "outputs": [],
   "source": [
    "using Nemo"
   ]
  },
  {
   "cell_type": "code",
   "execution_count": 216,
   "metadata": {},
   "outputs": [
    {
     "data": {
      "text/plain": [
       "Singular ideal over Singular Polynomial Ring (QQ),(x,y,z),(dp(3),C) with generators (x^2 - 2*x*z + 5, x*y^2 + y*z + 1, 3*y^2 - 8*x*z)"
      ]
     },
     "metadata": {},
     "output_type": "display_data"
    }
   ],
   "source": [
    "R, (x, y, z) = PolynomialRing(QQ, [\"x\",\"y\",\"z\"],ordering = :degrevlex)\n",
    "f1 = x^2 - 2 * x * z + 5\n",
    "f2 = x * y^2 + y * z + 1\n",
    "f3 = 3 * y^2 - 8 * x * z\n",
    "I = Ideal(R,[f1,f2,f3])"
   ]
  },
  {
   "cell_type": "code",
   "execution_count": 217,
   "metadata": {},
   "outputs": [
    {
     "name": "stdout",
     "output_type": "stream",
     "text": [
      "  0.000117 seconds (2 allocations: 48 bytes)\n"
     ]
    },
    {
     "data": {
      "text/plain": [
       "Singular ideal over Singular Polynomial Ring (QQ),(x,y,z),(dp(3),C) with generators (3*y^2 - 8*x*z, x^2 - 2*x*z + 5, 160*z^3 - 160*x*z + 415*y*z + 12*x - 30*y - 224*z + 15, 240*y*z^2 - 9*x*y + 1600*x*z + 18*y*z + 120*z^2 - 120*x + 240*z, 16*x*z^2 + 3*y*z - 40*z + 3, 3*x*y*z - 6*y*z^2 - 40*x*z + 3*x - 6*z)"
      ]
     },
     "metadata": {},
     "output_type": "display_data"
    }
   ],
   "source": [
    "@time G = std(I)"
   ]
  },
  {
   "cell_type": "code",
   "execution_count": 218,
   "metadata": {},
   "outputs": [
    {
     "name": "stdout",
     "output_type": "stream",
     "text": [
      "  0.000038 seconds (2 allocations: 48 bytes)\n"
     ]
    },
    {
     "data": {
      "text/plain": [
       "Singular ideal over Singular Polynomial Ring (QQ),(x,y,z),(dp(3),C) with generators (z^2, y*z, x*z, z, x*y, y, x, 1)"
      ]
     },
     "metadata": {},
     "output_type": "display_data"
    }
   ],
   "source": [
    "@time KB = kbase(G)"
   ]
  },
  {
   "cell_type": "code",
   "execution_count": 219,
   "metadata": {},
   "outputs": [
    {
     "data": {
      "text/plain": [
       "8-element Vector{spoly{n_Q}}:\n",
       " z^2\n",
       " y*z\n",
       " x*z\n",
       " z\n",
       " x*y\n",
       " y\n",
       " x\n",
       " 1"
      ]
     },
     "metadata": {},
     "output_type": "display_data"
    }
   ],
   "source": [
    "ge = collect(gens(G))\n",
    "kb = collect(gens(KB))"
   ]
  },
  {
   "cell_type": "code",
   "execution_count": 220,
   "metadata": {},
   "outputs": [
    {
     "data": {
      "text/plain": [
       "funcionPrueba (generic function with 1 method)"
      ]
     },
     "metadata": {},
     "output_type": "display_data"
    }
   ],
   "source": [
    "function funcionPrueba(variable)\n",
    "    Mx = []\n",
    "    for k in kb\n",
    "        arr=[]\n",
    "        if !(variable*k in kb)\n",
    "            r = variable*k\n",
    "            monos = collect(monomials(r))\n",
    "            coeffs = collect(coefficients(r))\n",
    "            i = 1\n",
    "            while !(all(b -> in(b, kb), monos)) \n",
    "                g = ge[i]\n",
    "                if x^2*y == x*k\n",
    "                #println(r)\n",
    "                end\n",
    "                q,r = divrem(r,g)\n",
    "                i+=1\n",
    "                if i > length(ge)\n",
    "                    i = 1\n",
    "                end\n",
    "                monos = collect(monomials(r))\n",
    "                coeffs = collect(coefficients(r))\n",
    "            end\n",
    "            if x^2*y == x*k\n",
    "            #println(\"Ultimo r\")\n",
    "            #println(r)\n",
    "            end\n",
    "            \n",
    "            for ka2 in kb\n",
    "                if ka2 in monos \n",
    "                    for j in 1:length(monos)\n",
    "                        if ka2 == monos[j]\n",
    "                            push!(arr,coeffs[j])\n",
    "                        end\n",
    "                    end\n",
    "                else\n",
    "                    push!(arr,0)\n",
    "                end\n",
    "            end\n",
    "        else\n",
    "            for ka in kb\n",
    "                if variable*k == ka\n",
    "                    push!(arr,1)\n",
    "                else\n",
    "                    push!(arr,0)\n",
    "                end\n",
    "            end\n",
    "        end\n",
    "        push!(Mx,arr)\n",
    "        if x^2*y == x*k\n",
    "        #println(arr)\n",
    "        end\n",
    "    end\n",
    "    Mx = reduce(hcat,Mx)\n",
    "    return Mx\n",
    "end"
   ]
  },
  {
   "cell_type": "code",
   "execution_count": 221,
   "metadata": {},
   "outputs": [
    {
     "data": {
      "text/plain": [
       "8×8 Matrix{Any}:\n",
       " 0         -1      0       0   -2      0  0    0\n",
       "  -3//16   -3//20   -3//8  0   -3//10  0  0    0\n",
       " 0        0        0       1  0        0   2   0\n",
       "  5//2    0        0       0  0        0  0    0\n",
       " 0         3//40   0       0   3//20   1  0    0\n",
       " 0        0        0       0   -5      0  0    0\n",
       " 0        0        0       0  0        0  0    1\n",
       "  -3//16  0         -3//8  0  0        0   -5  0"
      ]
     },
     "metadata": {},
     "output_type": "display_data"
    }
   ],
   "source": [
    "Mx = funcionPrueba(x)"
   ]
  },
  {
   "cell_type": "code",
   "execution_count": 222,
   "metadata": {},
   "outputs": [
    {
     "data": {
      "text/plain": [
       "8×8 Matrix{Any}:\n",
       "  -1//2   0        -1      0  0    0      0  0\n",
       "  -3//40   -1//2   -3//20  1   -1  0      0  0\n",
       "  -20//3  0       0        0  0     8//3  0  0\n",
       "  -1       20//3  0        0  0    0      0  0\n",
       "  3//80   0        3//40   0  0    0      1  0\n",
       " 0        0       0        0  0    0      0  1\n",
       "  1//2    0       0        0  0    0      0  0\n",
       " 0         -1//2  0        0   -1  0      0  0"
      ]
     },
     "metadata": {},
     "output_type": "display_data"
    }
   ],
   "source": [
    "My = funcionPrueba(y)\n"
   ]
  },
  {
   "cell_type": "code",
   "execution_count": 223,
   "metadata": {},
   "outputs": [
    {
     "data": {
      "text/plain": [
       "8×8 Matrix{Any}:\n",
       " 0          -1//2   0        1   -1      0  0  0\n",
       "  -83//32   -3//40   -3//16  0   -3//20  1  0  0\n",
       "  1         -20//3  0        0  0        0  1  0\n",
       "  7//5      -1       5//2    0  0        0  0  1\n",
       " 0          3//80   0        0   3//40   0  0  0\n",
       "  3//16    0        0        0  0        0  0  0\n",
       "  -3//40    1//2    0        0  0        0  0  0\n",
       "  -3//32   0         -3//16  0  0        0  0  0"
      ]
     },
     "metadata": {},
     "output_type": "display_data"
    }
   ],
   "source": [
    "Mz = funcionPrueba(z)"
   ]
  },
  {
   "cell_type": "code",
   "execution_count": 224,
   "metadata": {},
   "outputs": [
    {
     "data": {
      "text/html": [
       "[0 -1 0 0 -2 0 0 0; -3//16 -3//20 -3//8 0 -3//10 0 0 0; 0 0 0 1 0 0 2 0; 5//2 0 0 0 0 0 0 0; 0 3//40 0 0 3//20 1 0 0; 0 0 0 0 -5 0 0 0; 0 0 0 0 0 0 0 1; -3//16 0 -3//8 0 0 0 -5 0]"
      ],
      "text/latex": [
       "\\begin{array}{cccccccc}\n",
       "0 & -1 & 0 & 0 & -2 & 0 & 0 & 0 \\\\\n",
       "-\\frac{3}{16} & -\\frac{3}{20} & -\\frac{3}{8} & 0 & -\\frac{3}{10} & 0 & 0 & 0 \\\\\n",
       "0 & 0 & 0 & 1 & 0 & 0 & 2 & 0 \\\\\n",
       "\\frac{5}{2} & 0 & 0 & 0 & 0 & 0 & 0 & 0 \\\\\n",
       "0 & \\frac{3}{40} & 0 & 0 & \\frac{3}{20} & 1 & 0 & 0 \\\\\n",
       "0 & 0 & 0 & 0 & -5 & 0 & 0 & 0 \\\\\n",
       "0 & 0 & 0 & 0 & 0 & 0 & 0 & 1 \\\\\n",
       "-\\frac{3}{16} & 0 & -\\frac{3}{8} & 0 & 0 & 0 & -5 & 0\n",
       "\\end{array}"
      ],
      "text/plain": [
       "[     0       -1       0   0       -2   0    0   0]\n",
       "[-3//16   -3//20   -3//8   0   -3//10   0    0   0]\n",
       "[     0        0       0   1        0   0    2   0]\n",
       "[  5//2        0       0   0        0   0    0   0]\n",
       "[     0    3//40       0   0    3//20   1    0   0]\n",
       "[     0        0       0   0       -5   0    0   0]\n",
       "[     0        0       0   0        0   0    0   1]\n",
       "[-3//16        0   -3//8   0        0   0   -5   0]"
      ]
     },
     "metadata": {},
     "output_type": "display_data"
    }
   ],
   "source": [
    "M2x = matrix(Nemo.QQ,Mx)"
   ]
  },
  {
   "cell_type": "code",
   "execution_count": 225,
   "metadata": {},
   "outputs": [
    {
     "data": {
      "text/plain": [
       "8-element Vector{qqbar}:\n",
       " Root 0.965712 of 16x^8 + 157x^6 + 24x^5 + 355x^4 + 120x^3 - 216x^2 - 375\n",
       " Root -1.10099 of 16x^8 + 157x^6 + 24x^5 + 355x^4 + 120x^3 - 216x^2 - 375\n",
       " Root 0.0766489 + 2.24312*im of 16x^8 + 157x^6 + 24x^5 + 355x^4 + 120x^3 - 216x^2 - 375\n",
       " Root 0.0766489 - 2.24312*im of 16x^8 + 157x^6 + 24x^5 + 355x^4 + 120x^3 - 216x^2 - 375\n",
       " Root 0.0724908 + 2.23700*im of 16x^8 + 157x^6 + 24x^5 + 355x^4 + 120x^3 - 216x^2 - 375\n",
       " Root 0.0724908 - 2.23700*im of 16x^8 + 157x^6 + 24x^5 + 355x^4 + 120x^3 - 216x^2 - 375\n",
       " Root -0.0815021 + 0.931071*im of 16x^8 + 157x^6 + 24x^5 + 355x^4 + 120x^3 - 216x^2 - 375\n",
       " Root -0.0815021 - 0.931071*im of 16x^8 + 157x^6 + 24x^5 + 355x^4 + 120x^3 - 216x^2 - 375"
      ]
     },
     "metadata": {},
     "output_type": "display_data"
    }
   ],
   "source": [
    "eigenvalues(M2x, QQBar)"
   ]
  }
 ],
 "metadata": {
  "kernelspec": {
   "display_name": "Julia 1.8.5",
   "language": "julia",
   "name": "julia-1.8"
  },
  "language_info": {
   "file_extension": ".jl",
   "mimetype": "application/julia",
   "name": "julia",
   "version": "1.8.5"
  },
  "orig_nbformat": 4
 },
 "nbformat": 4,
 "nbformat_minor": 2
}
