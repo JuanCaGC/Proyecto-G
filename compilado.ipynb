{
 "cells": [
  {
   "cell_type": "code",
   "execution_count": 1,
   "metadata": {},
   "outputs": [],
   "source": [
    "using Oscar\n",
    "using LinearAlgebra"
   ]
  },
  {
   "cell_type": "code",
   "execution_count": 2,
   "metadata": {},
   "outputs": [
    {
     "data": {
      "text/plain": [
       "dimQI (generic function with 1 method)"
      ]
     },
     "metadata": {},
     "output_type": "display_data"
    }
   ],
   "source": [
    "function dimQI(v,lista)\n",
    "    max = 0\n",
    "    leadmons = Set([leading_monomial(f) for f in lista])\n",
    "    for p in leadmons\n",
    "        if v in vars(p)\n",
    "            m = degree(p, v)\n",
    "            if m> max\n",
    "                max = m\n",
    "            end\n",
    "        end\n",
    "    end\n",
    "    return max\n",
    "end"
   ]
  },
  {
   "cell_type": "code",
   "execution_count": 3,
   "metadata": {},
   "outputs": [
    {
     "data": {
      "text/plain": [
       "kbasis (generic function with 1 method)"
      ]
     },
     "metadata": {},
     "output_type": "display_data"
    }
   ],
   "source": [
    "function kbasis(GB, VList)\n",
    "    # devuelve una lista de monomios que forman una base del anillo cociente, donde GB es una base de Gröbner para un ideal de dimensión cero, y genera un mensaje de error si el ideal no es de dimensión cero.\n",
    "    \n",
    "    if iszero(dim(GB))  # verifica si el ideal es de dimensión cero\n",
    "        Gb = collect(gens(GB))\n",
    "        B = [(div(VList[1],VList[1])) ]  # inicializa la lista de monomios de la base con el monomio 1\n",
    "        leadmons = Set([leading_monomial(f) for f in Gb])  # crea un conjunto de los monomios principales de cada polinomio en la base de Gröbner\n",
    "        for v in VList\n",
    "            m = dimQI(v, leadmons)  # determina el grado de la variable v en el anillo cociente\n",
    "            C = copy(B)  # crea una copia de la lista de monomios actual como base para la siguiente iteración\n",
    "            for t in C\n",
    "                for l in 1:m-1\n",
    "                    t = t*v  # multiplica el monomio actual por la variable v\n",
    "                    if  !(any((divrem(t,u)[2] == 0) for u in leadmons))  # verifica si alguno de los monomios principales de la base de Gröbner divide al nuevo monomio\n",
    "                        push!(B, t)  # si ningún monomio principal lo divide, agrega el nuevo monomio a la lista de monomios de la base\n",
    "                    end\n",
    "                end\n",
    "            end\n",
    "        end\n",
    "        return B  # devuelve la lista de monomios de la base\n",
    "    else\n",
    "        error(\"el ideal no es de dimensión cero\")\n",
    "    end\n",
    "end"
   ]
  },
  {
   "cell_type": "code",
   "execution_count": 4,
   "metadata": {},
   "outputs": [
    {
     "data": {
      "text/plain": [
       "matrixM (generic function with 1 method)"
      ]
     },
     "metadata": {},
     "output_type": "display_data"
    }
   ],
   "source": [
    "function matrixM(variable,kbase,Gbase)\n",
    "    kbx = kbase*variable\n",
    "    reducida = reduce(collect(gens(kbx)),collect(Gbase))\n",
    "    Mx = [coeff(kr,k) for k in collect(gens(kbase)) , kr in collect(reducida)] \n",
    "    M = [Int64.(numerator(i))//Int64.(denominator(i)) for i in Mx]\n",
    "    return M\n",
    "end"
   ]
  },
  {
   "cell_type": "code",
   "execution_count": 5,
   "metadata": {},
   "outputs": [
    {
     "data": {
      "text/plain": [
       "buenaCombinacion (generic function with 1 method)"
      ]
     },
     "metadata": {},
     "output_type": "display_data"
    }
   ],
   "source": [
    "function buenaCombinacion(ListaM,E0,F0)\n",
    "    n, m = size(ListaM[1])\n",
    "    Ei = E0\n",
    "    Fi = F0\n",
    "    S0 = [diag(Fi*Mi*Ei) for Mi in ListaM]\n",
    "    S = hvcat(length(ListaM), S0...)\n",
    "    sigma = [ℯ^(1*im*(t-1)*π/n) for t in 1:n]\n",
    "    Σ=diagm(sigma)\n",
    "    alpha=pinv(S)*sigma\n",
    "    M =sum([alpha[i]*ListaM[i] for i in 1:length(ListaM)])\n",
    "    return M,Σ\n",
    "end"
   ]
  },
  {
   "cell_type": "code",
   "execution_count": 6,
   "metadata": {},
   "outputs": [
    {
     "data": {
      "text/plain": [
       "XYS (generic function with 1 method)"
      ]
     },
     "metadata": {},
     "output_type": "display_data"
    }
   ],
   "source": [
    "function XYS(Σ,Z,Δ)\n",
    "    n, m = size(Z)\n",
    "    S = diagm(diag(Δ-Z*Σ))\n",
    "    X = [i != j ? (-Δ[i,j]+ Z[i,j] * Σ[j,j])/(Σ[i,i]-Σ[j,j]) : 0 for i in 1:n , j in 1:n]\n",
    "    Y = [i != j ? (Δ[i,j]- Z[i,j] * Σ[i,i])/(Σ[i,i]-Σ[j,j]) : -Z[i,i] for i in 1:n , j in 1:n]\n",
    "    return X,Y,S\n",
    "end"
   ]
  },
  {
   "cell_type": "code",
   "execution_count": 7,
   "metadata": {},
   "outputs": [
    {
     "data": {
      "text/plain": [
       "iteracionNewton (generic function with 1 method)"
      ]
     },
     "metadata": {},
     "output_type": "display_data"
    }
   ],
   "source": [
    "function iteracionNewton(E,F,Σ,M)\n",
    "    n, m = size(M)\n",
    "    I_n = Matrix{Float64}(I, n, n)\n",
    "    Z = F*E-I_n\n",
    "    Δ = F * M * E - Σ\n",
    "    X,Y,S = XYS(Σ,Z,Δ)\n",
    "    Em1 = E * (I_n + X)\n",
    "    Fm1 = (I_n + Y) * F\n",
    "    Σm1 = Σ + S\n",
    "    return Em1,Fm1,Σm1\n",
    "end"
   ]
  },
  {
   "cell_type": "code",
   "execution_count": 8,
   "metadata": {},
   "outputs": [
    {
     "data": {
      "text/plain": [
       "newtonDiagSimul (generic function with 1 method)"
      ]
     },
     "metadata": {},
     "output_type": "display_data"
    }
   ],
   "source": [
    "function newtonDiagSimul(M,E0,F0,Σ0)\n",
    "    n, m = size(M)\n",
    "    Ei = E0\n",
    "    Fi = F0\n",
    "    Σi = Σ0\n",
    "    err = opnorm((Fi*M*Ei-Σi), Inf)\n",
    "    errores = [err]\n",
    "    numbern = 0\n",
    "    while err > 10^(-15) \n",
    "        Ei,Fi,Σi = iteracionNewton(Ei,Fi,Σi,M)\n",
    "        err = opnorm((Fi*M*Ei-Σi), Inf)\n",
    "        numbern+=1\n",
    "        append!(errores, err)\n",
    "    end\n",
    "    return Ei,Fi,numbern,Σi, errores\n",
    "end"
   ]
  },
  {
   "cell_type": "code",
   "execution_count": 9,
   "metadata": {},
   "outputs": [
    {
     "data": {
      "text/plain": [
       "(Multivariate Polynomial Ring in x1, x2, x3 over Rational Field, QQMPolyRingElem[x1, x2, x3])"
      ]
     },
     "metadata": {},
     "output_type": "display_data"
    }
   ],
   "source": [
    "R, x = PolynomialRing(QQ, [\"x$i\" for i in 1:3])"
   ]
  },
  {
   "cell_type": "code",
   "execution_count": 10,
   "metadata": {},
   "outputs": [
    {
     "data": {
      "text/html": [
       "ideal(x1^2 - 2*x1*x3 + 5, x1*x2^2 + x2*x3 + 1, -8*x1*x3 + 3*x2^2)"
      ],
      "text/latex": [
       "\\mathop{\\mathrm{ideal}}\\left(\\mathop{\\mathrm{x1}}^{2} - 2 \\mathop{\\mathrm{x1}} \\mathop{\\mathrm{x3}} + 5, \\mathop{\\mathrm{x1}} \\mathop{\\mathrm{x2}}^{2} + \\mathop{\\mathrm{x2}} \\mathop{\\mathrm{x3}} + 1, -8 \\mathop{\\mathrm{x1}} \\mathop{\\mathrm{x3}} + 3 \\mathop{\\mathrm{x2}}^{2}\\right)"
      ],
      "text/plain": [
       "ideal(x1^2 - 2*x1*x3 + 5, x1*x2^2 + x2*x3 + 1, -8*x1*x3 + 3*x2^2)"
      ]
     },
     "metadata": {},
     "output_type": "display_data"
    }
   ],
   "source": [
    "f1 = x[1]^2 - 2 * x[1] * x[3] + 5\n",
    "f2 = x[1] * x[2]^2 + x[2] * x[3] + 1\n",
    "f3 = 3 * x[2]^2 - 8 * x[1] * x[3]\n",
    "Id = ideal(R,[f1,f2,f3])"
   ]
  },
  {
   "cell_type": "code",
   "execution_count": 11,
   "metadata": {},
   "outputs": [
    {
     "data": {
      "text/plain": [
       "Gröbner basis with elements\n",
       "1 -> 3*x2^2 - 8*x1*x3\n",
       "2 -> x1^2 - 2*x1*x3 + 5\n",
       "3 -> 160*x3^3 - 160*x1*x3 + 415*x2*x3 + 12*x1 - 30*x2 - 224*x3 + 15\n",
       "4 -> 240*x2*x3^2 - 9*x1*x2 + 1600*x1*x3 + 18*x2*x3 + 120*x3^2 - 120*x1 + 240*x3\n",
       "5 -> 16*x1*x3^2 + 3*x2*x3 - 40*x3 + 3\n",
       "6 -> 3*x1*x2*x3 - 6*x2*x3^2 - 40*x1*x3 + 3*x1 - 6*x3\n",
       "with respect to the ordering\n",
       "degrevlex([x1, x2, x3])"
      ]
     },
     "metadata": {},
     "output_type": "display_data"
    }
   ],
   "source": [
    "G = groebner_basis(Id)"
   ]
  },
  {
   "cell_type": "code",
   "execution_count": 12,
   "metadata": {},
   "outputs": [
    {
     "data": {
      "text/html": [
       "ideal(-8*x1*x3 + 3*x2^2, x1^2 - 2*x1*x3 + 5, -160*x1*x3 + 12*x1 + 415*x2*x3 - 30*x2 + 160*x3^3 - 224*x3 + 15, -9*x1*x2 + 1600*x1*x3 - 120*x1 + 240*x2*x3^2 + 18*x2*x3 + 120*x3^2 + 240*x3, 16*x1*x3^2 + 3*x2*x3 - 40*x3 + 3, 3*x1*x2*x3 - 40*x1*x3 + 3*x1 - 6*x2*x3^2 - 6*x3)"
      ],
      "text/latex": [
       "\\mathop{\\mathrm{ideal}}\\left(-8 \\mathop{\\mathrm{x1}} \\mathop{\\mathrm{x3}} + 3 \\mathop{\\mathrm{x2}}^{2}, \\mathop{\\mathrm{x1}}^{2} - 2 \\mathop{\\mathrm{x1}} \\mathop{\\mathrm{x3}} + 5, -160 \\mathop{\\mathrm{x1}} \\mathop{\\mathrm{x3}} + 12 \\mathop{\\mathrm{x1}} + 415 \\mathop{\\mathrm{x2}} \\mathop{\\mathrm{x3}} - 30 \\mathop{\\mathrm{x2}} + 160 \\mathop{\\mathrm{x3}}^{3} - 224 \\mathop{\\mathrm{x3}} + 15, -9 \\mathop{\\mathrm{x1}} \\mathop{\\mathrm{x2}} + 1600 \\mathop{\\mathrm{x1}} \\mathop{\\mathrm{x3}} - 120 \\mathop{\\mathrm{x1}} + 240 \\mathop{\\mathrm{x2}} \\mathop{\\mathrm{x3}}^{2} + 18 \\mathop{\\mathrm{x2}} \\mathop{\\mathrm{x3}} + 120 \\mathop{\\mathrm{x3}}^{2} + 240 \\mathop{\\mathrm{x3}}, 16 \\mathop{\\mathrm{x1}} \\mathop{\\mathrm{x3}}^{2} + 3 \\mathop{\\mathrm{x2}} \\mathop{\\mathrm{x3}} - 40 \\mathop{\\mathrm{x3}} + 3, 3 \\mathop{\\mathrm{x1}} \\mathop{\\mathrm{x2}} \\mathop{\\mathrm{x3}} - 40 \\mathop{\\mathrm{x1}} \\mathop{\\mathrm{x3}} + 3 \\mathop{\\mathrm{x1}} - 6 \\mathop{\\mathrm{x2}} \\mathop{\\mathrm{x3}}^{2} - 6 \\mathop{\\mathrm{x3}}\\right)"
      ],
      "text/plain": [
       "ideal(-8*x1*x3 + 3*x2^2, x1^2 - 2*x1*x3 + 5, -160*x1*x3 + 12*x1 + 415*x2*x3 - 30*x2 + 160*x3^3 - 224*x3 + 15, -9*x1*x2 + 1600*x1*x3 - 120*x1 + 240*x2*x3^2 + 18*x2*x3 + 120*x3^2 + 240*x3, 16*x1*x3^2 + 3*x2*x3 - 40*x3 + 3, 3*x1*x2*x3 - 40*x1*x3 + 3*x1 - 6*x2*x3^2 - 6*x3)"
      ]
     },
     "metadata": {},
     "output_type": "display_data"
    }
   ],
   "source": [
    "Gi = ideal(G) "
   ]
  },
  {
   "cell_type": "code",
   "execution_count": 13,
   "metadata": {},
   "outputs": [
    {
     "data": {
      "text/plain": [
       "8-element Vector{QQMPolyRingElem}:\n",
       " 1\n",
       " x1\n",
       " x2\n",
       " x1*x2\n",
       " x3\n",
       " x3^2\n",
       " x1*x3\n",
       " x2*x3"
      ]
     },
     "metadata": {},
     "output_type": "display_data"
    }
   ],
   "source": [
    "KB = kbasis(Gi,gens(R))"
   ]
  },
  {
   "cell_type": "code",
   "execution_count": 14,
   "metadata": {},
   "outputs": [
    {
     "data": {
      "text/html": [
       "ideal(1, x1, x2, x1*x2, x3, x3^2, x1*x3, x2*x3)"
      ],
      "text/latex": [
       "\\mathop{\\mathrm{ideal}}\\left(1, \\mathop{\\mathrm{x1}}, \\mathop{\\mathrm{x2}}, \\mathop{\\mathrm{x1}} \\mathop{\\mathrm{x2}}, \\mathop{\\mathrm{x3}}, \\mathop{\\mathrm{x3}}^{2}, \\mathop{\\mathrm{x1}} \\mathop{\\mathrm{x3}}, \\mathop{\\mathrm{x2}} \\mathop{\\mathrm{x3}}\\right)"
      ],
      "text/plain": [
       "ideal(1, x1, x2, x1*x2, x3, x3^2, x1*x3, x2*x3)"
      ]
     },
     "metadata": {},
     "output_type": "display_data"
    }
   ],
   "source": [
    "kb = ideal(R,KB)"
   ]
  },
  {
   "cell_type": "code",
   "execution_count": 15,
   "metadata": {},
   "outputs": [
    {
     "data": {
      "text/plain": [
       "3-element Vector{Matrix{Rational{Int64}}}:\n",
       " [0//1 -5//1 … -3//8 0//1; 1//1 0//1 … 0//1 0//1; … ; 0//1 2//1 … 0//1 0//1; 0//1 0//1 … -3//8 -3//20]\n",
       " [0//1 0//1 … 0//1 -1//2; 0//1 0//1 … 0//1 0//1; … ; 0//1 0//1 … 0//1 0//1; 0//1 0//1 … -3//20 -1//2]\n",
       " [0//1 0//1 … -3//16 0//1; 0//1 0//1 … 0//1 1//2; … ; 0//1 1//1 … 0//1 -20//3; 0//1 0//1 … -3//16 -3//40]"
      ]
     },
     "metadata": {},
     "output_type": "display_data"
    }
   ],
   "source": [
    "ListaM = [matrixM(xi,kb,G) for xi in gens(R) ]"
   ]
  },
  {
   "cell_type": "code",
   "execution_count": 16,
   "metadata": {},
   "outputs": [
    {
     "data": {
      "text/plain": [
       "8×8 Matrix{Rational{Int64}}:\n",
       " 0//1  -5//1  0//1   0//1   0//1  -3//16  -3//8   0//1\n",
       " 1//1   0//1  0//1   0//1   0//1   0//1    0//1   0//1\n",
       " 0//1   0//1  0//1  -5//1   0//1   0//1    0//1   0//1\n",
       " 0//1   0//1  1//1   3//20  0//1   0//1    0//1   3//40\n",
       " 0//1   0//1  0//1   0//1   0//1   5//2    0//1   0//1\n",
       " 0//1   0//1  0//1  -2//1   0//1   0//1    0//1  -1//1\n",
       " 0//1   2//1  0//1   0//1   1//1   0//1    0//1   0//1\n",
       " 0//1   0//1  0//1  -3//10  0//1  -3//16  -3//8  -3//20"
      ]
     },
     "metadata": {},
     "output_type": "display_data"
    }
   ],
   "source": [
    "ListaM[1]"
   ]
  },
  {
   "cell_type": "code",
   "execution_count": 17,
   "metadata": {},
   "outputs": [
    {
     "data": {
      "text/plain": [
       "(ComplexF64[0.0 + 0.0im 0.3545782372370618 - 0.4758080016548146im … 0.07201654684276687 - 0.0394194655777657im -0.04023509791423063 - 0.022965533214129547im; -0.07091564744741236 + 0.09516160033096292im 0.0 + 0.0im … 0.0 + 0.0im -0.12112847746663263 + 0.00995697454307895im; … ; 0.0 + 0.0im -0.38408824982809 + 0.21023714974808375im … 0.0 + 0.0im 1.6150463662217684 - 0.132759660574386im; 0.0 + 0.0im 0.0 + 0.0im … 0.05994601746849768 - 0.04630912554200456im -0.011428479177123887 - 0.03873331944523583im], ComplexF64[1.0 + 0.0im 0.0 + 0.0im … 0.0 + 0.0im 0.0 + 0.0im; 0.0 + 0.0im 0.9238795325112867 + 0.3826834323650898im … 0.0 + 0.0im 0.0 + 0.0im; … ; 0.0 + 0.0im 0.0 + 0.0im … -0.7071067811865475 + 0.7071067811865476im 0.0 + 0.0im; 0.0 + 0.0im 0.0 + 0.0im … 0.0 + 0.0im -0.9238795325112867 + 0.3826834323650899im])"
      ]
     },
     "metadata": {},
     "output_type": "display_data"
    }
   ],
   "source": [
    "L0,E0 = eigen(ListaM[1])\n",
    "F0 = inv(E0)\n",
    "M0,Σ0 = buenaCombinacion(ListaM,E0,F0)"
   ]
  },
  {
   "cell_type": "code",
   "execution_count": 18,
   "metadata": {},
   "outputs": [
    {
     "data": {
      "text/plain": [
       "(Any[0.05272743026516138 - 9.886987634482231e-18im 0.005766300683815994 + 0.04752411334956926im … 0.30180956937978076 + 0.32523385345788214im -0.0458809740266818 - 1.684905997451156e-18im; -0.04789102505995172 - 1.3935979435344397e-17im -0.05119229538436638 + 0.0017120312663657963im … 0.14941466924701835 - 0.12944321585391327im -0.04750997434806928 - 1.2137076579139142e-18im; … ; 0.6555225171630593 + 1.191988577014204e-16im 0.6861866286348454 + 7.747211250833134e-17im … -0.24169685203515937 - 0.160450291976819im 0.6179989175052414 - 5.3618621129116944e-18im; 0.3115677649436785 + 1.871055540796989e-17im -0.015585585517088323 - 0.2255493601243789im … 0.06495531335086377 - 0.01290805781621749im -0.2517785503653274 - 8.318451025021215e-18im], ComplexF64[0.11532509941886536 - 7.31359529851153e-17im -0.1269715177284023 + 1.071090885066642e-16im … 0.3582097891545124 - 2.151953192881275e-17im 0.9363671068932042 + 1.428817077232005e-16im; 0.18863275855630882 - 0.03067326534653552im -0.04393294129529857 - 0.17313050393042104im … 0.3927738377114784 - 0.04917557767444854im 0.018828107941925236 + 0.9951860896142837im; … ; 0.4085308122107081 - 0.3928980497311971im 0.9126322250744496 + 0.8862698012513279im … 0.06229691516876052 + 0.07529400334938488im 0.029119179979620057 + 0.0048690703658575375im; 0.11729364236077333 - 1.302084279068549e-17im 0.11327193147323272 - 5.147475816102717e-17im … 0.3479281634886711 - 1.0527440134397333e-17im -1.0132898060420552 - 1.5536144275384494e-17im], 2, ComplexF64[0.5299348446037312 - 0.2931423578429052im 0.0 + 0.0im … 0.0 + 0.0im 0.0 + 0.0im; 0.0 + 0.0im 0.3040786189804561 - 0.36854539675934783im … 0.0 + 0.0im 0.0 + 0.0im; … ; 0.0 + 0.0im 0.0 + 0.0im … -0.22327436140919885 - 0.09109855367963217im 0.0 + 0.0im; 0.0 + 0.0im 0.0 + 0.0im … 0.0 + 0.0im -1.038927183936834 + 0.023885854621191298im], [1.2354794443442612, 1.1929834505557613e-14, 5.52155431569827e-16])"
      ]
     },
     "metadata": {},
     "output_type": "display_data"
    }
   ],
   "source": [
    "E,F,niter,Sig,errores = newtonDiagSimul(M0,E0,F0,Σ0)"
   ]
  },
  {
   "cell_type": "code",
   "execution_count": 20,
   "metadata": {},
   "outputs": [
    {
     "data": {
      "text/plain": [
       "8×3 Matrix{Any}:\n",
       "   -1.10099+1.84889e-32im     -2.878+2.46519e-32im   -2.82118+0.0im\n",
       " -0.0815021-0.931071im       2.34979+0.0430587im    -0.274005+2.19913im\n",
       " -0.0815021+0.931071im       2.34979-0.0430587im    -0.274005-2.19913im\n",
       "  0.0724908-2.237im        -0.465772+0.464209im     0.0724227-0.00210322im\n",
       "  0.0724908+2.237im        -0.465772-0.464209im     0.0724227+0.00210322im\n",
       "  0.0766489-2.24312im        0.46123-0.497027im     0.0763638-0.0083441im\n",
       "  0.0766489+2.24312im        0.46123+0.497027im     0.0763638+0.0083441im\n",
       "   0.965712+5.54668e-32im    -2.8125-1.57156e-31im    3.07162+1.75645e-31im"
      ]
     },
     "metadata": {},
     "output_type": "display_data"
    }
   ],
   "source": [
    "puntos = [diag(F*Mi*E) for Mi in ListaM]\n",
    "puntosCompilados = hvcat(length(ListaM), puntos...)"
   ]
  }
 ],
 "metadata": {
  "kernelspec": {
   "display_name": "Julia 1.8.5",
   "language": "julia",
   "name": "julia-1.8"
  },
  "language_info": {
   "file_extension": ".jl",
   "mimetype": "application/julia",
   "name": "julia",
   "version": "1.8.5"
  },
  "orig_nbformat": 4
 },
 "nbformat": 4,
 "nbformat_minor": 2
}
