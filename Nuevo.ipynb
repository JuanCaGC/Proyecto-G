{
 "cells": [
  {
   "cell_type": "code",
   "execution_count": 1,
   "metadata": {},
   "outputs": [],
   "source": [
    "using Singular"
   ]
  },
  {
   "cell_type": "code",
   "execution_count": 2,
   "metadata": {},
   "outputs": [
    {
     "data": {
      "text/plain": [
       "Singular ideal over Singular Polynomial Ring (QQ),(x,y,z),(dp(3),C) with generators (x^2 - 2*x*z + 5, x*y^2 + y*z + 1, 3*y^2 - 8*x*z)"
      ]
     },
     "metadata": {},
     "output_type": "display_data"
    }
   ],
   "source": [
    "# Ejercicio 2.4.4 UAG D.A. J.L. D.O. ordering = :degrevlex\n",
    "R, (x, y, z) = PolynomialRing(QQ, [\"x\",\"y\",\"z\"],ordering = :degrevlex)\n",
    "f1 = x^2 - 2 * x * z + 5\n",
    "f2 = x * y^2 + y * z + 1\n",
    "f3 = 3 * y^2 - 8 * x * z\n",
    "I = Ideal(R,[f1,f2,f3])"
   ]
  },
  {
   "cell_type": "code",
   "execution_count": 3,
   "metadata": {},
   "outputs": [
    {
     "name": "stdout",
     "output_type": "stream",
     "text": [
      "  0.018300 seconds (27.19 k allocations: 1.384 MiB, 77.52% compilation time)\n"
     ]
    },
    {
     "data": {
      "text/plain": [
       "Singular ideal over Singular Polynomial Ring (QQ),(x,y,z),(dp(3),C) with generators (3*y^2 - 8*x*z, x^2 - 2*x*z + 5, 160*z^3 - 160*x*z + 415*y*z + 12*x - 30*y - 224*z + 15, 240*y*z^2 - 9*x*y + 1600*x*z + 18*y*z + 120*z^2 - 120*x + 240*z, 16*x*z^2 + 3*y*z - 40*z + 3, 3*x*y*z - 6*y*z^2 - 40*x*z + 3*x - 6*z)"
      ]
     },
     "metadata": {},
     "output_type": "display_data"
    }
   ],
   "source": [
    "# Calcular la base de Groebner del ideal mediante  el FGLM algorithm\n",
    "@time J = std(I)"
   ]
  },
  {
   "attachments": {},
   "cell_type": "markdown",
   "metadata": {},
   "source": [
    "Singular ideal over Singular Polynomial Ring (QQ),(x,y,z),(dp(3),C) with generators (3*y^2 - 8*x*z, x^2 - 2*x*z + 5, 160*z^3 - 160*x*z + 415*y*z + 12*x - 30*y - 224*z + 15, 240*y*z^2 - 9*x*y + 1600*x*z + 18*y*z + 120*z^2 - 120*x + 240*z, 16*x*z^2 + 3*y*z - 40*z + 3, 40*x*y*z - 3*x*y + 6*y*z + 40*z^2)"
   ]
  },
  {
   "cell_type": "code",
   "execution_count": 4,
   "metadata": {},
   "outputs": [
    {
     "name": "stdout",
     "output_type": "stream",
     "text": [
      "3*y^2 - 8*x*z\n",
      "x^2 - 2*x*z + 5\n",
      "160*z^3 - 160*x*z + 415*y*z + 12*x - 30*y - 224*z + 15\n",
      "240*y*z^2 - 9*x*y + 1600*x*z + 18*y*z + 120*z^2 - 120*x + 240*z\n",
      "16*x*z^2 + 3*y*z - 40*z + 3\n",
      "3*x*y*z - 6*y*z^2 - 40*x*z + 3*x - 6*z\n"
     ]
    }
   ],
   "source": [
    "for i in gens(J)\n",
    "    println(i)\n",
    "end"
   ]
  },
  {
   "cell_type": "code",
   "execution_count": 5,
   "metadata": {},
   "outputs": [
    {
     "name": "stdout",
     "output_type": "stream",
     "text": [
      "  0.011912 seconds (15.70 k allocations: 827.848 KiB, 91.61% compilation time)\n"
     ]
    },
    {
     "data": {
      "text/plain": [
       "Singular ideal over Singular Polynomial Ring (QQ),(x,y,z),(dp(3),C) with generators (z^2, y*z, x*z, z, x*y, y, x, 1)"
      ]
     },
     "metadata": {},
     "output_type": "display_data"
    }
   ],
   "source": [
    "@time KB = kbase(J)"
   ]
  },
  {
   "cell_type": "code",
   "execution_count": 6,
   "metadata": {},
   "outputs": [
    {
     "name": "stdout",
     "output_type": "stream",
     "text": [
      "z^2\n",
      "y*z\n",
      "x*z\n",
      "z\n",
      "x*y\n",
      "y\n",
      "x\n",
      "1\n"
     ]
    }
   ],
   "source": [
    "for i in gens(KB)\n",
    "    println(i)\n",
    "end"
   ]
  },
  {
   "cell_type": "code",
   "execution_count": 7,
   "metadata": {},
   "outputs": [
    {
     "data": {
      "text/plain": [
       "[x^2 - 2*x*z + 5, x*y^2 + y*z + 1, 3*y^2 - 8*x*z]"
      ]
     },
     "metadata": {},
     "output_type": "display_data"
    }
   ],
   "source": [
    "Matrix(I)"
   ]
  },
  {
   "cell_type": "code",
   "execution_count": 8,
   "metadata": {},
   "outputs": [
    {
     "data": {
      "text/plain": [
       "[3*y^2 - 8*x*z, x^2 - 2*x*z + 5, 160*z^3 - 160*x*z + 415*y*z + 12*x - 30*y - 224*z + 15, 240*y*z^2 - 9*x*y + 1600*x*z + 18*y*z + 120*z^2 - 120*x + 240*z, 16*x*z^2 + 3*y*z - 40*z + 3, 3*x*y*z - 6*y*z^2 - 40*x*z + 3*x - 6*z]"
      ]
     },
     "metadata": {},
     "output_type": "display_data"
    }
   ],
   "source": [
    "Matrix(J)"
   ]
  },
  {
   "cell_type": "code",
   "execution_count": 9,
   "metadata": {},
   "outputs": [
    {
     "data": {
      "text/plain": [
       "Singular ideal over Singular Polynomial Ring (QQ),(x,y,z),(dp(3),C) with generators (x*z^2, x*y*z, x^2*z, x*z, x^2*y, x*y, x^2, x)"
      ]
     },
     "metadata": {},
     "output_type": "display_data"
    }
   ],
   "source": [
    "KBx = x*KB"
   ]
  },
  {
   "cell_type": "code",
   "execution_count": 10,
   "metadata": {},
   "outputs": [
    {
     "data": {
      "text/html": [
       "16*x*z^2 + 3*y*z - 40*z + 3"
      ],
      "text/latex": [
       "16 x z^{2} + 3 y z - 40 z + 3"
      ],
      "text/plain": [
       "16*x*z^2 + 3*y*z - 40*z + 3"
      ]
     },
     "metadata": {},
     "output_type": "display_data"
    }
   ],
   "source": [
    "fk = x*z^2\n",
    "fj = 16*x*z^2 + 3*y*z - 40*z + 3\n"
   ]
  },
  {
   "cell_type": "code",
   "execution_count": null,
   "metadata": {},
   "outputs": [],
   "source": []
  },
  {
   "cell_type": "code",
   "execution_count": 11,
   "metadata": {},
   "outputs": [
    {
     "name": "stdout",
     "output_type": "stream",
     "text": [
      "16\n",
      "3\n",
      "-40\n",
      "3\n"
     ]
    }
   ],
   "source": [
    "for c in coefficients(fj)\n",
    "    println(c)\n",
    " end"
   ]
  },
  {
   "cell_type": "code",
   "execution_count": 12,
   "metadata": {},
   "outputs": [
    {
     "name": "stdout",
     "output_type": "stream",
     "text": [
      "16*x*z^2\n"
     ]
    },
    {
     "name": "stdout",
     "output_type": "stream",
     "text": [
      "3*y*z\n",
      "-40*z\n",
      "3\n"
     ]
    }
   ],
   "source": [
    "for c in terms(fj)\n",
    "    println(c)\n",
    " end"
   ]
  },
  {
   "cell_type": "code",
   "execution_count": 13,
   "metadata": {},
   "outputs": [
    {
     "name": "stdout",
     "output_type": "stream",
     "text": [
      "x*z^2\n"
     ]
    }
   ],
   "source": [
    "for c in collect(monomials(fj))\n",
    "    \n",
    "    if c == fk\n",
    "    println(c)\n",
    "    end\n",
    " end"
   ]
  },
  {
   "cell_type": "code",
   "execution_count": 22,
   "metadata": {},
   "outputs": [
    {
     "data": {
      "text/plain": [
       "true"
      ]
     },
     "metadata": {},
     "output_type": "display_data"
    }
   ],
   "source": [
    "collect(monomials(fj))[1]==fk"
   ]
  },
  {
   "cell_type": "code",
   "execution_count": 15,
   "metadata": {},
   "outputs": [
    {
     "name": "stdout",
     "output_type": "stream",
     "text": [
      "16*x*z^2\n",
      "3*y*z\n",
      "-40*z\n",
      "3\n"
     ]
    }
   ],
   "source": [
    "monos = collect(monomials(fj))\n",
    "coeffs = collect(coefficients(fj))\n",
    "for i in 1:length(monos)\n",
    "    m = monos[i]\n",
    "    c = coeffs[i]\n",
    "    println(c*m)\n",
    " end"
   ]
  },
  {
   "cell_type": "code",
   "execution_count": 16,
   "metadata": {},
   "outputs": [
    {
     "name": "stdout",
     "output_type": "stream",
     "text": [
      "true\n"
     ]
    }
   ],
   "source": [
    "monos = collect(monomials(fj))\n",
    "coeffs = collect(coefficients(fj))\n",
    "if fk in monos\n",
    "    println(true)\n",
    "end"
   ]
  },
  {
   "cell_type": "code",
   "execution_count": 17,
   "metadata": {},
   "outputs": [
    {
     "name": "stdout",
     "output_type": "stream",
     "text": [
      "16*x*z^2\n",
      "3*y*z\n",
      "-40*z\n",
      "3\n"
     ]
    }
   ],
   "source": [
    "monos = collect(monomials(fj))\n",
    "coeffs = collect(coefficients(fj))\n",
    "arr = []\n",
    "for i in 1:length(monos)\n",
    "    m = monos[i]\n",
    "    c = coeffs[i]\n",
    "    if m == fk\n",
    "        \n",
    "    end\n",
    "    println(c*m)\n",
    " end"
   ]
  },
  {
   "cell_type": "code",
   "execution_count": 18,
   "metadata": {},
   "outputs": [
    {
     "data": {
      "text/plain": [
       "8-element Vector{spoly{n_Q}}:\n",
       " x*z^2\n",
       " x*y*z\n",
       " x^2*z\n",
       " x*z\n",
       " x^2*y\n",
       " x*y\n",
       " x^2\n",
       " x"
      ]
     },
     "metadata": {},
     "output_type": "display_data"
    }
   ],
   "source": [
    "jota = collect(gens(J))\n",
    "ka = collect(gens(KB))\n",
    "kax = collect(gens(KB*x))"
   ]
  },
  {
   "cell_type": "code",
   "execution_count": 19,
   "metadata": {},
   "outputs": [
    {
     "data": {
      "text/plain": [
       "funcionPrueba (generic function with 1 method)"
      ]
     },
     "metadata": {},
     "output_type": "display_data"
    }
   ],
   "source": [
    "function funcionPrueba(variable)\n",
    "    Mx=[]\n",
    "    for k in ka\n",
    "        #if !(variable*k in ka)\n",
    "            for j in jota \n",
    "                monos = collect(monomials(j))\n",
    "                coeffs = collect(coefficients(j))\n",
    "                arr=[]\n",
    "                a = 1\n",
    "                if variable*k in monos\n",
    "                    for k2 in ka \n",
    "                        if k2 in monos || k==k2\n",
    "                            falta = true\n",
    "                            for i in 1:length(monos)\n",
    "                                \n",
    "                                if k2 == monos[i]\n",
    "                                    push!(arr,-parse(Float64, string(coeffs[i])))\n",
    "                                    falta = false\n",
    "                                end\n",
    "                                if k==k2 && variable*k2 == monos[i]\n",
    "                                    a = parse(Float64, string(coeffs[i]))\n",
    "                                end\n",
    "                            end\n",
    "                            if falta\n",
    "                                push!(arr,0)\n",
    "                            end\n",
    "                        else\n",
    "                            push!(arr,0)\n",
    "                        end\n",
    "                    end\n",
    "                    arr2 = [ar/a for ar in arr]\n",
    "                    push!(Mx,arr2)\n",
    "                    break\n",
    "                end\n",
    "            end\n",
    "        #else\n",
    "            \n",
    "        #end \n",
    "    end\n",
    "    return Mx\n",
    "end"
   ]
  },
  {
   "cell_type": "code",
   "execution_count": 20,
   "metadata": {},
   "outputs": [
    {
     "ename": "MethodError",
     "evalue": "MethodError: no method matching funcionPrueba()\nClosest candidates are:\n  funcionPrueba(!Matched::Any) at ~/ProyectoGrado/Nuevo.ipynb:1",
     "output_type": "error",
     "traceback": [
      "MethodError: no method matching funcionPrueba()\n",
      "Closest candidates are:\n",
      "  funcionPrueba(!Matched::Any) at ~/ProyectoGrado/Nuevo.ipynb:1\n",
      "\n",
      "Stacktrace:\n",
      " [1] top-level scope\n",
      "   @ ~/ProyectoGrado/Nuevo.ipynb:1"
     ]
    }
   ],
   "source": [
    "funcionPrueba()"
   ]
  }
 ],
 "metadata": {
  "kernelspec": {
   "display_name": "Julia 1.8.5",
   "language": "julia",
   "name": "julia-1.8"
  },
  "language_info": {
   "file_extension": ".jl",
   "mimetype": "application/julia",
   "name": "julia",
   "version": "1.8.5"
  },
  "orig_nbformat": 4
 },
 "nbformat": 4,
 "nbformat_minor": 2
}
