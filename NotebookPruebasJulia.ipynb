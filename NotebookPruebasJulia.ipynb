{
 "cells": [
  {
   "cell_type": "code",
   "execution_count": 51,
   "id": "485413d5",
   "metadata": {},
   "outputs": [],
   "source": [
    "using Singular"
   ]
  },
  {
   "cell_type": "code",
   "execution_count": 52,
   "id": "24b21d8e",
   "metadata": {},
   "outputs": [
    {
     "name": "stdout",
     "output_type": "stream",
     "text": [
      "  0.000066 seconds (33 allocations: 1.141 KiB)\n",
      "  0.000059 seconds (13 allocations: 368 bytes)\n",
      "  0.000113 seconds (2 allocations: 48 bytes)\n",
      "Singular ideal over Singular Polynomial Ring (QQ),(x,y),(dp(2),C) with generators (x*y - 2, x^2 + y^2 - 1, y^3 + 2*x - y)\n"
     ]
    }
   ],
   "source": [
    "# Definir el anillo y las variables\n",
    "@time R, (x, y) = PolynomialRing(QQ, [\"x\", \"y\"])\n",
    "\n",
    "# Definir el ideal generado por un conjunto de polinomios\n",
    "@time I = Ideal(R,[x^2 + y^2 - 1, x*y - 2])\n",
    "\n",
    "# Calcular la base de Groebner del ideal\n",
    "@time G = std(I)\n",
    "\n",
    "# Imprimir la base de Groebner\n",
    "println(G)\n"
   ]
  },
  {
   "cell_type": "code",
   "execution_count": 53,
   "id": "e48b6ac0",
   "metadata": {},
   "outputs": [
    {
     "data": {
      "text/plain": [
       "Singular ideal over Singular Polynomial Ring (QQ),(x,y,z),(dp(3),C) with generators (x^2 - 2*x*z + 5, x*y^2 + y*z + 1, 3*y^2 - 8*x*z)"
      ]
     },
     "metadata": {},
     "output_type": "display_data"
    }
   ],
   "source": [
    "# Ejercicio 2.4.4 UAG D.A. J.L. D.O.\n",
    "R, (x, y, z) = PolynomialRing(QQ, [\"x\",\"y\",\"z\"])\n",
    "f1 = x^2 - 2 * x * z + 5\n",
    "f2 = x * y^2 + y * z + 1\n",
    "f3 = 3 * y^2 - 8 * x * z\n",
    "I = Ideal(R,[f1,f2,f3])"
   ]
  },
  {
   "cell_type": "code",
   "execution_count": 66,
   "id": "82e973f6",
   "metadata": {},
   "outputs": [
    {
     "name": "stdout",
     "output_type": "stream",
     "text": [
      "  0.024024 seconds (9.92 k allocations: 130.891 KiB)\n",
      "Singular ideal over Singular Polynomial Ring (QQ),(x,y,z),(dp(3),C) with generators (3*y^2 - 8*x*z, x^2 - 2*x*z + 5, 160*z^3 - 160*x*z + 415*y*z + 12*x - 30*y - 224*z + 15, 240*y*z^2 - 9*x*y + 1600*x*z + 18*y*z + 120*z^2 - 120*x + 240*z, 16*x*z^2 + 3*y*z - 40*z + 3, 40*x*y*z - 3*x*y + 6*y*z + 40*z^2)\n"
     ]
    }
   ],
   "source": [
    "# Calcular la base de Groebner del ideal mediante  el FGLM algorithm\n",
    "@time J = fglm(I, :lex)\n",
    "println(J)"
   ]
  },
  {
   "cell_type": "code",
   "execution_count": 67,
   "id": "abeeb9de",
   "metadata": {},
   "outputs": [
    {
     "name": "stdout",
     "output_type": "stream",
     "text": [
      "  0.000419 seconds (2 allocations: 48 bytes)\n",
      "Singular ideal over Singular Polynomial Ring (QQ),(x,y,z),(dp(3),C) with generators (3*y^2 - 8*x*z, x^2 - 2*x*z + 5, 160*z^3 - 160*x*z + 415*y*z + 12*x - 30*y - 224*z + 15, 240*y*z^2 - 9*x*y + 1600*x*z + 18*y*z + 120*z^2 - 120*x + 240*z, 16*x*z^2 + 3*y*z - 40*z + 3, 3*x*y*z - 6*y*z^2 - 40*x*z + 3*x - 6*z)\n"
     ]
    }
   ],
   "source": [
    "# Calcular la base de Groebner del ideal 2\n",
    "@time J2 = std(I)\n",
    "println(J2)"
   ]
  },
  {
   "cell_type": "code",
   "execution_count": 56,
   "id": "3161de87",
   "metadata": {},
   "outputs": [
    {
     "data": {
      "text/plain": [
       "8"
      ]
     },
     "metadata": {},
     "output_type": "display_data"
    }
   ],
   "source": [
    "# Dimension del espacio vectorial\n",
    "vdim(J)"
   ]
  },
  {
   "cell_type": "code",
   "execution_count": 57,
   "id": "2bbbfcd7",
   "metadata": {},
   "outputs": [
    {
     "name": "stdout",
     "output_type": "stream",
     "text": [
      "  0.000042 seconds (2 allocations: 48 bytes)\n"
     ]
    },
    {
     "data": {
      "text/plain": [
       "Singular ideal over Singular Polynomial Ring (QQ),(x,y,z),(dp(3),C) with generators (z^2, y*z, x*z, z, x*y, y, x, 1)"
      ]
     },
     "metadata": {},
     "output_type": "display_data"
    }
   ],
   "source": [
    "@time KB = kbase(J)"
   ]
  },
  {
   "cell_type": "code",
   "execution_count": 58,
   "id": "997b756f",
   "metadata": {},
   "outputs": [
    {
     "name": "stdout",
     "output_type": "stream",
     "text": [
      "  0.000038 seconds (2 allocations: 48 bytes)\n"
     ]
    },
    {
     "data": {
      "text/plain": [
       "Singular ideal over Singular Polynomial Ring (QQ),(x,y,z),(dp(3),C) with generators (z^2, y*z, x*z, z, x*y, y, x, 1)"
      ]
     },
     "metadata": {},
     "output_type": "display_data"
    }
   ],
   "source": [
    "@time KB2 = kbase(J2)"
   ]
  },
  {
   "cell_type": "code",
   "execution_count": 59,
   "id": "cf1d4a9c",
   "metadata": {},
   "outputs": [
    {
     "data": {
      "text/plain": [
       "Singular ideal over Singular Polynomial Ring (QQ),(x,y,z),(dp(3),C) with generators (x*z^2, x*y*z, x^2*z, x*z, x^2*y, x*y, x^2, x)"
      ]
     },
     "metadata": {},
     "output_type": "display_data"
    }
   ],
   "source": [
    "KBx = (x*KB)"
   ]
  },
  {
   "cell_type": "code",
   "execution_count": 60,
   "id": "63a79b2e",
   "metadata": {},
   "outputs": [
    {
     "data": {
      "text/plain": [
       "6-element Vector{spoly{n_Q}}:\n",
       " 3*y^2 - 8*x*z\n",
       " x^2 - 2*x*z + 5\n",
       " 160*z^3 - 160*x*z + 415*y*z + 12*x - 30*y - 224*z + 15\n",
       " 240*y*z^2 - 9*x*y + 1600*x*z + 18*y*z + 120*z^2 - 120*x + 240*z\n",
       " 16*x*z^2 + 3*y*z - 40*z + 3\n",
       " 40*x*y*z - 3*x*y + 6*y*z + 40*z^2"
      ]
     },
     "metadata": {},
     "output_type": "display_data"
    }
   ],
   "source": [
    "gens(J)"
   ]
  },
  {
   "cell_type": "code",
   "execution_count": 61,
   "id": "d542ba61",
   "metadata": {},
   "outputs": [
    {
     "data": {
      "text/plain": [
       "(Singular Polynomial Quotient Ring (QQ),(x,y,z),(dp(3),C), spoly{n_Q}[x, y, z])"
      ]
     },
     "metadata": {},
     "output_type": "display_data"
    }
   ],
   "source": [
    "S = QuotientRing(R, J)\n"
   ]
  },
  {
   "cell_type": "code",
   "execution_count": 62,
   "id": "9a216fb3",
   "metadata": {},
   "outputs": [
    {
     "data": {
      "text/plain": [
       "3-element Vector{Int64}:\n",
       " 1\n",
       " 0\n",
       " 2"
      ]
     },
     "metadata": {},
     "output_type": "display_data"
    }
   ],
   "source": [
    "f = x*z^2\n",
    "degrees(f)"
   ]
  },
  {
   "cell_type": "code",
   "execution_count": 63,
   "metadata": {},
   "outputs": [
    {
     "name": "stdout",
     "output_type": "stream",
     "text": [
      "3*y^2 - 8*x*z\n",
      "x^2 - 2*x*z + 5\n",
      "160*z^3 - 160*x*z + 415*y*z + 12*x - 30*y - 224*z + 15\n",
      "240*y*z^2 - 9*x*y + 1600*x*z + 18*y*z + 120*z^2 - 120*x + 240*z\n",
      "16*x*z^2 + 3*y*z - 40*z + 3\n",
      "40*x*y*z - 3*x*y + 6*y*z + 40*z^2\n"
     ]
    }
   ],
   "source": [
    "for i in gens(J)\n",
    "    println(i)\n",
    "end"
   ]
  },
  {
   "cell_type": "code",
   "execution_count": 64,
   "id": "5b25f0a2",
   "metadata": {},
   "outputs": [],
   "source": []
  },
  {
   "cell_type": "code",
   "execution_count": 65,
   "id": "6357dea2",
   "metadata": {},
   "outputs": [
    {
     "data": {
      "text/html": [
       "1"
      ],
      "text/latex": [
       "1"
      ],
      "text/plain": [
       "1"
      ]
     },
     "metadata": {},
     "output_type": "display_data"
    }
   ],
   "source": [
    "ff = 3*y^2 - 8*x*z\n",
    "\n",
    "content(ff)"
   ]
  }
 ],
 "metadata": {
  "kernelspec": {
   "display_name": "Julia 1.8.5",
   "language": "julia",
   "name": "julia-1.8"
  },
  "language_info": {
   "file_extension": ".jl",
   "mimetype": "application/julia",
   "name": "julia",
   "version": "1.8.5"
  }
 },
 "nbformat": 4,
 "nbformat_minor": 5
}
