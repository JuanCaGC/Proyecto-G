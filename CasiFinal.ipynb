{
 "cells": [
  {
   "cell_type": "code",
   "execution_count": 156,
   "metadata": {},
   "outputs": [],
   "source": [
    "using Singular"
   ]
  },
  {
   "cell_type": "code",
   "execution_count": 157,
   "metadata": {},
   "outputs": [],
   "source": [
    "using Nemo"
   ]
  },
  {
   "cell_type": "code",
   "execution_count": 158,
   "metadata": {},
   "outputs": [],
   "source": [
    "using LinearAlgebra"
   ]
  },
  {
   "cell_type": "code",
   "execution_count": 159,
   "metadata": {},
   "outputs": [
    {
     "name": "stdout",
     "output_type": "stream",
     "text": [
      "  0.000107 seconds (33 allocations: 1.141 KiB)\n",
      "  0.000054 seconds (11 allocations: 304 bytes)\n"
     ]
    },
    {
     "name": "stdout",
     "output_type": "stream",
     "text": [
      "  0.000148 seconds (2 allocations: 48 bytes)\n",
      "Singular ideal over Singular Polynomial Ring (QQ),(x,y),(dp(2),C) with generators (y^2 - 1, x^3 - 1)\n"
     ]
    }
   ],
   "source": [
    "# Definir el anillo y las variables\n",
    "@time R, (x, y) = PolynomialRing(QQ, [\"x\", \"y\"])\n",
    "\n",
    "# Definir el ideal generado por un conjunto de polinomios\n",
    "@time I = Ideal(R,[x^3 - 1, y^2 - 1])\n",
    "\n",
    "# Calcular la base de Groebner del ideal\n",
    "@time G = std(I)\n",
    "\n",
    "# Imprimir la base de Groebner\n",
    "println(G)\n"
   ]
  },
  {
   "cell_type": "code",
   "execution_count": 160,
   "metadata": {},
   "outputs": [
    {
     "name": "stdout",
     "output_type": "stream",
     "text": [
      "  0.000033 seconds (2 allocations: 48 bytes)\n"
     ]
    },
    {
     "data": {
      "text/plain": [
       "Singular ideal over Singular Polynomial Ring (QQ),(x,y),(dp(2),C) with generators (x^2*y, x*y, y, x^2, x, 1)"
      ]
     },
     "metadata": {},
     "output_type": "display_data"
    }
   ],
   "source": [
    "@time KB = kbase(G)"
   ]
  },
  {
   "cell_type": "code",
   "execution_count": 161,
   "metadata": {},
   "outputs": [
    {
     "data": {
      "text/plain": [
       "Singular ideal over Singular Polynomial Ring (QQ),(x,y),(dp(2),C) with generators (x^3*y, x^2*y, x*y, x^3, x^2, x)"
      ]
     },
     "metadata": {},
     "output_type": "display_data"
    }
   ],
   "source": [
    "KBx = x*KB"
   ]
  },
  {
   "cell_type": "code",
   "execution_count": 162,
   "metadata": {},
   "outputs": [
    {
     "data": {
      "text/plain": [
       "6-element Vector{spoly{n_Q}}:\n",
       " x^2*y\n",
       " x*y\n",
       " y\n",
       " x^2\n",
       " x\n",
       " 1"
      ]
     },
     "metadata": {},
     "output_type": "display_data"
    }
   ],
   "source": [
    "ge = collect(gens(G))\n",
    "kb = collect(gens(KB))"
   ]
  },
  {
   "cell_type": "code",
   "execution_count": 163,
   "metadata": {},
   "outputs": [
    {
     "data": {
      "text/plain": [
       "funcionPrueba (generic function with 1 method)"
      ]
     },
     "metadata": {},
     "output_type": "display_data"
    }
   ],
   "source": [
    "function funcionPrueba(variable)\n",
    "    Mx = []\n",
    "    for k in kb\n",
    "        arr=[]\n",
    "        if !(variable*k in kb)\n",
    "            r = variable*k\n",
    "            monos = collect(monomials(r))\n",
    "            coeffs = collect(coefficients(r))\n",
    "            i = 1\n",
    "            while !(all(b -> in(b, kb), monos)) \n",
    "                g = ge[i]\n",
    "                if x^2*y == x*k\n",
    "                #println(r)\n",
    "                end\n",
    "                q,r = divrem(r,g)\n",
    "                i+=1\n",
    "                if i > length(ge)\n",
    "                    i = 1\n",
    "                end\n",
    "                monos = collect(monomials(r))\n",
    "                coeffs = collect(coefficients(r))\n",
    "            end\n",
    "            if x^2*y == x*k\n",
    "            #println(\"Ultimo r\")\n",
    "            #println(r)\n",
    "            end\n",
    "            \n",
    "            for ka2 in kb\n",
    "                if ka2 in monos \n",
    "                    for j in 1:length(monos)\n",
    "                        if ka2 == monos[j]\n",
    "                            push!(arr,coeffs[j])\n",
    "                        end\n",
    "                    end\n",
    "                else\n",
    "                    push!(arr,0)\n",
    "                end\n",
    "            end\n",
    "        else\n",
    "            for ka in kb\n",
    "                if variable*k == ka\n",
    "                    push!(arr,1)\n",
    "                else\n",
    "                    push!(arr,0)\n",
    "                end\n",
    "            end\n",
    "        end\n",
    "        push!(Mx,arr)\n",
    "        if x^2*y == x*k\n",
    "        #println(arr)\n",
    "        end\n",
    "    end\n",
    "    Mx = reduce(hcat,Mx)\n",
    "    return Mx\n",
    "end"
   ]
  },
  {
   "cell_type": "code",
   "execution_count": 164,
   "metadata": {},
   "outputs": [
    {
     "data": {
      "text/plain": [
       "6×6 Matrix{Any}:\n",
       " 0   1  0  0   0  0\n",
       " 0   0  1  0   0  0\n",
       "  1  0  0  0   0  0\n",
       " 0   0  0  0   1  0\n",
       " 0   0  0  0   0  1\n",
       " 0   0  0   1  0  0"
      ]
     },
     "metadata": {},
     "output_type": "display_data"
    }
   ],
   "source": [
    "Mx = funcionPrueba(x)"
   ]
  },
  {
   "cell_type": "code",
   "execution_count": 165,
   "metadata": {},
   "outputs": [
    {
     "data": {
      "text/plain": [
       "6×6 Matrix{Any}:\n",
       " 0   0   0   1  0  0\n",
       " 0   0   0   0  1  0\n",
       " 0   0   0   0  0  1\n",
       "  1  0   0   0  0  0\n",
       " 0    1  0   0  0  0\n",
       " 0   0    1  0  0  0"
      ]
     },
     "metadata": {},
     "output_type": "display_data"
    }
   ],
   "source": [
    "My = funcionPrueba(y)"
   ]
  },
  {
   "cell_type": "code",
   "execution_count": 166,
   "metadata": {},
   "outputs": [
    {
     "data": {
      "text/plain": [
       "Eigen{ComplexF64, ComplexF64, Matrix{ComplexF64}, Vector{ComplexF64}}\n",
       "values:\n",
       "6-element Vector{ComplexF64}:\n",
       "               -0.5 - 0.8660254037844389im\n",
       "               -0.5 - 0.8660254037844389im\n",
       "               -0.5 + 0.8660254037844389im\n",
       "               -0.5 + 0.8660254037844389im\n",
       " 0.9999999999999998 + 0.0im\n",
       " 0.9999999999999998 + 0.0im\n",
       "vectors:\n",
       "6×6 Matrix{ComplexF64}:\n",
       "   0.57735-0.0im        0.0-0.0im  …  -0.57735+0.0im       0.0+0.0im\n",
       " -0.288675-0.5im        0.0-0.0im     -0.57735+0.0im       0.0+0.0im\n",
       " -0.288675+0.5im        0.0-0.0im     -0.57735+0.0im       0.0+0.0im\n",
       "       0.0-0.0im    0.57735-0.0im          0.0+0.0im  -0.57735+0.0im\n",
       "       0.0-0.0im  -0.288675-0.5im          0.0+0.0im  -0.57735+0.0im\n",
       "       0.0-0.0im  -0.288675+0.5im  …       0.0+0.0im  -0.57735+0.0im"
      ]
     },
     "metadata": {},
     "output_type": "display_data"
    }
   ],
   "source": [
    "Mxx =Matrix{Rational}(Mx)\n",
    "eigen(Mxx)"
   ]
  },
  {
   "cell_type": "code",
   "execution_count": 167,
   "metadata": {},
   "outputs": [
    {
     "data": {
      "text/html": [
       "[0 1 0 0 0 0; 0 0 1 0 0 0; 1 0 0 0 0 0; 0 0 0 0 1 0; 0 0 0 0 0 1; 0 0 0 1 0 0]"
      ],
      "text/latex": [
       "\\begin{array}{cccccc}\n",
       "0 & 1 & 0 & 0 & 0 & 0 \\\\\n",
       "0 & 0 & 1 & 0 & 0 & 0 \\\\\n",
       "1 & 0 & 0 & 0 & 0 & 0 \\\\\n",
       "0 & 0 & 0 & 0 & 1 & 0 \\\\\n",
       "0 & 0 & 0 & 0 & 0 & 1 \\\\\n",
       "0 & 0 & 0 & 1 & 0 & 0\n",
       "\\end{array}"
      ],
      "text/plain": [
       "[0   1   0   0   0   0]\n",
       "[0   0   1   0   0   0]\n",
       "[1   0   0   0   0   0]\n",
       "[0   0   0   0   1   0]\n",
       "[0   0   0   0   0   1]\n",
       "[0   0   0   1   0   0]"
      ]
     },
     "metadata": {},
     "output_type": "display_data"
    }
   ],
   "source": [
    "M2x = matrix(Nemo.QQ,Mx)"
   ]
  },
  {
   "cell_type": "code",
   "execution_count": 168,
   "metadata": {},
   "outputs": [
    {
     "data": {
      "text/plain": [
       "6-element Vector{qqbar}:\n",
       " Root 1.00000 of x - 1\n",
       " Root 1.00000 of x - 1\n",
       " Root -0.500000 + 0.866025*im of x^2 + x + 1\n",
       " Root -0.500000 + 0.866025*im of x^2 + x + 1\n",
       " Root -0.500000 - 0.866025*im of x^2 + x + 1\n",
       " Root -0.500000 - 0.866025*im of x^2 + x + 1"
      ]
     },
     "metadata": {},
     "output_type": "display_data"
    }
   ],
   "source": [
    "\n",
    "eigenvalues(M2x, QQBar)"
   ]
  },
  {
   "cell_type": "code",
   "execution_count": 169,
   "metadata": {},
   "outputs": [
    {
     "data": {
      "text/html": [
       "[0 0 0 1 0 0; 0 0 0 0 1 0; 0 0 0 0 0 1; 1 0 0 0 0 0; 0 1 0 0 0 0; 0 0 1 0 0 0]"
      ],
      "text/latex": [
       "\\begin{array}{cccccc}\n",
       "0 & 0 & 0 & 1 & 0 & 0 \\\\\n",
       "0 & 0 & 0 & 0 & 1 & 0 \\\\\n",
       "0 & 0 & 0 & 0 & 0 & 1 \\\\\n",
       "1 & 0 & 0 & 0 & 0 & 0 \\\\\n",
       "0 & 1 & 0 & 0 & 0 & 0 \\\\\n",
       "0 & 0 & 1 & 0 & 0 & 0\n",
       "\\end{array}"
      ],
      "text/plain": [
       "[0   0   0   1   0   0]\n",
       "[0   0   0   0   1   0]\n",
       "[0   0   0   0   0   1]\n",
       "[1   0   0   0   0   0]\n",
       "[0   1   0   0   0   0]\n",
       "[0   0   1   0   0   0]"
      ]
     },
     "metadata": {},
     "output_type": "display_data"
    }
   ],
   "source": [
    "M2y = matrix(Nemo.QQ,My)"
   ]
  },
  {
   "cell_type": "code",
   "execution_count": 170,
   "metadata": {},
   "outputs": [
    {
     "data": {
      "text/plain": [
       "6-element Vector{qqbar}:\n",
       " Root 1.00000 of x - 1\n",
       " Root 1.00000 of x - 1\n",
       " Root 1.00000 of x - 1\n",
       " Root -1.00000 of x + 1\n",
       " Root -1.00000 of x + 1\n",
       " Root -1.00000 of x + 1"
      ]
     },
     "metadata": {},
     "output_type": "display_data"
    }
   ],
   "source": [
    "eigenvalues(M2y, QQBar)"
   ]
  }
 ],
 "metadata": {
  "kernelspec": {
   "display_name": "Julia 1.8.5",
   "language": "julia",
   "name": "julia-1.8"
  },
  "language_info": {
   "file_extension": ".jl",
   "mimetype": "application/julia",
   "name": "julia",
   "version": "1.8.5"
  },
  "orig_nbformat": 4
 },
 "nbformat": 4,
 "nbformat_minor": 2
}
