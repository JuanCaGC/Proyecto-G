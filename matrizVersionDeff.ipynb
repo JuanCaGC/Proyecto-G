{
 "cells": [
  {
   "cell_type": "code",
   "execution_count": 73,
   "metadata": {},
   "outputs": [],
   "source": [
    "using Oscar"
   ]
  },
  {
   "cell_type": "code",
   "execution_count": 74,
   "metadata": {},
   "outputs": [
    {
     "data": {
      "text/plain": [
       "(Multivariate Polynomial Ring in x, y, z over Rational Field, fmpq_mpoly[x, y, z])"
      ]
     },
     "metadata": {},
     "output_type": "display_data"
    }
   ],
   "source": [
    "R, (x, y, z) = PolynomialRing(QQ, [\"x\",\"y\",\"z\"],ordering = :degrevlex)\n"
   ]
  },
  {
   "cell_type": "code",
   "execution_count": 75,
   "metadata": {},
   "outputs": [
    {
     "data": {
      "text/html": [
       "ideal(x^2 - 2*x*z + 5, x*y^2 + y*z + 1, 3*y^2 - 8*x*z)"
      ],
      "text/latex": [
       "\\mathop{\\mathrm{ideal}}\\left(x^{2} - 2 x z + 5, x y^{2} + y z + 1, 3 y^{2} - 8 x z\\right)"
      ],
      "text/plain": [
       "ideal(x^2 - 2*x*z + 5, x*y^2 + y*z + 1, 3*y^2 - 8*x*z)"
      ]
     },
     "metadata": {},
     "output_type": "display_data"
    }
   ],
   "source": [
    "f1 = x^2 - 2 * x * z + 5\n",
    "f2 = x * y^2 + y * z + 1\n",
    "f3 = 3 * y^2 - 8 * x * z\n",
    "I = ideal(R,[f1,f2,f3])"
   ]
  },
  {
   "cell_type": "code",
   "execution_count": 76,
   "metadata": {},
   "outputs": [
    {
     "data": {
      "text/plain": [
       "Gröbner basis with elements\n",
       "1 -> 3*y^2 - 8*x*z\n",
       "2 -> x^2 - 2*x*z + 5\n",
       "3 -> 160*z^3 - 160*x*z + 415*y*z + 12*x - 30*y - 224*z + 15\n",
       "4 -> 240*y*z^2 - 9*x*y + 1600*x*z + 18*y*z + 120*z^2 - 120*x + 240*z\n",
       "5 -> 16*x*z^2 + 3*y*z - 40*z + 3\n",
       "6 -> 3*x*y*z - 6*y*z^2 - 40*x*z + 3*x - 6*z\n",
       "with respect to the ordering\n",
       "degrevlex([x, y, z])"
      ]
     },
     "metadata": {},
     "output_type": "display_data"
    }
   ],
   "source": [
    "G = groebner_basis(I)\n"
   ]
  },
  {
   "cell_type": "code",
   "execution_count": 77,
   "metadata": {},
   "outputs": [
    {
     "data": {
      "text/html": [
       "ideal(3*y^2 - 8*x*z, x^2 - 2*x*z + 5, 160*z^3 - 160*x*z + 415*y*z + 12*x - 30*y - 224*z + 15, 240*y*z^2 - 9*x*y + 1600*x*z + 18*y*z + 120*z^2 - 120*x + 240*z, 16*x*z^2 + 3*y*z - 40*z + 3, 3*x*y*z - 6*y*z^2 - 40*x*z + 3*x - 6*z)"
      ],
      "text/latex": [
       "\\mathop{\\mathrm{ideal}}\\left(3 y^{2} - 8 x z, x^{2} - 2 x z + 5, 160 z^{3} - 160 x z + 415 y z + 12 x - 30 y - 224 z + 15, 240 y z^{2} - 9 x y + 1600 x z + 18 y z + 120 z^{2} - 120 x + 240 z, 16 x z^{2} + 3 y z - 40 z + 3, 3 x y z - 6 y z^{2} - 40 x z + 3 x - 6 z\\right)"
      ],
      "text/plain": [
       "ideal(3*y^2 - 8*x*z, x^2 - 2*x*z + 5, 160*z^3 - 160*x*z + 415*y*z + 12*x - 30*y - 224*z + 15, 240*y*z^2 - 9*x*y + 1600*x*z + 18*y*z + 120*z^2 - 120*x + 240*z, 16*x*z^2 + 3*y*z - 40*z + 3, 3*x*y*z - 6*y*z^2 - 40*x*z + 3*x - 6*z)"
      ]
     },
     "metadata": {},
     "output_type": "display_data"
    }
   ],
   "source": [
    "Gi = ideal(G) "
   ]
  },
  {
   "cell_type": "code",
   "execution_count": 78,
   "metadata": {},
   "outputs": [
    {
     "data": {
      "text/plain": [
       "dimQI (generic function with 1 method)"
      ]
     },
     "metadata": {},
     "output_type": "display_data"
    }
   ],
   "source": [
    "function dimQI(v,lista)\n",
    "    max = 0\n",
    "    leadmons = Set([leading_monomial(f) for f in lista])\n",
    "    for p in leadmons\n",
    "        if v in vars(p)\n",
    "            m = degree(p, v)\n",
    "            if m> max\n",
    "                max = m\n",
    "            end\n",
    "        end\n",
    "    end\n",
    "    return max\n",
    "end"
   ]
  },
  {
   "cell_type": "code",
   "execution_count": 79,
   "metadata": {},
   "outputs": [
    {
     "data": {
      "text/plain": [
       "kbasis (generic function with 1 method)"
      ]
     },
     "metadata": {},
     "output_type": "display_data"
    }
   ],
   "source": [
    "function kbasis(GB, VList)\n",
    "    # devuelve una lista de monomios que forman una base del anillo cociente, donde GB es una base de Gröbner para un ideal de dimensión cero, y genera un mensaje de error si el ideal no es de dimensión cero.\n",
    "    \n",
    "    if iszero(dim(GB))  # verifica si el ideal es de dimensión cero\n",
    "        Gb = collect(gens(GB))\n",
    "        B = [(div(VList[1],VList[1])) ]  # inicializa la lista de monomios de la base con el monomio 1\n",
    "        leadmons = Set([leading_monomial(f) for f in Gb])  # crea un conjunto de los monomios principales de cada polinomio en la base de Gröbner\n",
    "        for v in VList\n",
    "            m = dimQI(v, leadmons)  # determina el grado de la variable v en el anillo cociente\n",
    "            C = copy(B)  # crea una copia de la lista de monomios actual como base para la siguiente iteración\n",
    "            for t in C\n",
    "                for l in 1:m-1\n",
    "                    t = t*v  # multiplica el monomio actual por la variable v\n",
    "                    if  !(any((divrem(t,u)[2] == 0) for u in leadmons))  # verifica si alguno de los monomios principales de la base de Gröbner divide al nuevo monomio\n",
    "                        push!(B, t)  # si ningún monomio principal lo divide, agrega el nuevo monomio a la lista de monomios de la base\n",
    "                    end\n",
    "                end\n",
    "            end\n",
    "        end\n",
    "        return B  # devuelve la lista de monomios de la base\n",
    "    else\n",
    "        error(\"el ideal no es de dimensión cero\")\n",
    "    end\n",
    "end"
   ]
  },
  {
   "cell_type": "code",
   "execution_count": 80,
   "metadata": {},
   "outputs": [
    {
     "data": {
      "text/plain": [
       "8-element Vector{fmpq_mpoly}:\n",
       " 1\n",
       " x\n",
       " y\n",
       " x*y\n",
       " z\n",
       " z^2\n",
       " x*z\n",
       " y*z"
      ]
     },
     "metadata": {},
     "output_type": "display_data"
    }
   ],
   "source": [
    "KB = kbasis(Gi,[x,y,z])"
   ]
  },
  {
   "cell_type": "code",
   "execution_count": 81,
   "metadata": {},
   "outputs": [
    {
     "data": {
      "text/html": [
       "ideal(1, x, y, x*y, z, z^2, x*z, y*z)"
      ],
      "text/latex": [
       "\\mathop{\\mathrm{ideal}}\\left(1, x, y, x y, z, z^{2}, x z, y z\\right)"
      ],
      "text/plain": [
       "ideal(1, x, y, x*y, z, z^2, x*z, y*z)"
      ]
     },
     "metadata": {},
     "output_type": "display_data"
    }
   ],
   "source": [
    "kb = ideal(R,KB)"
   ]
  },
  {
   "cell_type": "code",
   "execution_count": 82,
   "metadata": {},
   "outputs": [
    {
     "data": {
      "text/plain": [
       "matrixM (generic function with 1 method)"
      ]
     },
     "metadata": {},
     "output_type": "display_data"
    }
   ],
   "source": [
    "function matrixM(variable,kbase,Gbase)\n",
    "    kbx = kbase*variable\n",
    "    reducida = reduce(collect(gens(kbx)),collect(Gbase))\n",
    "    Mx = [coeff(kr,k) for k in collect(gens(kbase)) , kr in collect(reducida)] \n",
    "    return Mx\n",
    "end"
   ]
  },
  {
   "cell_type": "code",
   "execution_count": 83,
   "metadata": {},
   "outputs": [
    {
     "data": {
      "text/plain": [
       "8×8 Matrix{fmpq}:\n",
       " 0  -5  0  0       0  -3//16  -3//8  0\n",
       " 1  0   0  0       0  0       0      0\n",
       " 0  0   0  -5      0  0       0      0\n",
       " 0  0   1  3//20   0  0       0      3//40\n",
       " 0  0   0  0       0  5//2    0      0\n",
       " 0  0   0  -2      0  0       0      -1\n",
       " 0  2   0  0       1  0       0      0\n",
       " 0  0   0  -3//10  0  -3//16  -3//8  -3//20"
      ]
     },
     "metadata": {},
     "output_type": "display_data"
    }
   ],
   "source": [
    "matrixM(x,kb,G)"
   ]
  },
  {
   "cell_type": "code",
   "execution_count": 84,
   "metadata": {},
   "outputs": [
    {
     "data": {
      "text/plain": [
       "8×8 Matrix{fmpq}:\n",
       " 0  0  0     -1  0  0       0       -1//2\n",
       " 0  0  0     0   0  1//2    0       0\n",
       " 1  0  0     0   0  0       0       0\n",
       " 0  1  0     0   0  3//80   3//40   0\n",
       " 0  0  0     0   0  -1      0       20//3\n",
       " 0  0  0     0   0  -1//2   -1      0\n",
       " 0  0  8//3  0   0  -20//3  0       0\n",
       " 0  0  0     -1  1  -3//40  -3//20  -1//2"
      ]
     },
     "metadata": {},
     "output_type": "display_data"
    }
   ],
   "source": [
    "matrixM(y,kb,G)"
   ]
  },
  {
   "cell_type": "code",
   "execution_count": 85,
   "metadata": {},
   "outputs": [
    {
     "data": {
      "text/plain": [
       "8×8 Matrix{fmpq}:\n",
       " 0  0  0  0       0  -3//32   -3//16  0\n",
       " 0  0  0  0       0  -3//40   0       1//2\n",
       " 0  0  0  0       0  3//16    0       0\n",
       " 0  0  0  3//40   0  0        0       3//80\n",
       " 1  0  0  0       0  7//5     5//2    -1\n",
       " 0  0  0  -1      1  0        0       -1//2\n",
       " 0  1  0  0       0  1        0       -20//3\n",
       " 0  0  1  -3//20  0  -83//32  -3//16  -3//40"
      ]
     },
     "metadata": {},
     "output_type": "display_data"
    }
   ],
   "source": [
    "matrixM(z,kb,G)"
   ]
  },
  {
   "cell_type": "code",
   "execution_count": 86,
   "metadata": {},
   "outputs": [
    {
     "data": {
      "text/html": [
       "ideal(2*x^2 + 3*x*y + y^2 - 3*x - 3*y, y^3 - y, x*y^2 - x)"
      ],
      "text/latex": [
       "\\mathop{\\mathrm{ideal}}\\left(2 x^{2} + 3 x y + y^{2} - 3 x - 3 y, y^{3} - y, x y^{2} - x\\right)"
      ],
      "text/plain": [
       "ideal(2*x^2 + 3*x*y + y^2 - 3*x - 3*y, y^3 - y, x*y^2 - x)"
      ]
     },
     "metadata": {},
     "output_type": "display_data"
    }
   ],
   "source": [
    "\n",
    "R2, (x, y) = PolynomialRing(QQ, [\"x\",\"y\"],ordering = :degrevlex)\n",
    "f1 = x^2 + (3//2)*x*y + (1//2)*y^2  - (3//2)*x - (3//2)*y\n",
    "f2 = x*y^2 - x\n",
    "f3 = y^3 - y\n",
    "I2 = ideal(R2,[f1,f2,f3])\n",
    "G2 = groebner_basis(I2)\n",
    "Gi2 = ideal(G2) \n"
   ]
  },
  {
   "cell_type": "code",
   "execution_count": 87,
   "metadata": {},
   "outputs": [
    {
     "data": {
      "text/html": [
       "ideal(1, x, y, y^2, x*y)"
      ],
      "text/latex": [
       "\\mathop{\\mathrm{ideal}}\\left(1, x, y, y^{2}, x y\\right)"
      ],
      "text/plain": [
       "ideal(1, x, y, y^2, x*y)"
      ]
     },
     "metadata": {},
     "output_type": "display_data"
    }
   ],
   "source": [
    "KB2 = kbasis(Gi2,[x,y])\n",
    "kb2 = ideal(R2,KB2)"
   ]
  },
  {
   "cell_type": "code",
   "execution_count": 88,
   "metadata": {},
   "outputs": [
    {
     "data": {
      "text/plain": [
       "5×5 Matrix{fmpq}:\n",
       " 0  0      0  0  0\n",
       " 1  3//2   0  1  -3//2\n",
       " 0  3//2   0  0  -1//2\n",
       " 0  -1//2  0  0  3//2\n",
       " 0  -3//2  1  0  3//2"
      ]
     },
     "metadata": {},
     "output_type": "display_data"
    }
   ],
   "source": [
    "\n",
    "matrixM(x,kb2,G2)\n"
   ]
  }
 ],
 "metadata": {
  "kernelspec": {
   "display_name": "Julia 1.8.5",
   "language": "julia",
   "name": "julia-1.8"
  },
  "language_info": {
   "file_extension": ".jl",
   "mimetype": "application/julia",
   "name": "julia",
   "version": "1.8.5"
  },
  "orig_nbformat": 4
 },
 "nbformat": 4,
 "nbformat_minor": 2
}
